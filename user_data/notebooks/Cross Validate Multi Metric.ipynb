{
 "cells": [
  {
   "cell_type": "code",
   "execution_count": 17,
   "id": "abf67deb",
   "metadata": {},
   "outputs": [],
   "source": [
    "import numpy as np\n",
    "import pandas as pd\n",
    "from matplotlib import pyplot as plt\n",
    "from functools import partial\n",
    "\n",
    "from sklearn.datasets import make_hastie_10_2, make_classification\n",
    "from sklearn.model_selection import GridSearchCV, cross_validate, KFold\n",
    "from sklearn.metrics import make_scorer\n",
    "from sklearn.metrics import accuracy_score, f1_score, precision_score, roc_auc_score, average_precision_score, recall_score, precision_recall_curve\n",
    "from sklearn.ensemble import RandomForestClassifier"
   ]
  },
  {
   "cell_type": "markdown",
   "id": "271c9634",
   "metadata": {},
   "source": [
    "# Metrics to measure\n",
    "- Overall F1 Score\n",
    "- Precision @0.1 increments of probability\n",
    "- Recall @0.1 increments of probability\n",
    "- Count trades @0.1 increments of probability\n",
    "- Mean trade returns @0.1 increments of probability\n",
    "- 25/50/75 percentile trade returns @0.1 increments of probability\n",
    "- min/max @0.1 increments of probability\n",
    "- cum prod returns (from 1.0 to 0.0) @0.1 increments of probability (based on last value in window)\n",
    "- threshold that reflects max cum prod returns"
   ]
  },
  {
   "cell_type": "code",
   "execution_count": 18,
   "id": "85ba7e9c",
   "metadata": {},
   "outputs": [],
   "source": [
    "X, y = make_classification(n_samples=2000, n_features=10, n_informative=5, n_classes=3, )"
   ]
  },
  {
   "cell_type": "code",
   "execution_count": 19,
   "id": "bbe478ad",
   "metadata": {},
   "outputs": [],
   "source": [
    "col_names = [\"gfs\", \"gh\", \"lo\", \"we\", \"cv\", \"az\", \"my\", \"qd\", \"xf\", \"ie\"]"
   ]
  },
  {
   "cell_type": "code",
   "execution_count": 20,
   "id": "ebdeab2e",
   "metadata": {},
   "outputs": [],
   "source": [
    "X = pd.DataFrame(X, columns=col_names)\n",
    "y = pd.Series(y)"
   ]
  },
  {
   "cell_type": "code",
   "execution_count": 21,
   "id": "ad491757",
   "metadata": {},
   "outputs": [
    {
     "data": {
      "text/plain": [
       "0       1\n",
       "1       1\n",
       "2       2\n",
       "3       0\n",
       "4       0\n",
       "       ..\n",
       "1995    2\n",
       "1996    0\n",
       "1997    1\n",
       "1998    1\n",
       "1999    0\n",
       "Length: 2000, dtype: int64"
      ]
     },
     "execution_count": 21,
     "metadata": {},
     "output_type": "execute_result"
    }
   ],
   "source": [
    "y"
   ]
  },
  {
   "cell_type": "code",
   "execution_count": 22,
   "id": "e2eaf21e",
   "metadata": {},
   "outputs": [
    {
     "data": {
      "text/html": [
       "<div>\n",
       "<style scoped>\n",
       "    .dataframe tbody tr th:only-of-type {\n",
       "        vertical-align: middle;\n",
       "    }\n",
       "\n",
       "    .dataframe tbody tr th {\n",
       "        vertical-align: top;\n",
       "    }\n",
       "\n",
       "    .dataframe thead th {\n",
       "        text-align: right;\n",
       "    }\n",
       "</style>\n",
       "<table border=\"1\" class=\"dataframe\">\n",
       "  <thead>\n",
       "    <tr style=\"text-align: right;\">\n",
       "      <th></th>\n",
       "      <th>returns</th>\n",
       "    </tr>\n",
       "  </thead>\n",
       "  <tbody>\n",
       "    <tr>\n",
       "      <th>0</th>\n",
       "      <td>-0.017060</td>\n",
       "    </tr>\n",
       "    <tr>\n",
       "      <th>1</th>\n",
       "      <td>0.010479</td>\n",
       "    </tr>\n",
       "    <tr>\n",
       "      <th>2</th>\n",
       "      <td>-0.013460</td>\n",
       "    </tr>\n",
       "    <tr>\n",
       "      <th>3</th>\n",
       "      <td>0.043824</td>\n",
       "    </tr>\n",
       "    <tr>\n",
       "      <th>4</th>\n",
       "      <td>-0.008341</td>\n",
       "    </tr>\n",
       "    <tr>\n",
       "      <th>...</th>\n",
       "      <td>...</td>\n",
       "    </tr>\n",
       "    <tr>\n",
       "      <th>1995</th>\n",
       "      <td>-0.043810</td>\n",
       "    </tr>\n",
       "    <tr>\n",
       "      <th>1996</th>\n",
       "      <td>-0.002460</td>\n",
       "    </tr>\n",
       "    <tr>\n",
       "      <th>1997</th>\n",
       "      <td>0.023086</td>\n",
       "    </tr>\n",
       "    <tr>\n",
       "      <th>1998</th>\n",
       "      <td>0.028992</td>\n",
       "    </tr>\n",
       "    <tr>\n",
       "      <th>1999</th>\n",
       "      <td>-0.011279</td>\n",
       "    </tr>\n",
       "  </tbody>\n",
       "</table>\n",
       "<p>2000 rows × 1 columns</p>\n",
       "</div>"
      ],
      "text/plain": [
       "       returns\n",
       "0    -0.017060\n",
       "1     0.010479\n",
       "2    -0.013460\n",
       "3     0.043824\n",
       "4    -0.008341\n",
       "...        ...\n",
       "1995 -0.043810\n",
       "1996 -0.002460\n",
       "1997  0.023086\n",
       "1998  0.028992\n",
       "1999 -0.011279\n",
       "\n",
       "[2000 rows x 1 columns]"
      ]
     },
     "execution_count": 22,
     "metadata": {},
     "output_type": "execute_result"
    }
   ],
   "source": [
    "returns = pd.DataFrame(np.random.random(size=len(X))/10 - 0.05, columns=[\"returns\"], index=X.index)\n",
    "returns"
   ]
  },
  {
   "cell_type": "code",
   "execution_count": 50,
   "id": "b5dfd2f5",
   "metadata": {},
   "outputs": [
    {
     "data": {
      "text/html": [
       "<div>\n",
       "<style scoped>\n",
       "    .dataframe tbody tr th:only-of-type {\n",
       "        vertical-align: middle;\n",
       "    }\n",
       "\n",
       "    .dataframe tbody tr th {\n",
       "        vertical-align: top;\n",
       "    }\n",
       "\n",
       "    .dataframe thead th {\n",
       "        text-align: right;\n",
       "    }\n",
       "</style>\n",
       "<table border=\"1\" class=\"dataframe\">\n",
       "  <thead>\n",
       "    <tr style=\"text-align: right;\">\n",
       "      <th></th>\n",
       "      <th>returns_long</th>\n",
       "      <th>returns_short</th>\n",
       "    </tr>\n",
       "  </thead>\n",
       "  <tbody>\n",
       "    <tr>\n",
       "      <th>0</th>\n",
       "      <td>0.982940</td>\n",
       "      <td>1.017060</td>\n",
       "    </tr>\n",
       "    <tr>\n",
       "      <th>1</th>\n",
       "      <td>1.010479</td>\n",
       "      <td>0.989521</td>\n",
       "    </tr>\n",
       "    <tr>\n",
       "      <th>2</th>\n",
       "      <td>0.986540</td>\n",
       "      <td>1.013460</td>\n",
       "    </tr>\n",
       "    <tr>\n",
       "      <th>3</th>\n",
       "      <td>1.043824</td>\n",
       "      <td>0.956176</td>\n",
       "    </tr>\n",
       "    <tr>\n",
       "      <th>4</th>\n",
       "      <td>0.991659</td>\n",
       "      <td>1.008341</td>\n",
       "    </tr>\n",
       "    <tr>\n",
       "      <th>...</th>\n",
       "      <td>...</td>\n",
       "      <td>...</td>\n",
       "    </tr>\n",
       "    <tr>\n",
       "      <th>1995</th>\n",
       "      <td>0.956190</td>\n",
       "      <td>1.043810</td>\n",
       "    </tr>\n",
       "    <tr>\n",
       "      <th>1996</th>\n",
       "      <td>0.997540</td>\n",
       "      <td>1.002460</td>\n",
       "    </tr>\n",
       "    <tr>\n",
       "      <th>1997</th>\n",
       "      <td>1.023086</td>\n",
       "      <td>0.976914</td>\n",
       "    </tr>\n",
       "    <tr>\n",
       "      <th>1998</th>\n",
       "      <td>1.028992</td>\n",
       "      <td>0.971008</td>\n",
       "    </tr>\n",
       "    <tr>\n",
       "      <th>1999</th>\n",
       "      <td>0.988721</td>\n",
       "      <td>1.011279</td>\n",
       "    </tr>\n",
       "  </tbody>\n",
       "</table>\n",
       "<p>2000 rows × 2 columns</p>\n",
       "</div>"
      ],
      "text/plain": [
       "      returns_long  returns_short\n",
       "0         0.982940       1.017060\n",
       "1         1.010479       0.989521\n",
       "2         0.986540       1.013460\n",
       "3         1.043824       0.956176\n",
       "4         0.991659       1.008341\n",
       "...            ...            ...\n",
       "1995      0.956190       1.043810\n",
       "1996      0.997540       1.002460\n",
       "1997      1.023086       0.976914\n",
       "1998      1.028992       0.971008\n",
       "1999      0.988721       1.011279\n",
       "\n",
       "[2000 rows x 2 columns]"
      ]
     },
     "execution_count": 50,
     "metadata": {},
     "output_type": "execute_result"
    }
   ],
   "source": [
    "returns_df = pd.DataFrame(index=returns.index)\n",
    "returns_df[\"returns_long\"] = returns + 1.0\n",
    "returns_df[\"returns_short\"] = -returns + 1.0\n",
    "returns_df"
   ]
  },
  {
   "cell_type": "code",
   "execution_count": 24,
   "id": "c551e7bc",
   "metadata": {},
   "outputs": [
    {
     "data": {
      "text/plain": [
       "0       short\n",
       "1       short\n",
       "2        loss\n",
       "3        long\n",
       "4        long\n",
       "        ...  \n",
       "1995     loss\n",
       "1996     long\n",
       "1997    short\n",
       "1998    short\n",
       "1999     long\n",
       "Length: 2000, dtype: object"
      ]
     },
     "execution_count": 24,
     "metadata": {},
     "output_type": "execute_result"
    }
   ],
   "source": [
    "y = y.map({0: \"long\", 1: \"short\", 2: \"loss\"})\n",
    "y"
   ]
  },
  {
   "cell_type": "code",
   "execution_count": 127,
   "id": "0b6bd046",
   "metadata": {},
   "outputs": [],
   "source": [
    "def get_mc_describe_returns(estimator, X, y, returns_df, title):\n",
    "    classes_to_describe = [c for c in estimator.classes_ if c not in [\"loss\", \"not_minmax_slow\"]]\n",
    "    for idx, c in enumerate(classes_to_describe):\n",
    "        X_copy = X.copy()\n",
    "        X_copy[\"pred_proba\"] = estimator.predict_proba(X)[:, idx]\n",
    "\n",
    "        if \"short\" in c: return_col = \"returns_short\"\n",
    "        else: return_col = \"returns_long\"\n",
    "\n",
    "        returns = returns_df.loc[X_copy.index, return_col]\n",
    "        bins = np.linspace(start=0, stop=1, num=11)\n",
    "        stats = returns.groupby(pd.cut(X_copy[\"pred_proba\"], bins=bins)).agg(\"describe\")\n",
    "        print(f\"Trade Returns by Threshold: {title} ({c})\")\n",
    "        print(stats)\n",
    "\n",
    "    return 0\n",
    "\n",
    "\n",
    "def get_mc_describe_cumprod_returns(estimator, X, y, returns_df, title):\n",
    "    classes_to_describe = [c for c in estimator.classes_ if c not in [\"loss\", \"not_minmax_slow\"]]\n",
    "    for idx, c in enumerate(classes_to_describe):\n",
    "        X_copy = X.copy()\n",
    "        X_copy[\"pred_proba\"] = estimator.predict_proba(X)[:, idx]\n",
    "        X_copy = X_copy.sort_values(by=\"pred_proba\", ascending=False)\n",
    "\n",
    "        if \"short\" in c: return_col = \"returns_short\"\n",
    "        else: return_col = \"returns_long\"\n",
    "\n",
    "        returns = returns_df.loc[X_copy.index, return_col]\n",
    "        X_copy[\"cumprod_returns\"] = returns.cumprod()\n",
    "\n",
    "        bins = np.linspace(start=0, stop=1, num=11)\n",
    "        stats = X_copy[\"cumprod_returns\"].groupby(\n",
    "            pd.cut(X_copy[\"pred_proba\"], bins=bins)).agg(\"describe\")\n",
    "        print(f\"Cumulative Product Returns by Threshold: {title} ({c})\")\n",
    "        print(stats)\n",
    "\n",
    "    return 0\n",
    "\n",
    "def get_mc_threshold_max_cumprod_returns(estimator, X, y, returns_df, target):\n",
    "    classes_to_describe = [c for c in estimator.classes_]\n",
    "    for idx, c in enumerate(classes_to_describe):\n",
    "    \n",
    "        if target == c:\n",
    "            X_copy = X.copy()\n",
    "            X_copy[\"pred_proba\"] = estimator.predict_proba(X_copy)[:, idx]\n",
    "            X_copy = X_copy.sort_values(by=\"pred_proba\", ascending=False)\n",
    "\n",
    "            if \"short\" in c:\n",
    "                return_col = \"returns_short\"\n",
    "            else:\n",
    "                return_col = \"returns_long\"\n",
    "\n",
    "            returns = returns_df.loc[X_copy.index, return_col]\n",
    "            X_copy[\"cumprod_returns\"] = returns.cumprod()\n",
    "\n",
    "            max_cumprod_returns_idx = X_copy[\"cumprod_returns\"].argmax()\n",
    "            max_cumprod_returns_threshold = X_copy.iloc[max_cumprod_returns_idx][\"pred_proba\"]\n",
    "\n",
    "            return max_cumprod_returns_threshold\n",
    "        else:\n",
    "            return -999"
   ]
  },
  {
   "cell_type": "code",
   "execution_count": 87,
   "id": "74c1b60e",
   "metadata": {},
   "outputs": [],
   "source": [
    "def get_mc_describe_returns(estimator, X, y, returns, title):\n",
    "    classes_to_describe = [c for c in estimator.classes_ if c not in [\"loss\", \"not_minmax_fast\"]]\n",
    "    for idx, c in enumerate(classes_to_describe):\n",
    "    \n",
    "        X_copy = X.copy()\n",
    "        X_copy[\"pred_proba\"] = estimator.predict_proba(X)[:, idx]\n",
    "        returns = returns.loc[X_copy.index]\n",
    "        bins = np.linspace(start=0, stop=1, num=11)\n",
    "        stats = returns[\"returns\"].groupby(pd.cut(X_copy[\"pred_proba\"], bins=bins)).agg(\"describe\")\n",
    "        print(f\"Trade Returns by Threshold: {title} ({c})\")\n",
    "        print(stats)\n",
    "    return 0"
   ]
  },
  {
   "cell_type": "code",
   "execution_count": 88,
   "id": "00a0d464",
   "metadata": {},
   "outputs": [],
   "source": [
    "def get_mc_describe_precision_recall(estimator, X, y, title):\n",
    "    classes_to_describe = [c for c in estimator.classes_ if \"loss\" not in c]\n",
    "    for idx, c in enumerate(classes_to_describe):\n",
    "    \n",
    "        precision, recall, thresholds = precision_recall_curve(\n",
    "            y, estimator.predict_proba(X)[:, idx], pos_label=c)\n",
    "\n",
    "        pr_summary = np.column_stack([precision, recall, np.append(thresholds, [1])])\n",
    "        pr_summary_df = pd.DataFrame(pr_summary, columns=[\"precision\", \"recall\", \"thresholds\"])\n",
    "        bins = np.linspace(start=0, stop=1, num=11)\n",
    "\n",
    "        pr_agg_df = pr_summary_df[[\"precision\", \"recall\"]].groupby(\n",
    "            pd.cut(pr_summary_df[\"thresholds\"], bins=bins)).agg([\"mean\", \"median\", \"std\"])\n",
    "        print(f\"Precision Recall by Threshold: {title} ({c})\")\n",
    "        print(pr_agg_df)\n",
    "    \n",
    "    return 0"
   ]
  },
  {
   "cell_type": "code",
   "execution_count": 89,
   "id": "9aa76003",
   "metadata": {},
   "outputs": [],
   "source": [
    "def get_describe_cumprod_returns(estimator, X, y, returns, title):\n",
    "    classes_to_describe = [c for c in estimator.classes_ if \"loss\" not in c]\n",
    "    for idx, c in enumerate(classes_to_describe):\n",
    "    \n",
    "        X_copy = X.copy()\n",
    "        X_copy[\"pred_proba\"] = estimator.predict_proba(X)[:, idx]\n",
    "        X_copy = X_copy.sort_values(by=\"pred_proba\", ascending=False)\n",
    "\n",
    "        returns = returns.loc[X_copy.index]\n",
    "        X_copy[\"cumprod_returns\"] = returns.cumprod()\n",
    "\n",
    "        bins = np.linspace(start=0, stop=1, num=11)\n",
    "        stats = X_copy[\"cumprod_returns\"].groupby(pd.cut(X_copy[\"pred_proba\"], bins=bins)).agg(\"describe\")\n",
    "        print(f\"Cumulative Product Returns by Threshold: {title} ({c})\")\n",
    "        print(stats)\n",
    "    return 0"
   ]
  },
  {
   "cell_type": "code",
   "execution_count": 128,
   "id": "57bdc190",
   "metadata": {},
   "outputs": [],
   "source": [
    "mc_scores = {\n",
    "    \"EmptyMCDescribeCumProdReturns\": partial(get_mc_describe_cumprod_returns, returns_df=returns_df, title=\"SOLUSDT Short\"),\n",
    "    \"EmptyMCDescribeReturns\": partial(get_mc_describe_returns, returns_df=returns_df, title=\"SOLUSDT Short\"),\n",
    "    \"ThresholdMCMaxCumProdReturns\": partial(get_mc_threshold_max_cumprod_returns, returns_df=returns_df, target=\"longg\"),\n",
    "}"
   ]
  },
  {
   "cell_type": "code",
   "execution_count": 129,
   "id": "3bdd0877",
   "metadata": {},
   "outputs": [
    {
     "name": "stdout",
     "output_type": "stream",
     "text": [
      "Cumulative Product Returns by Threshold: SOLUSDT Short (long)\n",
      "            count      mean       std       min       25%       50%       75%  \\\n",
      "pred_proba                                                                      \n",
      "(0.0, 0.1]  395.0  1.162776  0.349298  0.529383  0.908287  1.126604  1.509932   \n",
      "(0.1, 0.2]   82.0  1.273692  0.110775  1.063852  1.196619  1.274764  1.326349   \n",
      "(0.2, 0.3]   37.0  1.020721  0.114379  0.865802  0.923170  0.992211  1.118049   \n",
      "(0.3, 0.4]   21.0  0.904937  0.043780  0.832072  0.871144  0.913588  0.939418   \n",
      "(0.4, 0.5]   35.0  0.814303  0.041103  0.748108  0.785038  0.811963  0.841462   \n",
      "(0.5, 0.6]   40.0  0.767863  0.066726  0.660460  0.712007  0.757699  0.798547   \n",
      "(0.6, 0.7]   45.0  0.858422  0.042770  0.771521  0.827509  0.848032  0.892382   \n",
      "(0.7, 0.8]   70.0  0.851190  0.053176  0.754614  0.812915  0.850643  0.887250   \n",
      "(0.8, 0.9]  108.0  0.926892  0.082696  0.740576  0.886545  0.933136  0.990009   \n",
      "(0.9, 1.0]   79.0  1.009849  0.051966  0.927921  0.976481  0.999580  1.030460   \n",
      "\n",
      "                 max  \n",
      "pred_proba            \n",
      "(0.0, 0.1]  1.783397  \n",
      "(0.1, 0.2]  1.538898  \n",
      "(0.2, 0.3]  1.247877  \n",
      "(0.3, 0.4]  0.991671  \n",
      "(0.4, 0.5]  0.918064  \n",
      "(0.5, 0.6]  0.911438  \n",
      "(0.6, 0.7]  0.950965  \n",
      "(0.7, 0.8]  0.968403  \n",
      "(0.8, 0.9]  1.065267  \n",
      "(0.9, 1.0]  1.146661  \n",
      "Cumulative Product Returns by Threshold: SOLUSDT Short (short)\n",
      "            count      mean       std       min       25%       50%       75%  \\\n",
      "pred_proba                                                                      \n",
      "(0.0, 0.1]  348.0  0.471348  0.134530  0.281110  0.340287  0.458002  0.607740   \n",
      "(0.1, 0.2]  113.0  0.517631  0.088504  0.301674  0.484896  0.540139  0.581656   \n",
      "(0.2, 0.3]   61.0  0.614592  0.074291  0.526808  0.558916  0.581643  0.678196   \n",
      "(0.3, 0.4]   50.0  0.699223  0.111840  0.535326  0.602516  0.668632  0.816291   \n",
      "(0.4, 0.5]   53.0  0.522063  0.024967  0.482480  0.506879  0.516864  0.531489   \n",
      "(0.5, 0.6]   43.0  0.539500  0.051429  0.480098  0.508572  0.523200  0.552712   \n",
      "(0.6, 0.7]   68.0  0.929469  0.125563  0.708283  0.806176  0.956714  1.004109   \n",
      "(0.7, 0.8]   59.0  1.311795  0.049540  1.207372  1.273621  1.308108  1.348471   \n",
      "(0.8, 0.9]   87.0  1.264088  0.084007  1.079710  1.208805  1.263373  1.320332   \n",
      "(0.9, 1.0]   63.0  1.159034  0.068528  1.023296  1.114695  1.146881  1.202939   \n",
      "\n",
      "                 max  \n",
      "pred_proba            \n",
      "(0.0, 0.1]  0.708286  \n",
      "(0.1, 0.2]  0.653078  \n",
      "(0.2, 0.3]  0.810263  \n",
      "(0.3, 0.4]  0.870911  \n",
      "(0.4, 0.5]  0.606570  \n",
      "(0.5, 0.6]  0.685809  \n",
      "(0.6, 0.7]  1.202941  \n",
      "(0.7, 0.8]  1.421541  \n",
      "(0.8, 0.9]  1.486195  \n",
      "(0.9, 1.0]  1.306876  \n",
      "Trade Returns by Threshold: SOLUSDT Short (long)\n",
      "            count      mean       std       min       25%       50%       75%  \\\n",
      "pred_proba                                                                      \n",
      "(0.0, 0.1]  395.0  0.998093  0.028361  0.950115  0.973308  0.997349  1.023060   \n",
      "(0.1, 0.2]   82.0  1.001585  0.029742  0.950779  0.975686  1.000283  1.027368   \n",
      "(0.2, 0.3]   37.0  1.006678  0.030099  0.954861  0.982374  1.011296  1.036371   \n",
      "(0.3, 0.4]   21.0  1.006266  0.031194  0.955484  0.978642  1.005068  1.038154   \n",
      "(0.4, 0.5]   35.0  1.002394  0.034142  0.951242  0.970689  0.996992  1.038785   \n",
      "(0.5, 0.6]   40.0  0.998031  0.030856  0.952152  0.973935  1.001714  1.017721   \n",
      "(0.6, 0.7]   45.0  1.001337  0.029957  0.950449  0.979134  1.005430  1.021742   \n",
      "(0.7, 0.8]   70.0  1.001539  0.025967  0.950583  0.981441  1.001668  1.025133   \n",
      "(0.8, 0.9]  108.0  0.998074  0.030366  0.951022  0.973559  0.993361  1.030852   \n",
      "(0.9, 1.0]   79.0  1.000356  0.028015  0.952477  0.978260  1.000382  1.025443   \n",
      "\n",
      "                 max  \n",
      "pred_proba            \n",
      "(0.0, 0.1]  1.049779  \n",
      "(0.1, 0.2]  1.049979  \n",
      "(0.2, 0.3]  1.048545  \n",
      "(0.3, 0.4]  1.049402  \n",
      "(0.4, 0.5]  1.047972  \n",
      "(0.5, 0.6]  1.049680  \n",
      "(0.6, 0.7]  1.049601  \n",
      "(0.7, 0.8]  1.044121  \n",
      "(0.8, 0.9]  1.049515  \n",
      "(0.9, 1.0]  1.049092  \n",
      "Trade Returns by Threshold: SOLUSDT Short (short)\n",
      "            count      mean       std       min       25%       50%       75%  \\\n",
      "pred_proba                                                                      \n",
      "(0.0, 0.1]  348.0  1.002754  0.028322  0.950399  0.979111  1.005903  1.026441   \n",
      "(0.1, 0.2]  113.0  0.995357  0.028852  0.951120  0.968620  0.993555  1.018542   \n",
      "(0.2, 0.3]   61.0  0.992966  0.028321  0.950028  0.971321  0.988193  1.014980   \n",
      "(0.3, 0.4]   50.0  1.007990  0.030385  0.950021  0.984252  1.016256  1.038149   \n",
      "(0.4, 0.5]   53.0  1.002558  0.031280  0.950984  0.978963  1.003036  1.032121   \n",
      "(0.5, 0.6]   43.0  0.993217  0.029526  0.950598  0.962556  0.996508  1.018546   \n",
      "(0.6, 0.7]   68.0  0.992572  0.027927  0.950772  0.970129  0.988434  1.011331   \n",
      "(0.7, 0.8]   59.0  0.998682  0.027806  0.950221  0.973509  0.991686  1.024388   \n",
      "(0.8, 0.9]   87.0  1.002498  0.026803  0.950319  0.980613  1.005283  1.024302   \n",
      "(0.9, 1.0]   63.0  1.002093  0.030774  0.951002  0.976968  1.001638  1.029753   \n",
      "\n",
      "                 max  \n",
      "pred_proba            \n",
      "(0.0, 0.1]  1.048978  \n",
      "(0.1, 0.2]  1.049551  \n",
      "(0.2, 0.3]  1.049417  \n",
      "(0.3, 0.4]  1.047492  \n",
      "(0.4, 0.5]  1.047848  \n",
      "(0.5, 0.6]  1.044641  \n",
      "(0.6, 0.7]  1.046170  \n",
      "(0.7, 0.8]  1.049221  \n",
      "(0.8, 0.9]  1.048618  \n",
      "(0.9, 1.0]  1.049885  \n",
      "Cumulative Product Returns by Threshold: SOLUSDT Short (long)\n",
      "            count      mean       std       min       25%       50%       75%  \\\n",
      "pred_proba                                                                      \n",
      "(0.0, 0.1]  396.0  0.828753  0.158541  0.514901  0.685012  0.866596  0.970228   \n",
      "(0.1, 0.2]   80.0  0.916093  0.087793  0.744870  0.849882  0.919898  0.982691   \n",
      "(0.2, 0.3]   41.0  0.931346  0.051238  0.852937  0.888971  0.918403  0.974762   \n",
      "(0.3, 0.4]   20.0  1.005145  0.049427  0.915055  0.974425  0.991403  1.044699   \n",
      "(0.4, 0.5]   27.0  1.081512  0.107412  0.924865  1.003178  1.062908  1.130015   \n",
      "(0.5, 0.6]   34.0  1.257044  0.033292  1.182090  1.240854  1.255945  1.283558   \n",
      "(0.6, 0.7]   59.0  1.186491  0.062516  1.051586  1.152426  1.197700  1.220079   \n",
      "(0.7, 0.8]   81.0  1.137701  0.070309  0.968013  1.098465  1.141798  1.194234   \n",
      "(0.8, 0.9]  119.0  1.175393  0.068431  1.011447  1.126731  1.180445  1.231807   \n",
      "(0.9, 1.0]   51.0  1.048547  0.068110  0.955679  1.000935  1.032861  1.079074   \n",
      "\n",
      "                 max  \n",
      "pred_proba            \n",
      "(0.0, 0.1]  1.076545  \n",
      "(0.1, 0.2]  1.072858  \n",
      "(0.2, 0.3]  1.037872  \n",
      "(0.3, 0.4]  1.097169  \n",
      "(0.4, 0.5]  1.287880  \n",
      "(0.5, 0.6]  1.327690  \n",
      "(0.6, 0.7]  1.312890  \n",
      "(0.7, 0.8]  1.256680  \n",
      "(0.8, 0.9]  1.299364  \n",
      "(0.9, 1.0]  1.224216  \n",
      "Cumulative Product Returns by Threshold: SOLUSDT Short (short)\n",
      "            count      mean       std       min       25%       50%       75%  \\\n",
      "pred_proba                                                                      \n",
      "(0.0, 0.1]  362.0  1.061339  0.166012  0.686666  0.979895  1.059884  1.185505   \n",
      "(0.1, 0.2]  126.0  1.423128  0.161024  1.157354  1.277630  1.435006  1.517822   \n",
      "(0.2, 0.3]   59.0  1.635929  0.173812  1.312036  1.499964  1.647018  1.791012   \n",
      "(0.3, 0.4]   48.0  1.453823  0.080880  1.226597  1.394636  1.471797  1.497967   \n",
      "(0.4, 0.5]   51.0  1.089834  0.048762  1.003079  1.058138  1.087717  1.120816   \n",
      "(0.5, 0.6]   38.0  1.301031  0.103131  1.133450  1.238196  1.291997  1.354507   \n",
      "(0.6, 0.7]   60.0  1.621958  0.094086  1.457972  1.539163  1.630027  1.680899   \n",
      "(0.7, 0.8]   63.0  1.601337  0.087732  1.440219  1.546906  1.574570  1.652914   \n",
      "(0.8, 0.9]   80.0  1.435349  0.079741  1.262976  1.375329  1.422914  1.491663   \n",
      "(0.9, 1.0]   67.0  1.312739  0.129291  1.046427  1.201803  1.328682  1.414713   \n",
      "\n",
      "                 max  \n",
      "pred_proba            \n",
      "(0.0, 0.1]  1.433126  \n",
      "(0.1, 0.2]  1.776603  \n",
      "(0.2, 0.3]  1.913473  \n",
      "(0.3, 0.4]  1.600492  \n",
      "(0.4, 0.5]  1.229182  \n",
      "(0.5, 0.6]  1.494719  \n",
      "(0.6, 0.7]  1.843530  \n",
      "(0.7, 0.8]  1.819350  \n",
      "(0.8, 0.9]  1.643458  \n",
      "(0.9, 1.0]  1.567665  \n",
      "Trade Returns by Threshold: SOLUSDT Short (long)\n",
      "            count      mean       std       min       25%       50%       75%  \\\n",
      "pred_proba                                                                      \n",
      "(0.0, 0.1]  396.0  0.999472  0.029650  0.950444  0.973078  1.000146  1.023430   \n",
      "(0.1, 0.2]   80.0  1.001423  0.028775  0.950128  0.976651  1.002710  1.027304   \n",
      "(0.2, 0.3]   41.0  1.002282  0.027959  0.952520  0.977839  0.998760  1.023652   \n",
      "(0.3, 0.4]   20.0  0.996678  0.028664  0.954396  0.973906  0.994026  1.021280   \n",
      "(0.4, 0.5]   27.0  0.990091  0.027557  0.951121  0.970981  0.986191  1.008063   \n",
      "(0.5, 0.6]   34.0  1.002780  0.024236  0.954079  0.993147  0.998302  1.019360   \n",
      "(0.6, 0.7]   59.0  0.999610  0.027340  0.952276  0.977112  0.999394  1.019068   \n",
      "(0.7, 0.8]   81.0  1.000193  0.026745  0.950574  0.978581  1.001402  1.019275   \n",
      "(0.8, 0.9]  119.0  1.001042  0.026985  0.950909  0.977997  1.001200  1.021688   \n",
      "(0.9, 1.0]   51.0  1.003473  0.028704  0.950353  0.977979  1.004076  1.025875   \n",
      "\n",
      "                 max  \n",
      "pred_proba            \n",
      "(0.0, 0.1]  1.049685  \n",
      "(0.1, 0.2]  1.047388  \n",
      "(0.2, 0.3]  1.048985  \n",
      "(0.3, 0.4]  1.040717  \n",
      "(0.4, 0.5]  1.046690  \n",
      "(0.5, 0.6]  1.046415  \n",
      "(0.6, 0.7]  1.048702  \n",
      "(0.7, 0.8]  1.049749  \n",
      "(0.8, 0.9]  1.049367  \n",
      "(0.9, 1.0]  1.047204  \n",
      "Trade Returns by Threshold: SOLUSDT Short (short)\n",
      "            count      mean       std       min       25%       50%       75%  \\\n",
      "pred_proba                                                                      \n",
      "(0.0, 0.1]  362.0  0.998885  0.028826  0.950251  0.974515  0.997753  1.025206   \n",
      "(0.1, 0.2]  126.0  0.997633  0.027754  0.950396  0.974949  0.998944  1.018138   \n",
      "(0.2, 0.3]   59.0  1.004273  0.028986  0.951369  0.987904  1.006035  1.027808   \n",
      "(0.3, 0.4]   48.0  1.002938  0.028528  0.958162  0.979361  1.001026  1.029108   \n",
      "(0.4, 0.5]   51.0  1.002010  0.030357  0.950315  0.973885  1.006263  1.028104   \n",
      "(0.5, 0.6]   38.0  0.992405  0.026134  0.950735  0.972749  0.991079  1.011875   \n",
      "(0.6, 0.7]   60.0  0.998786  0.030932  0.951808  0.969091  0.995411  1.027242   \n",
      "(0.7, 0.8]   63.0  1.003410  0.025713  0.951730  0.985832  1.005819  1.021294   \n",
      "(0.8, 0.9]   80.0  0.999105  0.027088  0.954440  0.977479  0.996278  1.018941   \n",
      "(0.9, 1.0]   67.0  1.006986  0.029840  0.950678  0.985196  1.011111  1.033510   \n",
      "\n",
      "                 max  \n",
      "pred_proba            \n",
      "(0.0, 0.1]  1.049872  \n",
      "(0.1, 0.2]  1.049649  \n",
      "(0.2, 0.3]  1.049113  \n",
      "(0.3, 0.4]  1.045921  \n",
      "(0.4, 0.5]  1.048962  \n",
      "(0.5, 0.6]  1.046215  \n",
      "(0.6, 0.7]  1.047369  \n",
      "(0.7, 0.8]  1.046354  \n",
      "(0.8, 0.9]  1.049401  \n",
      "(0.9, 1.0]  1.048570  \n"
     ]
    },
    {
     "data": {
      "text/plain": [
       "{'fit_time': array([0.16421294, 0.14098001]),\n",
       " 'score_time': array([0.08299589, 0.07940412]),\n",
       " 'test_EmptyMCDescribeCumProdReturns': array([0, 0]),\n",
       " 'test_EmptyMCDescribeReturns': array([0, 0]),\n",
       " 'test_ThresholdMCMaxCumProdReturns': array([-999, -999])}"
      ]
     },
     "execution_count": 129,
     "metadata": {},
     "output_type": "execute_result"
    }
   ],
   "source": [
    "cv = KFold(2)\n",
    "clf = RandomForestClassifier(random_state=42)\n",
    "cross_validate(estimator=clf, X=X, y=y, scoring=mc_scores, cv=cv)"
   ]
  },
  {
   "cell_type": "markdown",
   "id": "b369759d",
   "metadata": {},
   "source": [
    "# Binary Class"
   ]
  },
  {
   "cell_type": "code",
   "execution_count": null,
   "id": "bc3dcfe6",
   "metadata": {},
   "outputs": [],
   "source": [
    "def get_precision_at_threshold(estimator, X, y, desired_threshold):\n",
    "    pos_label = np.sort(y.unique())[0]\n",
    "    precision, recall, thresholds = precision_recall_curve(\n",
    "        y, estimator.predict_proba(X)[:, 0], pos_label=pos_label)\n",
    "    \n",
    "    desired_threshold_idx = np.argmax(thresholds >= desired_threshold)\n",
    "\n",
    "    return precision[desired_threshold_idx]"
   ]
  },
  {
   "cell_type": "code",
   "execution_count": null,
   "id": "aff76fce",
   "metadata": {},
   "outputs": [],
   "source": [
    "def get_recall_at_threshold(estimator, X, y, desired_threshold):\n",
    "    pos_label = np.sort(y.unique())[0]\n",
    "    precision, recall, thresholds = precision_recall_curve(\n",
    "        y, estimator.predict_proba(X)[:, 0], pos_label=pos_label)\n",
    "    \n",
    "    desired_threshold_idx = np.argmax(thresholds >= desired_threshold)\n",
    "\n",
    "    return recall[desired_threshold_idx]"
   ]
  },
  {
   "cell_type": "code",
   "execution_count": null,
   "id": "f7e03285",
   "metadata": {},
   "outputs": [],
   "source": [
    "def get_count(estimator, X, y, lower, upper):\n",
    "    X_copy = X.copy()\n",
    "    X_copy[\"pred_proba\"] = estimator.predict_proba(X)[:, 0]\n",
    "    idx = (X_copy[\"pred_proba\"] >= lower) & (X_copy[\"pred_proba\"] <= upper)\n",
    "    count = np.sum(idx)\n",
    "\n",
    "    return count"
   ]
  },
  {
   "cell_type": "code",
   "execution_count": null,
   "id": "5a2f4439",
   "metadata": {},
   "outputs": [],
   "source": [
    "def get_mean_returns(estimator, X, y, returns, lower, upper):\n",
    "    X_copy = X.copy()\n",
    "    X_copy[\"pred_proba\"] = estimator.predict_proba(X)[:, 0]\n",
    "    returns = returns.loc[X_copy.index]\n",
    "    idx = (X_copy[\"pred_proba\"] >= lower) & (X_copy[\"pred_proba\"] <= upper)\n",
    "    return returns.loc[idx, \"returns\"].mean()"
   ]
  },
  {
   "cell_type": "code",
   "execution_count": null,
   "id": "ac093593",
   "metadata": {},
   "outputs": [],
   "source": [
    "def get_prod_returns(estimator, X, y, returns, lower, upper):\n",
    "    X_copy = X.copy()\n",
    "    X_copy[\"pred_proba\"] = estimator.predict_proba(X)[:, 0]\n",
    "    returns = returns.loc[X_copy.index]\n",
    "    idx = (X_copy[\"pred_proba\"] >= lower) & (X_copy[\"pred_proba\"] <= upper)\n",
    "    return returns.loc[idx, \"returns\"].product()"
   ]
  },
  {
   "cell_type": "code",
   "execution_count": null,
   "id": "f2d3b1f3",
   "metadata": {},
   "outputs": [],
   "source": [
    "def get_threshold_max_cumprod_returns(estimator, X, y, returns):\n",
    "    X_copy = X.copy()\n",
    "    X_copy[\"pred_proba\"] = estimator.predict_proba(X)[:, 0]\n",
    "    returns = returns.loc[X_copy.index]\n",
    "    X_copy = X_copy.sort_values(by=\"pred_proba\", ascending=False)\n",
    "    X_copy[\"cumprod_returns\"] = returns[\"returns\"].cumprod()\n",
    "    max_cumprod_returns_idx = X_copy[\"cumprod_returns\"].argmax()\n",
    "    \n",
    "    return X_copy.iloc[max_cumprod_returns_idx][\"pred_proba\"]"
   ]
  },
  {
   "cell_type": "code",
   "execution_count": null,
   "id": "b25633bf",
   "metadata": {},
   "outputs": [],
   "source": [
    "def get_value_max_cumprod_returns(estimator, X, y, returns):\n",
    "    X_copy = X.copy()\n",
    "    X_copy[\"pred_proba\"] = estimator.predict_proba(X)[:, 0]\n",
    "    returns = returns.loc[X_copy.index]\n",
    "    X_copy = X_copy.sort_values(by=\"pred_proba\", ascending=False)\n",
    "    X_copy[\"cumprod_returns\"] = returns[\"returns\"].cumprod()\n",
    "    max_cumprod_returns_idx = X_copy[\"cumprod_returns\"].argmax()\n",
    "    \n",
    "    return X_copy.iloc[max_cumprod_returns_idx][\"cumprod_returns\"]"
   ]
  },
  {
   "cell_type": "code",
   "execution_count": null,
   "id": "84d09653",
   "metadata": {},
   "outputs": [],
   "source": [
    "def get_describe_returns(estimator, X, y, returns, title):\n",
    "    pos_label = np.sort(y.unique())[0]\n",
    "    X_copy = X.copy()\n",
    "    X_copy[\"pred_proba\"] = estimator.predict_proba(X)[:, 0]\n",
    "    returns = returns.loc[X_copy.index]\n",
    "    bins = np.linspace(start=0, stop=1, num=11)\n",
    "    stats = returns[\"returns\"].groupby(pd.cut(X_copy[\"pred_proba\"], bins=bins)).agg(\"describe\")\n",
    "    print(f\"Trade Returns by Threshold: {title} ({pos_label})\")\n",
    "    print(stats)\n",
    "    return 0"
   ]
  },
  {
   "cell_type": "code",
   "execution_count": null,
   "id": "978d9a5c",
   "metadata": {},
   "outputs": [],
   "source": [
    "def get_describe_precision_recall(estimator, X, y, title):\n",
    "    pos_label = np.sort(y.unique())[0]\n",
    "    precision, recall, thresholds = precision_recall_curve(\n",
    "        y, estimator.predict_proba(X)[:, 0], pos_label=pos_label)\n",
    "    \n",
    "    pr_summary = np.column_stack([precision, recall, np.append(thresholds, [1])])\n",
    "    pr_summary_df = pd.DataFrame(pr_summary, columns=[\"precision\", \"recall\", \"thresholds\"])\n",
    "    bins = np.linspace(start=0, stop=1, num=11)\n",
    "    \n",
    "    pr_agg_df = pr_summary_df[[\"precision\", \"recall\"]].groupby(\n",
    "        pd.cut(pr_summary_df[\"thresholds\"], bins=bins)).agg([\"mean\", \"median\", \"std\"])\n",
    "    print(f\"Precision Recall by Threshold: {title} ({pos_label})\")\n",
    "    print(pr_agg_df)\n",
    "    \n",
    "    return 0"
   ]
  },
  {
   "cell_type": "code",
   "execution_count": null,
   "id": "49dfeb8d",
   "metadata": {},
   "outputs": [],
   "source": [
    "test_scores = {\n",
    "    \"Precision[0.25-1.0]\": partial(get_precision_at_threshold, desired_threshold=0.25),\n",
    "    \"Precision[0.50-1.0]\": partial(get_precision_at_threshold, desired_threshold=0.50),\n",
    "    \"Precision[0.75-1.0]\": partial(get_precision_at_threshold, desired_threshold=0.75),\n",
    "    \"Recall[0.25-1.0]\": partial(get_recall_at_threshold, desired_threshold=0.25),\n",
    "    \"Recall[0.50-1.0]\": partial(get_recall_at_threshold, desired_threshold=0.50),\n",
    "    \"Recall[0.75-1.0]\": partial(get_recall_at_threshold, desired_threshold=0.75),\n",
    "    \"Count[0.25-1.0]\": partial(get_count, lower=0.25, upper=1.0),\n",
    "    \"Count[0.50-1.0]\": partial(get_count, lower=0.50, upper=1.0),\n",
    "    \"Count[0.75-1.0]\": partial(get_count, lower=0.75, upper=1.0),\n",
    "    \"AvgReturns[0.25-1.0]\": partial(get_mean_returns, returns=returns, lower=0.25, upper=1.0),\n",
    "    \"AvgReturns[0.50-1.0]\": partial(get_mean_returns, returns=returns, lower=0.50, upper=1.0),\n",
    "    \"AvgReturns[0.75-1.0]\": partial(get_mean_returns, returns=returns, lower=0.75, upper=1.0),\n",
    "    \"ProdReturns[0.25-1.0]\": partial(get_prod_returns, returns=returns, lower=0.25, upper=1.0),\n",
    "    \"ProdReturns[0.50-1.0]\": partial(get_prod_returns, returns=returns, lower=0.50, upper=1.0),\n",
    "    \"ProdReturns[0.75-1.0]\": partial(get_prod_returns, returns=returns, lower=0.75, upper=1.0),\n",
    "    \"ThresholdMaxCumProdReturns\": partial(get_threshold_max_cumprod_returns, returns=returns),\n",
    "    \"ValueMaxCumProdReturns\": partial(get_value_max_cumprod_returns, returns=returns),\n",
    "    \"EmptyDescribeReturns\": partial(get_describe_returns, returns=returns, title=\"SOLUSDT Short\"),\n",
    "    \"EmptyDescribePrecisionRecall\": partial(get_describe_precision_recall, title=\"SOLUSD Short\")\n",
    "}"
   ]
  },
  {
   "cell_type": "code",
   "execution_count": 13,
   "id": "24d752f4",
   "metadata": {},
   "outputs": [
    {
     "ename": "NameError",
     "evalue": "name 'test_scores' is not defined",
     "output_type": "error",
     "traceback": [
      "\u001b[0;31m---------------------------------------------------------------------------\u001b[0m",
      "\u001b[0;31mNameError\u001b[0m                                 Traceback (most recent call last)",
      "Cell \u001b[0;32mIn[13], line 3\u001b[0m\n\u001b[1;32m      1\u001b[0m cv \u001b[38;5;241m=\u001b[39m KFold(\u001b[38;5;241m5\u001b[39m)\n\u001b[1;32m      2\u001b[0m clf \u001b[38;5;241m=\u001b[39m RandomForestClassifier()\n\u001b[0;32m----> 3\u001b[0m cross_validate(estimator\u001b[38;5;241m=\u001b[39mclf, X\u001b[38;5;241m=\u001b[39mX, y\u001b[38;5;241m=\u001b[39my, scoring\u001b[38;5;241m=\u001b[39m\u001b[43mtest_scores\u001b[49m, cv\u001b[38;5;241m=\u001b[39mcv)\n",
      "\u001b[0;31mNameError\u001b[0m: name 'test_scores' is not defined"
     ]
    }
   ],
   "source": [
    "cv = KFold(5)\n",
    "clf = RandomForestClassifier()\n",
    "cross_validate(estimator=clf, X=X, y=y, scoring=test_scores, cv=cv)"
   ]
  },
  {
   "cell_type": "code",
   "execution_count": null,
   "id": "6ff3c9f0",
   "metadata": {},
   "outputs": [],
   "source": []
  },
  {
   "cell_type": "code",
   "execution_count": null,
   "id": "cb21c33e",
   "metadata": {},
   "outputs": [],
   "source": []
  },
  {
   "cell_type": "code",
   "execution_count": 14,
   "id": "2f4e7c28",
   "metadata": {},
   "outputs": [
    {
     "data": {
      "text/html": [
       "<style>#sk-container-id-1 {color: black;background-color: white;}#sk-container-id-1 pre{padding: 0;}#sk-container-id-1 div.sk-toggleable {background-color: white;}#sk-container-id-1 label.sk-toggleable__label {cursor: pointer;display: block;width: 100%;margin-bottom: 0;padding: 0.3em;box-sizing: border-box;text-align: center;}#sk-container-id-1 label.sk-toggleable__label-arrow:before {content: \"▸\";float: left;margin-right: 0.25em;color: #696969;}#sk-container-id-1 label.sk-toggleable__label-arrow:hover:before {color: black;}#sk-container-id-1 div.sk-estimator:hover label.sk-toggleable__label-arrow:before {color: black;}#sk-container-id-1 div.sk-toggleable__content {max-height: 0;max-width: 0;overflow: hidden;text-align: left;background-color: #f0f8ff;}#sk-container-id-1 div.sk-toggleable__content pre {margin: 0.2em;color: black;border-radius: 0.25em;background-color: #f0f8ff;}#sk-container-id-1 input.sk-toggleable__control:checked~div.sk-toggleable__content {max-height: 200px;max-width: 100%;overflow: auto;}#sk-container-id-1 input.sk-toggleable__control:checked~label.sk-toggleable__label-arrow:before {content: \"▾\";}#sk-container-id-1 div.sk-estimator input.sk-toggleable__control:checked~label.sk-toggleable__label {background-color: #d4ebff;}#sk-container-id-1 div.sk-label input.sk-toggleable__control:checked~label.sk-toggleable__label {background-color: #d4ebff;}#sk-container-id-1 input.sk-hidden--visually {border: 0;clip: rect(1px 1px 1px 1px);clip: rect(1px, 1px, 1px, 1px);height: 1px;margin: -1px;overflow: hidden;padding: 0;position: absolute;width: 1px;}#sk-container-id-1 div.sk-estimator {font-family: monospace;background-color: #f0f8ff;border: 1px dotted black;border-radius: 0.25em;box-sizing: border-box;margin-bottom: 0.5em;}#sk-container-id-1 div.sk-estimator:hover {background-color: #d4ebff;}#sk-container-id-1 div.sk-parallel-item::after {content: \"\";width: 100%;border-bottom: 1px solid gray;flex-grow: 1;}#sk-container-id-1 div.sk-label:hover label.sk-toggleable__label {background-color: #d4ebff;}#sk-container-id-1 div.sk-serial::before {content: \"\";position: absolute;border-left: 1px solid gray;box-sizing: border-box;top: 0;bottom: 0;left: 50%;z-index: 0;}#sk-container-id-1 div.sk-serial {display: flex;flex-direction: column;align-items: center;background-color: white;padding-right: 0.2em;padding-left: 0.2em;position: relative;}#sk-container-id-1 div.sk-item {position: relative;z-index: 1;}#sk-container-id-1 div.sk-parallel {display: flex;align-items: stretch;justify-content: center;background-color: white;position: relative;}#sk-container-id-1 div.sk-item::before, #sk-container-id-1 div.sk-parallel-item::before {content: \"\";position: absolute;border-left: 1px solid gray;box-sizing: border-box;top: 0;bottom: 0;left: 50%;z-index: -1;}#sk-container-id-1 div.sk-parallel-item {display: flex;flex-direction: column;z-index: 1;position: relative;background-color: white;}#sk-container-id-1 div.sk-parallel-item:first-child::after {align-self: flex-end;width: 50%;}#sk-container-id-1 div.sk-parallel-item:last-child::after {align-self: flex-start;width: 50%;}#sk-container-id-1 div.sk-parallel-item:only-child::after {width: 0;}#sk-container-id-1 div.sk-dashed-wrapped {border: 1px dashed gray;margin: 0 0.4em 0.5em 0.4em;box-sizing: border-box;padding-bottom: 0.4em;background-color: white;}#sk-container-id-1 div.sk-label label {font-family: monospace;font-weight: bold;display: inline-block;line-height: 1.2em;}#sk-container-id-1 div.sk-label-container {text-align: center;}#sk-container-id-1 div.sk-container {/* jupyter's `normalize.less` sets `[hidden] { display: none; }` but bootstrap.min.css set `[hidden] { display: none !important; }` so we also need the `!important` here to be able to override the default hidden behavior on the sphinx rendered scikit-learn.org. See: https://github.com/scikit-learn/scikit-learn/issues/21755 */display: inline-block !important;position: relative;}#sk-container-id-1 div.sk-text-repr-fallback {display: none;}</style><div id=\"sk-container-id-1\" class=\"sk-top-container\"><div class=\"sk-text-repr-fallback\"><pre>RandomForestClassifier()</pre><b>In a Jupyter environment, please rerun this cell to show the HTML representation or trust the notebook. <br />On GitHub, the HTML representation is unable to render, please try loading this page with nbviewer.org.</b></div><div class=\"sk-container\" hidden><div class=\"sk-item\"><div class=\"sk-estimator sk-toggleable\"><input class=\"sk-toggleable__control sk-hidden--visually\" id=\"sk-estimator-id-1\" type=\"checkbox\" checked><label for=\"sk-estimator-id-1\" class=\"sk-toggleable__label sk-toggleable__label-arrow\">RandomForestClassifier</label><div class=\"sk-toggleable__content\"><pre>RandomForestClassifier()</pre></div></div></div></div></div>"
      ],
      "text/plain": [
       "RandomForestClassifier()"
      ]
     },
     "execution_count": 14,
     "metadata": {},
     "output_type": "execute_result"
    }
   ],
   "source": [
    "clf.fit(X, y)"
   ]
  },
  {
   "cell_type": "code",
   "execution_count": 15,
   "id": "4ce55e5d",
   "metadata": {},
   "outputs": [
    {
     "data": {
      "text/plain": [
       "array(['long', 'loss', 'short'], dtype=object)"
      ]
     },
     "execution_count": 15,
     "metadata": {},
     "output_type": "execute_result"
    }
   ],
   "source": [
    "clf.classes_"
   ]
  },
  {
   "cell_type": "code",
   "execution_count": null,
   "id": "f1cb6030",
   "metadata": {},
   "outputs": [],
   "source": [
    "bins = np.linspace(start=0, stop=1, num=11)\n",
    "stats = X[\"returns\"].groupby(pd.cut(X[\"gfs\"], bins=bins)).mean()"
   ]
  },
  {
   "cell_type": "code",
   "execution_count": null,
   "id": "829c31ec",
   "metadata": {},
   "outputs": [],
   "source": [
    "stats"
   ]
  },
  {
   "cell_type": "code",
   "execution_count": null,
   "id": "3b34ab0f",
   "metadata": {},
   "outputs": [],
   "source": [
    "X.sort_values(by=\"gfs\").expanding().mean()"
   ]
  },
  {
   "cell_type": "code",
   "execution_count": null,
   "id": "46234e92",
   "metadata": {},
   "outputs": [],
   "source": [
    "X.sort_values(by=\"gfs\")"
   ]
  },
  {
   "cell_type": "code",
   "execution_count": null,
   "id": "7b32417e",
   "metadata": {},
   "outputs": [],
   "source": [
    "d = pd.Series([\"trtr\", \"tr\", \"hy\"], name=\"n\")"
   ]
  },
  {
   "cell_type": "code",
   "execution_count": null,
   "id": "caaff948",
   "metadata": {},
   "outputs": [],
   "source": [
    "d.map({\"tr\": 1})"
   ]
  },
  {
   "cell_type": "code",
   "execution_count": null,
   "id": "7c62680d",
   "metadata": {},
   "outputs": [],
   "source": [
    "l = [\"a_win\", \"long_loss\"]"
   ]
  },
  {
   "cell_type": "code",
   "execution_count": null,
   "id": "1e97525e",
   "metadata": {},
   "outputs": [],
   "source": [
    "np.sort(y.unique())[0]"
   ]
  },
  {
   "cell_type": "code",
   "execution_count": null,
   "id": "0f91fde8",
   "metadata": {},
   "outputs": [],
   "source": [
    "{v: i for i, v in enumerate(np.flip(np.sort(d.unique())))}"
   ]
  },
  {
   "cell_type": "code",
   "execution_count": null,
   "id": "294b26e7",
   "metadata": {},
   "outputs": [],
   "source": [
    "np.flip(np.sort(d.unique()))"
   ]
  },
  {
   "cell_type": "code",
   "execution_count": null,
   "id": "79b78460",
   "metadata": {},
   "outputs": [],
   "source": [
    "X[\"returns\"].product()"
   ]
  },
  {
   "cell_type": "code",
   "execution_count": 134,
   "id": "b2e431ee",
   "metadata": {},
   "outputs": [],
   "source": [
    "t = np.array([-999, 20, -999])"
   ]
  },
  {
   "cell_type": "code",
   "execution_count": 135,
   "id": "a6376229",
   "metadata": {},
   "outputs": [
    {
     "data": {
      "text/plain": [
       "20.0"
      ]
     },
     "execution_count": 135,
     "metadata": {},
     "output_type": "execute_result"
    }
   ],
   "source": [
    "np.mean([t for t in t if t != -999])"
   ]
  },
  {
   "cell_type": "code",
   "execution_count": 136,
   "id": "1271cad3",
   "metadata": {},
   "outputs": [
    {
     "name": "stdout",
     "output_type": "stream",
     "text": [
      "y\n"
     ]
    }
   ],
   "source": [
    "if -999 in t:\n",
    "    print(\"y\")"
   ]
  },
  {
   "cell_type": "code",
   "execution_count": null,
   "id": "c17af5be",
   "metadata": {},
   "outputs": [],
   "source": []
  }
 ],
 "metadata": {
  "kernelspec": {
   "display_name": ".env",
   "language": "python",
   "name": ".env"
  },
  "language_info": {
   "codemirror_mode": {
    "name": "ipython",
    "version": 3
   },
   "file_extension": ".py",
   "mimetype": "text/x-python",
   "name": "python",
   "nbconvert_exporter": "python",
   "pygments_lexer": "ipython3",
   "version": "3.10.9"
  }
 },
 "nbformat": 4,
 "nbformat_minor": 5
}
