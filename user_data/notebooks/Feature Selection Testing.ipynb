{
 "cells": [
  {
   "cell_type": "code",
   "execution_count": null,
   "id": "092cb00b",
   "metadata": {},
   "outputs": [],
   "source": [
    "import pandas as pd\n",
    "import numpy as np\n",
    "from sklearn.ensemble import RandomForestClassifier\n",
    "from catboost import CatBoostClassifier, Pool\n",
    "\n",
    "from feature_engine.selection import SelectByShuffling\n",
    "from catboost import CatBoostClassifier, Pool"
   ]
  },
  {
   "cell_type": "code",
   "execution_count": null,
   "id": "b587f180",
   "metadata": {},
   "outputs": [],
   "source": [
    "from sklearn.datasets import make_classification\n",
    "\n",
    "X, y = make_classification(\n",
    "    n_samples=5000, # 1000 observations \n",
    "    n_features=500, # 5 total features\n",
    "    n_informative=100, # 3 'useful' features\n",
    "    n_classes=2, # binary target/label \n",
    "    random_state=999 # if you want the same results as mine\n",
    ")"
   ]
  },
  {
   "cell_type": "code",
   "execution_count": null,
   "id": "2b0de525",
   "metadata": {},
   "outputs": [],
   "source": [
    "from sklearn.model_selection import train_test_split\n",
    "\n",
    "X_train, X_test, y_train, y_test = train_test_split(X, y, test_size=0.5)"
   ]
  },
  {
   "cell_type": "code",
   "execution_count": null,
   "id": "0c7b9f2c",
   "metadata": {},
   "outputs": [],
   "source": [
    "weight_train = np.random.random(len(y_train))"
   ]
  },
  {
   "cell_type": "code",
   "execution_count": null,
   "id": "34e56db4",
   "metadata": {},
   "outputs": [],
   "source": [
    "eval_data = Pool(X_test, y_test)\n",
    "fit_params = {\"sample_weight\": weight_train}"
   ]
  },
  {
   "cell_type": "code",
   "execution_count": null,
   "id": "7aa314cb",
   "metadata": {},
   "outputs": [],
   "source": [
    "# clf = RandomForestClassifier(n_estimators=1000)\n",
    "\n",
    "clf = CatBoostClassifier()\n",
    "tr = SelectByShuffling(estimator=clf, scoring=\"neg_log_loss\", cv=3)"
   ]
  },
  {
   "cell_type": "code",
   "execution_count": null,
   "id": "d587724b",
   "metadata": {},
   "outputs": [],
   "source": [
    "X_train = pd.DataFrame(X_train)\n",
    "X_test = pd.DataFrame(X_test)"
   ]
  },
  {
   "cell_type": "code",
   "execution_count": null,
   "id": "00e3de23",
   "metadata": {},
   "outputs": [],
   "source": [
    "clf.fit()"
   ]
  },
  {
   "cell_type": "code",
   "execution_count": null,
   "id": "ace06395",
   "metadata": {},
   "outputs": [],
   "source": [
    "Xt = tr.fit_transform(X_train, y_train, **fit_params)\n",
    "Xt"
   ]
  },
  {
   "cell_type": "code",
   "execution_count": null,
   "id": "e3373aba",
   "metadata": {},
   "outputs": [],
   "source": [
    "pd.DataFrame(np.column_stack([X_train.columns, tr.get_support()]), columns=[\"feature_name\", \"important_feature\"])"
   ]
  },
  {
   "cell_type": "code",
   "execution_count": null,
   "id": "ce117907",
   "metadata": {},
   "outputs": [],
   "source": [
    "X_train"
   ]
  },
  {
   "cell_type": "code",
   "execution_count": null,
   "id": "24c4d648",
   "metadata": {},
   "outputs": [],
   "source": [
    "from feature_engine.selection import ProbeFeatureSelection"
   ]
  },
  {
   "cell_type": "code",
   "execution_count": null,
   "id": "07c92e5e",
   "metadata": {},
   "outputs": [],
   "source": [
    "sel = ProbeFeatureSelection(\n",
    "    estimator=RandomForestClassifier(n_estimators=1000),\n",
    "    scoring=\"neg_log_loss\",\n",
    "    n_probes=3,\n",
    "    distribution=\"normal\",\n",
    "    cv=3,\n",
    "    random_state=150,\n",
    ")\n",
    "\n",
    "X_tr = sel.fit_transform(X, y)\n",
    "X_tr"
   ]
  },
  {
   "cell_type": "code",
   "execution_count": null,
   "id": "1570cec8",
   "metadata": {},
   "outputs": [],
   "source": [
    "X_tr"
   ]
  },
  {
   "cell_type": "code",
   "execution_count": null,
   "id": "f0e0c434",
   "metadata": {},
   "outputs": [],
   "source": []
  }
 ],
 "metadata": {
  "kernelspec": {
   "display_name": ".env",
   "language": "python",
   "name": ".env"
  },
  "language_info": {
   "codemirror_mode": {
    "name": "ipython",
    "version": 3
   },
   "file_extension": ".py",
   "mimetype": "text/x-python",
   "name": "python",
   "nbconvert_exporter": "python",
   "pygments_lexer": "ipython3",
   "version": "3.10.9"
  }
 },
 "nbformat": 4,
 "nbformat_minor": 5
}
