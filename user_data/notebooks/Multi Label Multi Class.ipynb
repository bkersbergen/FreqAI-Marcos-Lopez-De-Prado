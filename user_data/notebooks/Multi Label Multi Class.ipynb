{
 "cells": [
  {
   "cell_type": "code",
   "execution_count": null,
   "id": "eb883ad2",
   "metadata": {},
   "outputs": [],
   "source": [
    "from catboost import CatBoostClassifier\n",
    "from sklearn.multiclass import OneVsRestClassifier\n",
    "from sklearn.preprocessing import MultiLabelBinarizer\n",
    "\n",
    "##Using your example data \n",
    "\n",
    "X = [[1, 2, 3, 4], [2, 3, 5, 1], [4, 5, 1, 3]]\n",
    "\n",
    "y = [[3, 1], [2, 8], [7, 8]]\n",
    "\n",
    "mlb = MultiLabelBinarizer()\n",
    "mlb.fit(y)\n",
    "y_k_hot = mlb.transform(y)\n",
    "\n",
    "ovr = OneVsRestClassifier(estimator=CatBoostClassifier(iterations=10,random_state=1))\n",
    "ovr.fit(X,y_k_hot)\n",
    "\n",
    "ovr.predict(X)*mlb.classes_"
   ]
  },
  {
   "cell_type": "code",
   "execution_count": null,
   "id": "59949567",
   "metadata": {},
   "outputs": [],
   "source": [
    "y_k_hot"
   ]
  },
  {
   "cell_type": "code",
   "execution_count": 10,
   "id": "0218db0d",
   "metadata": {},
   "outputs": [],
   "source": [
    "from catboost import CatBoostClassifier, Pool, EShapCalcType, EFeaturesSelectionAlgorithm, EFstrType, cv\n",
    "from user_data.litmus.onevsrest_catboost import OneVsRestClassifierCatboost\n",
    "from sklearn.datasets import make_classification, make_multilabel_classification\n",
    "from sklearn.model_selection import train_test_split"
   ]
  },
  {
   "cell_type": "code",
   "execution_count": 16,
   "id": "f1c1e63a",
   "metadata": {},
   "outputs": [],
   "source": [
    "X, y = make_multilabel_classification(n_samples=3000, n_labels=5, n_features=800)\n",
    "X_train, X_test, y_train, y_test = train_test_split(X, y, test_size=0.5)"
   ]
  },
  {
   "cell_type": "code",
   "execution_count": 6,
   "id": "1a0868c1",
   "metadata": {},
   "outputs": [],
   "source": [
    "\"\"\"X, y = make_classification(n_samples=3000, n_clusters_per_class=10, n_classes=2, n_informative=500, n_features=800)\n",
    "X_train, X_test, y_train, y_test = train_test_split(X, y, test_size=0.5)\n",
    "train_pool = Pool(X_train, y_train)\n",
    "test_pool = Pool(X_test, y_test)\"\"\""
   ]
  },
  {
   "cell_type": "code",
   "execution_count": 19,
   "id": "6caa2a59",
   "metadata": {},
   "outputs": [
    {
     "name": "stdout",
     "output_type": "stream",
     "text": [
      "Learning rate set to 0.5\n",
      "0:\tlearn: 0.6328116\ttotal: 4.81ms\tremaining: 43.3ms\n",
      "1:\tlearn: 0.6105619\ttotal: 8.26ms\tremaining: 33.1ms\n",
      "2:\tlearn: 0.6039950\ttotal: 11.6ms\tremaining: 27.2ms\n",
      "3:\tlearn: 0.5927690\ttotal: 15.6ms\tremaining: 23.3ms\n",
      "4:\tlearn: 0.5789139\ttotal: 19.1ms\tremaining: 19.1ms\n",
      "5:\tlearn: 0.5702618\ttotal: 22.7ms\tremaining: 15.1ms\n",
      "6:\tlearn: 0.5638366\ttotal: 26.2ms\tremaining: 11.2ms\n",
      "7:\tlearn: 0.5492748\ttotal: 30.1ms\tremaining: 7.53ms\n",
      "8:\tlearn: 0.5438654\ttotal: 34.9ms\tremaining: 3.87ms\n",
      "9:\tlearn: 0.5357936\ttotal: 39.1ms\tremaining: 0us\n",
      "Learning rate set to 0.5\n",
      "0:\tlearn: 0.5345702\ttotal: 4.71ms\tremaining: 42.4ms\n",
      "1:\tlearn: 0.4936379\ttotal: 8.58ms\tremaining: 34.3ms\n",
      "2:\tlearn: 0.4788592\ttotal: 13.4ms\tremaining: 31.4ms\n",
      "3:\tlearn: 0.4706515\ttotal: 17.3ms\tremaining: 26ms\n",
      "4:\tlearn: 0.4570171\ttotal: 21ms\tremaining: 21ms\n",
      "5:\tlearn: 0.4474522\ttotal: 24.6ms\tremaining: 16.4ms\n",
      "6:\tlearn: 0.4348335\ttotal: 28.3ms\tremaining: 12.1ms\n",
      "7:\tlearn: 0.4228583\ttotal: 32ms\tremaining: 7.99ms\n",
      "8:\tlearn: 0.4128408\ttotal: 36.4ms\tremaining: 4.05ms\n",
      "9:\tlearn: 0.4034370\ttotal: 39.9ms\tremaining: 0us\n",
      "Learning rate set to 0.5\n",
      "0:\tlearn: 0.4312212\ttotal: 3.87ms\tremaining: 34.8ms\n",
      "1:\tlearn: 0.3732906\ttotal: 7.55ms\tremaining: 30.2ms\n",
      "2:\tlearn: 0.3580450\ttotal: 11.5ms\tremaining: 26.8ms\n",
      "3:\tlearn: 0.3470250\ttotal: 14.9ms\tremaining: 22.4ms\n",
      "4:\tlearn: 0.3420037\ttotal: 18.5ms\tremaining: 18.5ms\n",
      "5:\tlearn: 0.3340297\ttotal: 22ms\tremaining: 14.7ms\n",
      "6:\tlearn: 0.3204739\ttotal: 26.1ms\tremaining: 11.2ms\n",
      "7:\tlearn: 0.3116239\ttotal: 31.6ms\tremaining: 7.89ms\n",
      "8:\tlearn: 0.3097968\ttotal: 35.3ms\tremaining: 3.92ms\n",
      "9:\tlearn: 0.3049760\ttotal: 38.7ms\tremaining: 0us\n",
      "Learning rate set to 0.5\n",
      "0:\tlearn: 0.4823743\ttotal: 4.42ms\tremaining: 39.8ms\n",
      "1:\tlearn: 0.4317461\ttotal: 7.88ms\tremaining: 31.5ms\n",
      "2:\tlearn: 0.4133147\ttotal: 11.5ms\tremaining: 26.9ms\n",
      "3:\tlearn: 0.4006675\ttotal: 18.3ms\tremaining: 27.5ms\n",
      "4:\tlearn: 0.3943611\ttotal: 21.8ms\tremaining: 21.8ms\n",
      "5:\tlearn: 0.3859104\ttotal: 26ms\tremaining: 17.4ms\n",
      "6:\tlearn: 0.3807088\ttotal: 29.8ms\tremaining: 12.8ms\n",
      "7:\tlearn: 0.3628941\ttotal: 34.5ms\tremaining: 8.64ms\n",
      "8:\tlearn: 0.3553105\ttotal: 39.3ms\tremaining: 4.36ms\n",
      "9:\tlearn: 0.3482051\ttotal: 45ms\tremaining: 0us\n",
      "Learning rate set to 0.5\n",
      "0:\tlearn: 0.5666521\ttotal: 4.94ms\tremaining: 44.5ms\n",
      "1:\tlearn: 0.5349535\ttotal: 9.23ms\tremaining: 36.9ms\n",
      "2:\tlearn: 0.5184685\ttotal: 12.9ms\tremaining: 30.2ms\n",
      "3:\tlearn: 0.5076486\ttotal: 17ms\tremaining: 25.5ms\n",
      "4:\tlearn: 0.4983088\ttotal: 20.7ms\tremaining: 20.7ms\n",
      "5:\tlearn: 0.4931599\ttotal: 24.8ms\tremaining: 16.5ms\n",
      "6:\tlearn: 0.4807602\ttotal: 28.3ms\tremaining: 12.1ms\n",
      "7:\tlearn: 0.4745014\ttotal: 32ms\tremaining: 8.01ms\n",
      "8:\tlearn: 0.4687104\ttotal: 37ms\tremaining: 4.11ms\n",
      "9:\tlearn: 0.4572268\ttotal: 40.5ms\tremaining: 0us\n"
     ]
    },
    {
     "data": {
      "text/html": [
       "<style>#sk-container-id-2 {color: black;background-color: white;}#sk-container-id-2 pre{padding: 0;}#sk-container-id-2 div.sk-toggleable {background-color: white;}#sk-container-id-2 label.sk-toggleable__label {cursor: pointer;display: block;width: 100%;margin-bottom: 0;padding: 0.3em;box-sizing: border-box;text-align: center;}#sk-container-id-2 label.sk-toggleable__label-arrow:before {content: \"▸\";float: left;margin-right: 0.25em;color: #696969;}#sk-container-id-2 label.sk-toggleable__label-arrow:hover:before {color: black;}#sk-container-id-2 div.sk-estimator:hover label.sk-toggleable__label-arrow:before {color: black;}#sk-container-id-2 div.sk-toggleable__content {max-height: 0;max-width: 0;overflow: hidden;text-align: left;background-color: #f0f8ff;}#sk-container-id-2 div.sk-toggleable__content pre {margin: 0.2em;color: black;border-radius: 0.25em;background-color: #f0f8ff;}#sk-container-id-2 input.sk-toggleable__control:checked~div.sk-toggleable__content {max-height: 200px;max-width: 100%;overflow: auto;}#sk-container-id-2 input.sk-toggleable__control:checked~label.sk-toggleable__label-arrow:before {content: \"▾\";}#sk-container-id-2 div.sk-estimator input.sk-toggleable__control:checked~label.sk-toggleable__label {background-color: #d4ebff;}#sk-container-id-2 div.sk-label input.sk-toggleable__control:checked~label.sk-toggleable__label {background-color: #d4ebff;}#sk-container-id-2 input.sk-hidden--visually {border: 0;clip: rect(1px 1px 1px 1px);clip: rect(1px, 1px, 1px, 1px);height: 1px;margin: -1px;overflow: hidden;padding: 0;position: absolute;width: 1px;}#sk-container-id-2 div.sk-estimator {font-family: monospace;background-color: #f0f8ff;border: 1px dotted black;border-radius: 0.25em;box-sizing: border-box;margin-bottom: 0.5em;}#sk-container-id-2 div.sk-estimator:hover {background-color: #d4ebff;}#sk-container-id-2 div.sk-parallel-item::after {content: \"\";width: 100%;border-bottom: 1px solid gray;flex-grow: 1;}#sk-container-id-2 div.sk-label:hover label.sk-toggleable__label {background-color: #d4ebff;}#sk-container-id-2 div.sk-serial::before {content: \"\";position: absolute;border-left: 1px solid gray;box-sizing: border-box;top: 0;bottom: 0;left: 50%;z-index: 0;}#sk-container-id-2 div.sk-serial {display: flex;flex-direction: column;align-items: center;background-color: white;padding-right: 0.2em;padding-left: 0.2em;position: relative;}#sk-container-id-2 div.sk-item {position: relative;z-index: 1;}#sk-container-id-2 div.sk-parallel {display: flex;align-items: stretch;justify-content: center;background-color: white;position: relative;}#sk-container-id-2 div.sk-item::before, #sk-container-id-2 div.sk-parallel-item::before {content: \"\";position: absolute;border-left: 1px solid gray;box-sizing: border-box;top: 0;bottom: 0;left: 50%;z-index: -1;}#sk-container-id-2 div.sk-parallel-item {display: flex;flex-direction: column;z-index: 1;position: relative;background-color: white;}#sk-container-id-2 div.sk-parallel-item:first-child::after {align-self: flex-end;width: 50%;}#sk-container-id-2 div.sk-parallel-item:last-child::after {align-self: flex-start;width: 50%;}#sk-container-id-2 div.sk-parallel-item:only-child::after {width: 0;}#sk-container-id-2 div.sk-dashed-wrapped {border: 1px dashed gray;margin: 0 0.4em 0.5em 0.4em;box-sizing: border-box;padding-bottom: 0.4em;background-color: white;}#sk-container-id-2 div.sk-label label {font-family: monospace;font-weight: bold;display: inline-block;line-height: 1.2em;}#sk-container-id-2 div.sk-label-container {text-align: center;}#sk-container-id-2 div.sk-container {/* jupyter's `normalize.less` sets `[hidden] { display: none; }` but bootstrap.min.css set `[hidden] { display: none !important; }` so we also need the `!important` here to be able to override the default hidden behavior on the sphinx rendered scikit-learn.org. See: https://github.com/scikit-learn/scikit-learn/issues/21755 */display: inline-block !important;position: relative;}#sk-container-id-2 div.sk-text-repr-fallback {display: none;}</style><div id=\"sk-container-id-2\" class=\"sk-top-container\"><div class=\"sk-text-repr-fallback\"><pre>OneVsRestClassifierCatboost(estimator=&lt;catboost.core.CatBoostClassifier object at 0x2a42f5df0&gt;)</pre><b>In a Jupyter environment, please rerun this cell to show the HTML representation or trust the notebook. <br />On GitHub, the HTML representation is unable to render, please try loading this page with nbviewer.org.</b></div><div class=\"sk-container\" hidden><div class=\"sk-item sk-dashed-wrapped\"><div class=\"sk-label-container\"><div class=\"sk-label sk-toggleable\"><input class=\"sk-toggleable__control sk-hidden--visually\" id=\"sk-estimator-id-4\" type=\"checkbox\" ><label for=\"sk-estimator-id-4\" class=\"sk-toggleable__label sk-toggleable__label-arrow\">OneVsRestClassifierCatboost</label><div class=\"sk-toggleable__content\"><pre>OneVsRestClassifierCatboost(estimator=&lt;catboost.core.CatBoostClassifier object at 0x2a42f5df0&gt;)</pre></div></div></div><div class=\"sk-parallel\"><div class=\"sk-parallel-item\"><div class=\"sk-item\"><div class=\"sk-label-container\"><div class=\"sk-label sk-toggleable\"><input class=\"sk-toggleable__control sk-hidden--visually\" id=\"sk-estimator-id-5\" type=\"checkbox\" ><label for=\"sk-estimator-id-5\" class=\"sk-toggleable__label sk-toggleable__label-arrow\">estimator: CatBoostClassifier</label><div class=\"sk-toggleable__content\"><pre>&lt;catboost.core.CatBoostClassifier object at 0x2a42f5df0&gt;</pre></div></div></div><div class=\"sk-serial\"><div class=\"sk-item\"><div class=\"sk-estimator sk-toggleable\"><input class=\"sk-toggleable__control sk-hidden--visually\" id=\"sk-estimator-id-6\" type=\"checkbox\" ><label for=\"sk-estimator-id-6\" class=\"sk-toggleable__label sk-toggleable__label-arrow\">CatBoostClassifier</label><div class=\"sk-toggleable__content\"><pre>&lt;catboost.core.CatBoostClassifier object at 0x2a42f5df0&gt;</pre></div></div></div></div></div></div></div></div></div></div>"
      ],
      "text/plain": [
       "OneVsRestClassifierCatboost(estimator=<catboost.core.CatBoostClassifier object at 0x2a42f5df0>)"
      ]
     },
     "execution_count": 19,
     "metadata": {},
     "output_type": "execute_result"
    }
   ],
   "source": [
    "ovr_new = OneVsRestClassifierCatboost(estimator=CatBoostClassifier(iterations=10, random_state=1, loss_function=\"MultiLogloss\"))\n",
    "ovr_new.fit(X=X_train, y=y_train)"
   ]
  },
  {
   "cell_type": "code",
   "execution_count": 20,
   "id": "917b366f",
   "metadata": {},
   "outputs": [],
   "source": [
    "clf = CatBoostClassifier(iterations=10, random_state=1, loss_function=\"MultiLogloss\")"
   ]
  },
  {
   "cell_type": "code",
   "execution_count": 21,
   "id": "e59cbc08",
   "metadata": {},
   "outputs": [
    {
     "name": "stdout",
     "output_type": "stream",
     "text": [
      "Learning rate set to 0.5\n",
      "0:\tlearn: 0.5295259\ttotal: 10.3ms\tremaining: 92.3ms\n",
      "1:\tlearn: 0.4889727\ttotal: 20.3ms\tremaining: 81.1ms\n",
      "2:\tlearn: 0.4782124\ttotal: 29ms\tremaining: 67.7ms\n",
      "3:\tlearn: 0.4716611\ttotal: 38ms\tremaining: 56.9ms\n",
      "4:\tlearn: 0.4646475\ttotal: 46.8ms\tremaining: 46.8ms\n",
      "5:\tlearn: 0.4583386\ttotal: 56.9ms\tremaining: 37.9ms\n",
      "6:\tlearn: 0.4538308\ttotal: 66.4ms\tremaining: 28.5ms\n",
      "7:\tlearn: 0.4483440\ttotal: 75.5ms\tremaining: 18.9ms\n",
      "8:\tlearn: 0.4425019\ttotal: 85.5ms\tremaining: 9.5ms\n",
      "9:\tlearn: 0.4391606\ttotal: 94.9ms\tremaining: 0us\n"
     ]
    },
    {
     "data": {
      "text/plain": [
       "<catboost.core.CatBoostClassifier at 0x2a42fea00>"
      ]
     },
     "execution_count": 21,
     "metadata": {},
     "output_type": "execute_result"
    }
   ],
   "source": [
    "clf.fit(X=X_train, y=y_train)"
   ]
  },
  {
   "cell_type": "code",
   "execution_count": 22,
   "id": "48e2ba97",
   "metadata": {},
   "outputs": [
    {
     "data": {
      "text/plain": [
       "array([0, 1, 2, 3, 4])"
      ]
     },
     "execution_count": 22,
     "metadata": {},
     "output_type": "execute_result"
    }
   ],
   "source": [
    "clf.classes_"
   ]
  }
 ],
 "metadata": {
  "kernelspec": {
   "display_name": ".env",
   "language": "python",
   "name": ".env"
  },
  "language_info": {
   "codemirror_mode": {
    "name": "ipython",
    "version": 3
   },
   "file_extension": ".py",
   "mimetype": "text/x-python",
   "name": "python",
   "nbconvert_exporter": "python",
   "pygments_lexer": "ipython3",
   "version": "3.9.13"
  }
 },
 "nbformat": 4,
 "nbformat_minor": 5
}
