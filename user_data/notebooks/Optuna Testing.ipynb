{
 "cells": [
  {
   "cell_type": "code",
   "execution_count": 1,
   "id": "a59fb8ef",
   "metadata": {},
   "outputs": [],
   "source": [
    "import numpy as np\n",
    "import optuna\n",
    "from optuna.integration import CatBoostPruningCallback\n",
    "import logging\n",
    "import sys\n",
    "\n",
    "import catboost as cb\n",
    "from sklearn.datasets import load_breast_cancer\n",
    "from sklearn.metrics import accuracy_score\n",
    "from sklearn.model_selection import train_test_split"
   ]
  },
  {
   "cell_type": "code",
   "execution_count": 2,
   "id": "629febba",
   "metadata": {},
   "outputs": [],
   "source": [
    "optuna.logging.get_logger(\"optuna\").addHandler(logging.StreamHandler(sys.stdout))\n",
    "study_name = \"Litmus_ETHUSDT\" \n",
    "storage_name = \"sqlite:///LitmusOptuna.sqlite\""
   ]
  },
  {
   "cell_type": "code",
   "execution_count": 3,
   "id": "aaba45a6",
   "metadata": {},
   "outputs": [],
   "source": [
    "def objective(trial: optuna.Trial) -> float:\n",
    "    data, target = load_breast_cancer(return_X_y=True)\n",
    "    train_x, valid_x, train_y, valid_y = train_test_split(data, target, test_size=0.25)\n",
    "\n",
    "    param = {\n",
    "        \"objective\": trial.suggest_categorical(\"objective\", [\"Logloss\", \"CrossEntropy\"]),\n",
    "        \"colsample_bylevel\": trial.suggest_float(\"colsample_bylevel\", 0.01, 0.1, log=True),\n",
    "        \"depth\": trial.suggest_int(\"depth\", 1, 12),\n",
    "        \"boosting_type\": trial.suggest_categorical(\"boosting_type\", [\"Ordered\", \"Plain\"]),\n",
    "        \"bootstrap_type\": trial.suggest_categorical(\n",
    "            \"bootstrap_type\", [\"Bayesian\", \"Bernoulli\", \"MVS\"]\n",
    "        ),\n",
    "        \"used_ram_limit\": \"3gb\",\n",
    "        \"eval_metric\": \"Accuracy\",\n",
    "    }\n",
    "\n",
    "    if param[\"bootstrap_type\"] == \"Bayesian\":\n",
    "        param[\"bagging_temperature\"] = trial.suggest_float(\"bagging_temperature\", 0, 10)\n",
    "    elif param[\"bootstrap_type\"] == \"Bernoulli\":\n",
    "        param[\"subsample\"] = trial.suggest_float(\"subsample\", 0.1, 1, log=True)\n",
    "\n",
    "    gbm = cb.CatBoostClassifier(**param)\n",
    "\n",
    "    pruning_callback = CatBoostPruningCallback(trial, \"Accuracy\")\n",
    "    gbm.fit(\n",
    "        train_x,\n",
    "        train_y,\n",
    "        eval_set=[(valid_x, valid_y)],\n",
    "        verbose=0,\n",
    "        early_stopping_rounds=100,\n",
    "        callbacks=[pruning_callback],\n",
    "    )\n",
    "\n",
    "    # evoke pruning manually.\n",
    "    pruning_callback.check_pruned()\n",
    "\n",
    "    preds = gbm.predict(valid_x)\n",
    "    pred_labels = np.rint(preds)\n",
    "    accuracy = accuracy_score(valid_y, pred_labels)\n",
    "\n",
    "    return accuracy"
   ]
  },
  {
   "cell_type": "code",
   "execution_count": 4,
   "id": "6e492a72",
   "metadata": {},
   "outputs": [
    {
     "name": "stderr",
     "output_type": "stream",
     "text": [
      "\u001b[32m[I 2022-10-18 21:04:18,781]\u001b[0m A new study created in RDB with name: Litmus_ETHUSDT\u001b[0m\n"
     ]
    },
    {
     "name": "stdout",
     "output_type": "stream",
     "text": [
      "A new study created in RDB with name: Litmus_ETHUSDT\n"
     ]
    }
   ],
   "source": [
    "study = optuna.create_study(\n",
    "    pruner=optuna.pruners.MedianPruner(n_warmup_steps=5), \n",
    "    direction=\"maximize\",\n",
    "    study_name=study_name, \n",
    "    storage=storage_name,\n",
    "    load_if_exists=True\n",
    "    )"
   ]
  },
  {
   "cell_type": "code",
   "execution_count": 6,
   "id": "9b351c9d",
   "metadata": {},
   "outputs": [
    {
     "data": {
      "text/html": [
       "<div>\n",
       "<style scoped>\n",
       "    .dataframe tbody tr th:only-of-type {\n",
       "        vertical-align: middle;\n",
       "    }\n",
       "\n",
       "    .dataframe tbody tr th {\n",
       "        vertical-align: top;\n",
       "    }\n",
       "\n",
       "    .dataframe thead th {\n",
       "        text-align: right;\n",
       "    }\n",
       "</style>\n",
       "<table border=\"1\" class=\"dataframe\">\n",
       "  <thead>\n",
       "    <tr style=\"text-align: right;\">\n",
       "      <th></th>\n",
       "    </tr>\n",
       "  </thead>\n",
       "  <tbody>\n",
       "  </tbody>\n",
       "</table>\n",
       "</div>"
      ],
      "text/plain": [
       "Empty DataFrame\n",
       "Columns: []\n",
       "Index: []"
      ]
     },
     "execution_count": 6,
     "metadata": {},
     "output_type": "execute_result"
    }
   ],
   "source": [
    "study.trials_dataframe()[\"datetime_complete\"].max()"
   ]
  },
  {
   "cell_type": "code",
   "execution_count": 13,
   "id": "bdcabf68",
   "metadata": {},
   "outputs": [
    {
     "name": "stdout",
     "output_type": "stream",
     "text": [
      "2022-10-18 21:13:06.641591\n"
     ]
    }
   ],
   "source": [
    "try:\n",
    "    latest_trial = study.trials_dataframe()[\"datetime_complete\"].max()\n",
    "    print(latest_trial)\n",
    "except:\n",
    "    print(\"none\")"
   ]
  },
  {
   "cell_type": "code",
   "execution_count": 23,
   "id": "a75d4797",
   "metadata": {},
   "outputs": [
    {
     "data": {
      "text/plain": [
       "Timestamp('2022-10-18 21:13:06.641591')"
      ]
     },
     "execution_count": 23,
     "metadata": {},
     "output_type": "execute_result"
    }
   ],
   "source": [
    "latest_trial"
   ]
  },
  {
   "cell_type": "code",
   "execution_count": 20,
   "id": "3a85a1b4",
   "metadata": {},
   "outputs": [
    {
     "data": {
      "text/plain": [
       "Timedelta('0 days 01:00:00')"
      ]
     },
     "execution_count": 20,
     "metadata": {},
     "output_type": "execute_result"
    }
   ],
   "source": [
    "import pandas as pd\n",
    "pd.Timedelta(\"1:00:00\")"
   ]
  },
  {
   "cell_type": "code",
   "execution_count": 22,
   "id": "c404ae78",
   "metadata": {},
   "outputs": [
    {
     "data": {
      "text/plain": [
       "Timestamp('2022-10-18 20:20:58.645151')"
      ]
     },
     "execution_count": 22,
     "metadata": {},
     "output_type": "execute_result"
    }
   ],
   "source": [
    "pd.Timestamp.now() - pd.Timedelta(\"1:00:00\")"
   ]
  },
  {
   "cell_type": "code",
   "execution_count": 25,
   "id": "9efeeb67",
   "metadata": {},
   "outputs": [
    {
     "data": {
      "text/plain": [
       "True"
      ]
     },
     "execution_count": 25,
     "metadata": {},
     "output_type": "execute_result"
    }
   ],
   "source": [
    "latest_trial < pd.Timestamp.now()"
   ]
  },
  {
   "cell_type": "code",
   "execution_count": 11,
   "id": "92894252",
   "metadata": {},
   "outputs": [
    {
     "name": "stderr",
     "output_type": "stream",
     "text": [
      "/var/folders/m4/19hkw84s6rv_8gcz6pd81s9r0035dh/T/ipykernel_50209/3542496604.py:24: ExperimentalWarning: CatBoostPruningCallback is experimental (supported from v3.0.0). The interface can change in the future.\n",
      "  pruning_callback = CatBoostPruningCallback(trial, \"Accuracy\")\n",
      "\u001b[32m[I 2022-10-18 21:12:35,015]\u001b[0m Trial 0 finished with value: 0.958041958041958 and parameters: {'objective': 'CrossEntropy', 'colsample_bylevel': 0.0245925977605981, 'depth': 11, 'boosting_type': 'Ordered', 'bootstrap_type': 'Bernoulli', 'subsample': 0.17411294659197038}. Best is trial 0 with value: 0.958041958041958.\u001b[0m\n"
     ]
    },
    {
     "name": "stdout",
     "output_type": "stream",
     "text": [
      "Trial 0 finished with value: 0.958041958041958 and parameters: {'objective': 'CrossEntropy', 'colsample_bylevel': 0.0245925977605981, 'depth': 11, 'boosting_type': 'Ordered', 'bootstrap_type': 'Bernoulli', 'subsample': 0.17411294659197038}. Best is trial 0 with value: 0.958041958041958.\n"
     ]
    },
    {
     "name": "stderr",
     "output_type": "stream",
     "text": [
      "/var/folders/m4/19hkw84s6rv_8gcz6pd81s9r0035dh/T/ipykernel_50209/3542496604.py:24: ExperimentalWarning: CatBoostPruningCallback is experimental (supported from v3.0.0). The interface can change in the future.\n",
      "  pruning_callback = CatBoostPruningCallback(trial, \"Accuracy\")\n",
      "\u001b[32m[I 2022-10-18 21:12:35,328]\u001b[0m Trial 1 finished with value: 0.965034965034965 and parameters: {'objective': 'CrossEntropy', 'colsample_bylevel': 0.029738751214197407, 'depth': 9, 'boosting_type': 'Plain', 'bootstrap_type': 'Bayesian', 'bagging_temperature': 8.673309984179019}. Best is trial 1 with value: 0.965034965034965.\u001b[0m\n"
     ]
    },
    {
     "name": "stdout",
     "output_type": "stream",
     "text": [
      "Trial 1 finished with value: 0.965034965034965 and parameters: {'objective': 'CrossEntropy', 'colsample_bylevel': 0.029738751214197407, 'depth': 9, 'boosting_type': 'Plain', 'bootstrap_type': 'Bayesian', 'bagging_temperature': 8.673309984179019}. Best is trial 1 with value: 0.965034965034965.\n"
     ]
    },
    {
     "name": "stderr",
     "output_type": "stream",
     "text": [
      "/var/folders/m4/19hkw84s6rv_8gcz6pd81s9r0035dh/T/ipykernel_50209/3542496604.py:24: ExperimentalWarning: CatBoostPruningCallback is experimental (supported from v3.0.0). The interface can change in the future.\n",
      "  pruning_callback = CatBoostPruningCallback(trial, \"Accuracy\")\n",
      "\u001b[32m[I 2022-10-18 21:12:36,200]\u001b[0m Trial 2 finished with value: 0.951048951048951 and parameters: {'objective': 'Logloss', 'colsample_bylevel': 0.01605945948307907, 'depth': 2, 'boosting_type': 'Plain', 'bootstrap_type': 'MVS'}. Best is trial 1 with value: 0.965034965034965.\u001b[0m\n"
     ]
    },
    {
     "name": "stdout",
     "output_type": "stream",
     "text": [
      "Trial 2 finished with value: 0.951048951048951 and parameters: {'objective': 'Logloss', 'colsample_bylevel': 0.01605945948307907, 'depth': 2, 'boosting_type': 'Plain', 'bootstrap_type': 'MVS'}. Best is trial 1 with value: 0.965034965034965.\n"
     ]
    },
    {
     "name": "stderr",
     "output_type": "stream",
     "text": [
      "/var/folders/m4/19hkw84s6rv_8gcz6pd81s9r0035dh/T/ipykernel_50209/3542496604.py:24: ExperimentalWarning: CatBoostPruningCallback is experimental (supported from v3.0.0). The interface can change in the future.\n",
      "  pruning_callback = CatBoostPruningCallback(trial, \"Accuracy\")\n",
      "\u001b[32m[I 2022-10-18 21:12:45,895]\u001b[0m Trial 3 finished with value: 0.965034965034965 and parameters: {'objective': 'CrossEntropy', 'colsample_bylevel': 0.07763868365111067, 'depth': 12, 'boosting_type': 'Ordered', 'bootstrap_type': 'MVS'}. Best is trial 1 with value: 0.965034965034965.\u001b[0m\n"
     ]
    },
    {
     "name": "stdout",
     "output_type": "stream",
     "text": [
      "Trial 3 finished with value: 0.965034965034965 and parameters: {'objective': 'CrossEntropy', 'colsample_bylevel': 0.07763868365111067, 'depth': 12, 'boosting_type': 'Ordered', 'bootstrap_type': 'MVS'}. Best is trial 1 with value: 0.965034965034965.\n"
     ]
    },
    {
     "name": "stderr",
     "output_type": "stream",
     "text": [
      "/var/folders/m4/19hkw84s6rv_8gcz6pd81s9r0035dh/T/ipykernel_50209/3542496604.py:24: ExperimentalWarning: CatBoostPruningCallback is experimental (supported from v3.0.0). The interface can change in the future.\n",
      "  pruning_callback = CatBoostPruningCallback(trial, \"Accuracy\")\n",
      "\u001b[32m[I 2022-10-18 21:12:46,272]\u001b[0m Trial 4 finished with value: 0.9790209790209791 and parameters: {'objective': 'CrossEntropy', 'colsample_bylevel': 0.029899738992007503, 'depth': 2, 'boosting_type': 'Plain', 'bootstrap_type': 'Bernoulli', 'subsample': 0.18058130211991963}. Best is trial 4 with value: 0.9790209790209791.\u001b[0m\n"
     ]
    },
    {
     "name": "stdout",
     "output_type": "stream",
     "text": [
      "Trial 4 finished with value: 0.9790209790209791 and parameters: {'objective': 'CrossEntropy', 'colsample_bylevel': 0.029899738992007503, 'depth': 2, 'boosting_type': 'Plain', 'bootstrap_type': 'Bernoulli', 'subsample': 0.18058130211991963}. Best is trial 4 with value: 0.9790209790209791.\n"
     ]
    },
    {
     "name": "stderr",
     "output_type": "stream",
     "text": [
      "/var/folders/m4/19hkw84s6rv_8gcz6pd81s9r0035dh/T/ipykernel_50209/3542496604.py:24: ExperimentalWarning: CatBoostPruningCallback is experimental (supported from v3.0.0). The interface can change in the future.\n",
      "  pruning_callback = CatBoostPruningCallback(trial, \"Accuracy\")\n",
      "\u001b[32m[I 2022-10-18 21:12:46,679]\u001b[0m Trial 5 finished with value: 0.958041958041958 and parameters: {'objective': 'CrossEntropy', 'colsample_bylevel': 0.021426398573980328, 'depth': 2, 'boosting_type': 'Ordered', 'bootstrap_type': 'MVS'}. Best is trial 4 with value: 0.9790209790209791.\u001b[0m\n"
     ]
    },
    {
     "name": "stdout",
     "output_type": "stream",
     "text": [
      "Trial 5 finished with value: 0.958041958041958 and parameters: {'objective': 'CrossEntropy', 'colsample_bylevel': 0.021426398573980328, 'depth': 2, 'boosting_type': 'Ordered', 'bootstrap_type': 'MVS'}. Best is trial 4 with value: 0.9790209790209791.\n"
     ]
    },
    {
     "name": "stderr",
     "output_type": "stream",
     "text": [
      "/var/folders/m4/19hkw84s6rv_8gcz6pd81s9r0035dh/T/ipykernel_50209/3542496604.py:24: ExperimentalWarning: CatBoostPruningCallback is experimental (supported from v3.0.0). The interface can change in the future.\n",
      "  pruning_callback = CatBoostPruningCallback(trial, \"Accuracy\")\n",
      "\u001b[32m[I 2022-10-18 21:12:46,774]\u001b[0m Trial 6 pruned. Trial was pruned at iteration 5.\u001b[0m\n"
     ]
    },
    {
     "name": "stdout",
     "output_type": "stream",
     "text": [
      "Trial 6 pruned. Trial was pruned at iteration 5.\n"
     ]
    },
    {
     "name": "stderr",
     "output_type": "stream",
     "text": [
      "\u001b[32m[I 2022-10-18 21:12:47,588]\u001b[0m Trial 7 finished with value: 0.965034965034965 and parameters: {'objective': 'CrossEntropy', 'colsample_bylevel': 0.07736756096607625, 'depth': 7, 'boosting_type': 'Ordered', 'bootstrap_type': 'MVS'}. Best is trial 4 with value: 0.9790209790209791.\u001b[0m\n"
     ]
    },
    {
     "name": "stdout",
     "output_type": "stream",
     "text": [
      "Trial 7 finished with value: 0.965034965034965 and parameters: {'objective': 'CrossEntropy', 'colsample_bylevel': 0.07736756096607625, 'depth': 7, 'boosting_type': 'Ordered', 'bootstrap_type': 'MVS'}. Best is trial 4 with value: 0.9790209790209791.\n"
     ]
    },
    {
     "name": "stderr",
     "output_type": "stream",
     "text": [
      "/var/folders/m4/19hkw84s6rv_8gcz6pd81s9r0035dh/T/ipykernel_50209/3542496604.py:24: ExperimentalWarning: CatBoostPruningCallback is experimental (supported from v3.0.0). The interface can change in the future.\n",
      "  pruning_callback = CatBoostPruningCallback(trial, \"Accuracy\")\n",
      "\u001b[32m[I 2022-10-18 21:12:48,030]\u001b[0m Trial 8 finished with value: 0.958041958041958 and parameters: {'objective': 'CrossEntropy', 'colsample_bylevel': 0.05763203247387485, 'depth': 9, 'boosting_type': 'Plain', 'bootstrap_type': 'Bayesian', 'bagging_temperature': 4.517269638366343}. Best is trial 4 with value: 0.9790209790209791.\u001b[0m\n"
     ]
    },
    {
     "name": "stdout",
     "output_type": "stream",
     "text": [
      "Trial 8 finished with value: 0.958041958041958 and parameters: {'objective': 'CrossEntropy', 'colsample_bylevel': 0.05763203247387485, 'depth': 9, 'boosting_type': 'Plain', 'bootstrap_type': 'Bayesian', 'bagging_temperature': 4.517269638366343}. Best is trial 4 with value: 0.9790209790209791.\n"
     ]
    },
    {
     "name": "stderr",
     "output_type": "stream",
     "text": [
      "/var/folders/m4/19hkw84s6rv_8gcz6pd81s9r0035dh/T/ipykernel_50209/3542496604.py:24: ExperimentalWarning: CatBoostPruningCallback is experimental (supported from v3.0.0). The interface can change in the future.\n",
      "  pruning_callback = CatBoostPruningCallback(trial, \"Accuracy\")\n",
      "\u001b[32m[I 2022-10-18 21:12:48,083]\u001b[0m Trial 9 pruned. Trial was pruned at iteration 5.\u001b[0m\n"
     ]
    },
    {
     "name": "stdout",
     "output_type": "stream",
     "text": [
      "Trial 9 pruned. Trial was pruned at iteration 5.\n"
     ]
    },
    {
     "name": "stderr",
     "output_type": "stream",
     "text": [
      "\u001b[32m[I 2022-10-18 21:12:48,139]\u001b[0m Trial 10 pruned. Trial was pruned at iteration 5.\u001b[0m\n"
     ]
    },
    {
     "name": "stdout",
     "output_type": "stream",
     "text": [
      "Trial 10 pruned. Trial was pruned at iteration 5.\n"
     ]
    },
    {
     "name": "stderr",
     "output_type": "stream",
     "text": [
      "\u001b[32m[I 2022-10-18 21:12:48,604]\u001b[0m Trial 11 finished with value: 0.9790209790209791 and parameters: {'objective': 'Logloss', 'colsample_bylevel': 0.03756268915301768, 'depth': 8, 'boosting_type': 'Plain', 'bootstrap_type': 'Bayesian', 'bagging_temperature': 9.886985534619896}. Best is trial 4 with value: 0.9790209790209791.\u001b[0m\n"
     ]
    },
    {
     "name": "stdout",
     "output_type": "stream",
     "text": [
      "Trial 11 finished with value: 0.9790209790209791 and parameters: {'objective': 'Logloss', 'colsample_bylevel': 0.03756268915301768, 'depth': 8, 'boosting_type': 'Plain', 'bootstrap_type': 'Bayesian', 'bagging_temperature': 9.886985534619896}. Best is trial 4 with value: 0.9790209790209791.\n"
     ]
    },
    {
     "name": "stderr",
     "output_type": "stream",
     "text": [
      "/var/folders/m4/19hkw84s6rv_8gcz6pd81s9r0035dh/T/ipykernel_50209/3542496604.py:24: ExperimentalWarning: CatBoostPruningCallback is experimental (supported from v3.0.0). The interface can change in the future.\n",
      "  pruning_callback = CatBoostPruningCallback(trial, \"Accuracy\")\n",
      "\u001b[32m[I 2022-10-18 21:12:48,776]\u001b[0m Trial 12 pruned. Trial was pruned at iteration 34.\u001b[0m\n"
     ]
    },
    {
     "name": "stdout",
     "output_type": "stream",
     "text": [
      "Trial 12 pruned. Trial was pruned at iteration 34.\n"
     ]
    },
    {
     "name": "stderr",
     "output_type": "stream",
     "text": [
      "\u001b[32m[I 2022-10-18 21:12:49,208]\u001b[0m Trial 13 finished with value: 0.972027972027972 and parameters: {'objective': 'Logloss', 'colsample_bylevel': 0.04473341095144523, 'depth': 5, 'boosting_type': 'Plain', 'bootstrap_type': 'Bernoulli', 'subsample': 0.3289018742009276}. Best is trial 4 with value: 0.9790209790209791.\u001b[0m\n"
     ]
    },
    {
     "name": "stdout",
     "output_type": "stream",
     "text": [
      "Trial 13 finished with value: 0.972027972027972 and parameters: {'objective': 'Logloss', 'colsample_bylevel': 0.04473341095144523, 'depth': 5, 'boosting_type': 'Plain', 'bootstrap_type': 'Bernoulli', 'subsample': 0.3289018742009276}. Best is trial 4 with value: 0.9790209790209791.\n"
     ]
    },
    {
     "name": "stderr",
     "output_type": "stream",
     "text": [
      "/var/folders/m4/19hkw84s6rv_8gcz6pd81s9r0035dh/T/ipykernel_50209/3542496604.py:24: ExperimentalWarning: CatBoostPruningCallback is experimental (supported from v3.0.0). The interface can change in the future.\n",
      "  pruning_callback = CatBoostPruningCallback(trial, \"Accuracy\")\n",
      "\u001b[32m[I 2022-10-18 21:12:49,321]\u001b[0m Trial 14 pruned. Trial was pruned at iteration 22.\u001b[0m\n"
     ]
    },
    {
     "name": "stdout",
     "output_type": "stream",
     "text": [
      "Trial 14 pruned. Trial was pruned at iteration 22.\n"
     ]
    },
    {
     "name": "stderr",
     "output_type": "stream",
     "text": [
      "\u001b[32m[I 2022-10-18 21:12:49,761]\u001b[0m Trial 15 finished with value: 0.958041958041958 and parameters: {'objective': 'Logloss', 'colsample_bylevel': 0.03385542779972213, 'depth': 4, 'boosting_type': 'Plain', 'bootstrap_type': 'Bernoulli', 'subsample': 0.21644018951431926}. Best is trial 4 with value: 0.9790209790209791.\u001b[0m\n"
     ]
    },
    {
     "name": "stdout",
     "output_type": "stream",
     "text": [
      "Trial 15 finished with value: 0.958041958041958 and parameters: {'objective': 'Logloss', 'colsample_bylevel': 0.03385542779972213, 'depth': 4, 'boosting_type': 'Plain', 'bootstrap_type': 'Bernoulli', 'subsample': 0.21644018951431926}. Best is trial 4 with value: 0.9790209790209791.\n"
     ]
    },
    {
     "name": "stderr",
     "output_type": "stream",
     "text": [
      "/var/folders/m4/19hkw84s6rv_8gcz6pd81s9r0035dh/T/ipykernel_50209/3542496604.py:24: ExperimentalWarning: CatBoostPruningCallback is experimental (supported from v3.0.0). The interface can change in the future.\n",
      "  pruning_callback = CatBoostPruningCallback(trial, \"Accuracy\")\n",
      "\u001b[32m[I 2022-10-18 21:12:49,818]\u001b[0m Trial 16 pruned. Trial was pruned at iteration 5.\u001b[0m\n"
     ]
    },
    {
     "name": "stdout",
     "output_type": "stream",
     "text": [
      "Trial 16 pruned. Trial was pruned at iteration 5.\n"
     ]
    },
    {
     "name": "stderr",
     "output_type": "stream",
     "text": [
      "\u001b[32m[I 2022-10-18 21:12:49,875]\u001b[0m Trial 17 pruned. Trial was pruned at iteration 5.\u001b[0m\n"
     ]
    },
    {
     "name": "stdout",
     "output_type": "stream",
     "text": [
      "Trial 17 pruned. Trial was pruned at iteration 5.\n"
     ]
    },
    {
     "name": "stderr",
     "output_type": "stream",
     "text": [
      "\u001b[32m[I 2022-10-18 21:12:49,928]\u001b[0m Trial 18 pruned. Trial was pruned at iteration 5.\u001b[0m\n"
     ]
    },
    {
     "name": "stdout",
     "output_type": "stream",
     "text": [
      "Trial 18 pruned. Trial was pruned at iteration 5.\n"
     ]
    },
    {
     "name": "stderr",
     "output_type": "stream",
     "text": [
      "\u001b[32m[I 2022-10-18 21:12:49,984]\u001b[0m Trial 19 pruned. Trial was pruned at iteration 5.\u001b[0m\n"
     ]
    },
    {
     "name": "stdout",
     "output_type": "stream",
     "text": [
      "Trial 19 pruned. Trial was pruned at iteration 5.\n"
     ]
    },
    {
     "name": "stderr",
     "output_type": "stream",
     "text": [
      "\u001b[32m[I 2022-10-18 21:12:50,541]\u001b[0m Trial 20 finished with value: 0.965034965034965 and parameters: {'objective': 'Logloss', 'colsample_bylevel': 0.09931375165923303, 'depth': 6, 'boosting_type': 'Plain', 'bootstrap_type': 'Bayesian', 'bagging_temperature': 5.876312833296867}. Best is trial 4 with value: 0.9790209790209791.\u001b[0m\n"
     ]
    },
    {
     "name": "stdout",
     "output_type": "stream",
     "text": [
      "Trial 20 finished with value: 0.965034965034965 and parameters: {'objective': 'Logloss', 'colsample_bylevel': 0.09931375165923303, 'depth': 6, 'boosting_type': 'Plain', 'bootstrap_type': 'Bayesian', 'bagging_temperature': 5.876312833296867}. Best is trial 4 with value: 0.9790209790209791.\n"
     ]
    },
    {
     "name": "stderr",
     "output_type": "stream",
     "text": [
      "/var/folders/m4/19hkw84s6rv_8gcz6pd81s9r0035dh/T/ipykernel_50209/3542496604.py:24: ExperimentalWarning: CatBoostPruningCallback is experimental (supported from v3.0.0). The interface can change in the future.\n",
      "  pruning_callback = CatBoostPruningCallback(trial, \"Accuracy\")\n",
      "\u001b[32m[I 2022-10-18 21:12:50,593]\u001b[0m Trial 21 pruned. Trial was pruned at iteration 5.\u001b[0m\n"
     ]
    },
    {
     "name": "stdout",
     "output_type": "stream",
     "text": [
      "Trial 21 pruned. Trial was pruned at iteration 5.\n"
     ]
    },
    {
     "name": "stderr",
     "output_type": "stream",
     "text": [
      "\u001b[32m[I 2022-10-18 21:12:50,661]\u001b[0m Trial 22 pruned. Trial was pruned at iteration 5.\u001b[0m\n"
     ]
    },
    {
     "name": "stdout",
     "output_type": "stream",
     "text": [
      "Trial 22 pruned. Trial was pruned at iteration 5.\n"
     ]
    },
    {
     "name": "stderr",
     "output_type": "stream",
     "text": [
      "\u001b[32m[I 2022-10-18 21:12:51,069]\u001b[0m Trial 23 finished with value: 0.965034965034965 and parameters: {'objective': 'Logloss', 'colsample_bylevel': 0.034410129135911675, 'depth': 3, 'boosting_type': 'Plain', 'bootstrap_type': 'Bernoulli', 'subsample': 0.35154271858603925}. Best is trial 4 with value: 0.9790209790209791.\u001b[0m\n"
     ]
    },
    {
     "name": "stdout",
     "output_type": "stream",
     "text": [
      "Trial 23 finished with value: 0.965034965034965 and parameters: {'objective': 'Logloss', 'colsample_bylevel': 0.034410129135911675, 'depth': 3, 'boosting_type': 'Plain', 'bootstrap_type': 'Bernoulli', 'subsample': 0.35154271858603925}. Best is trial 4 with value: 0.9790209790209791.\n"
     ]
    },
    {
     "name": "stderr",
     "output_type": "stream",
     "text": [
      "/var/folders/m4/19hkw84s6rv_8gcz6pd81s9r0035dh/T/ipykernel_50209/3542496604.py:24: ExperimentalWarning: CatBoostPruningCallback is experimental (supported from v3.0.0). The interface can change in the future.\n",
      "  pruning_callback = CatBoostPruningCallback(trial, \"Accuracy\")\n",
      "\u001b[32m[I 2022-10-18 21:12:51,195]\u001b[0m Trial 24 pruned. Trial was pruned at iteration 27.\u001b[0m\n"
     ]
    },
    {
     "name": "stdout",
     "output_type": "stream",
     "text": [
      "Trial 24 pruned. Trial was pruned at iteration 27.\n"
     ]
    },
    {
     "name": "stderr",
     "output_type": "stream",
     "text": [
      "\u001b[32m[I 2022-10-18 21:12:51,263]\u001b[0m Trial 25 pruned. Trial was pruned at iteration 5.\u001b[0m\n"
     ]
    },
    {
     "name": "stdout",
     "output_type": "stream",
     "text": [
      "Trial 25 pruned. Trial was pruned at iteration 5.\n"
     ]
    },
    {
     "name": "stderr",
     "output_type": "stream",
     "text": [
      "\u001b[32m[I 2022-10-18 21:12:51,374]\u001b[0m Trial 26 pruned. Trial was pruned at iteration 15.\u001b[0m\n"
     ]
    },
    {
     "name": "stdout",
     "output_type": "stream",
     "text": [
      "Trial 26 pruned. Trial was pruned at iteration 15.\n"
     ]
    },
    {
     "name": "stderr",
     "output_type": "stream",
     "text": [
      "\u001b[32m[I 2022-10-18 21:12:51,698]\u001b[0m Trial 27 finished with value: 0.972027972027972 and parameters: {'objective': 'Logloss', 'colsample_bylevel': 0.01986311606131057, 'depth': 8, 'boosting_type': 'Plain', 'bootstrap_type': 'Bernoulli', 'subsample': 0.14026811582134155}. Best is trial 4 with value: 0.9790209790209791.\u001b[0m\n"
     ]
    },
    {
     "name": "stdout",
     "output_type": "stream",
     "text": [
      "Trial 27 finished with value: 0.972027972027972 and parameters: {'objective': 'Logloss', 'colsample_bylevel': 0.01986311606131057, 'depth': 8, 'boosting_type': 'Plain', 'bootstrap_type': 'Bernoulli', 'subsample': 0.14026811582134155}. Best is trial 4 with value: 0.9790209790209791.\n"
     ]
    },
    {
     "name": "stderr",
     "output_type": "stream",
     "text": [
      "/var/folders/m4/19hkw84s6rv_8gcz6pd81s9r0035dh/T/ipykernel_50209/3542496604.py:24: ExperimentalWarning: CatBoostPruningCallback is experimental (supported from v3.0.0). The interface can change in the future.\n",
      "  pruning_callback = CatBoostPruningCallback(trial, \"Accuracy\")\n",
      "\u001b[32m[I 2022-10-18 21:12:51,759]\u001b[0m Trial 28 pruned. Trial was pruned at iteration 5.\u001b[0m\n"
     ]
    },
    {
     "name": "stdout",
     "output_type": "stream",
     "text": [
      "Trial 28 pruned. Trial was pruned at iteration 5.\n"
     ]
    },
    {
     "name": "stderr",
     "output_type": "stream",
     "text": [
      "\u001b[32m[I 2022-10-18 21:12:52,281]\u001b[0m Trial 29 finished with value: 0.965034965034965 and parameters: {'objective': 'CrossEntropy', 'colsample_bylevel': 0.025827838410611238, 'depth': 4, 'boosting_type': 'Ordered', 'bootstrap_type': 'Bayesian', 'bagging_temperature': 6.706742704527082}. Best is trial 4 with value: 0.9790209790209791.\u001b[0m\n"
     ]
    },
    {
     "name": "stdout",
     "output_type": "stream",
     "text": [
      "Trial 29 finished with value: 0.965034965034965 and parameters: {'objective': 'CrossEntropy', 'colsample_bylevel': 0.025827838410611238, 'depth': 4, 'boosting_type': 'Ordered', 'bootstrap_type': 'Bayesian', 'bagging_temperature': 6.706742704527082}. Best is trial 4 with value: 0.9790209790209791.\n"
     ]
    },
    {
     "name": "stderr",
     "output_type": "stream",
     "text": [
      "/var/folders/m4/19hkw84s6rv_8gcz6pd81s9r0035dh/T/ipykernel_50209/3542496604.py:24: ExperimentalWarning: CatBoostPruningCallback is experimental (supported from v3.0.0). The interface can change in the future.\n",
      "  pruning_callback = CatBoostPruningCallback(trial, \"Accuracy\")\n",
      "\u001b[32m[I 2022-10-18 21:12:52,357]\u001b[0m Trial 30 pruned. Trial was pruned at iteration 5.\u001b[0m\n"
     ]
    },
    {
     "name": "stdout",
     "output_type": "stream",
     "text": [
      "Trial 30 pruned. Trial was pruned at iteration 5.\n"
     ]
    },
    {
     "name": "stderr",
     "output_type": "stream",
     "text": [
      "\u001b[32m[I 2022-10-18 21:12:52,411]\u001b[0m Trial 31 pruned. Trial was pruned at iteration 5.\u001b[0m\n"
     ]
    },
    {
     "name": "stdout",
     "output_type": "stream",
     "text": [
      "Trial 31 pruned. Trial was pruned at iteration 5.\n"
     ]
    },
    {
     "name": "stderr",
     "output_type": "stream",
     "text": [
      "\u001b[32m[I 2022-10-18 21:12:52,464]\u001b[0m Trial 32 pruned. Trial was pruned at iteration 5.\u001b[0m\n"
     ]
    },
    {
     "name": "stdout",
     "output_type": "stream",
     "text": [
      "Trial 32 pruned. Trial was pruned at iteration 5.\n"
     ]
    },
    {
     "name": "stderr",
     "output_type": "stream",
     "text": [
      "\u001b[32m[I 2022-10-18 21:12:52,523]\u001b[0m Trial 33 pruned. Trial was pruned at iteration 5.\u001b[0m\n"
     ]
    },
    {
     "name": "stdout",
     "output_type": "stream",
     "text": [
      "Trial 33 pruned. Trial was pruned at iteration 5.\n"
     ]
    },
    {
     "name": "stderr",
     "output_type": "stream",
     "text": [
      "\u001b[32m[I 2022-10-18 21:12:52,603]\u001b[0m Trial 34 pruned. Trial was pruned at iteration 5.\u001b[0m\n"
     ]
    },
    {
     "name": "stdout",
     "output_type": "stream",
     "text": [
      "Trial 34 pruned. Trial was pruned at iteration 5.\n"
     ]
    },
    {
     "name": "stderr",
     "output_type": "stream",
     "text": [
      "\u001b[32m[I 2022-10-18 21:12:52,660]\u001b[0m Trial 35 pruned. Trial was pruned at iteration 5.\u001b[0m\n"
     ]
    },
    {
     "name": "stdout",
     "output_type": "stream",
     "text": [
      "Trial 35 pruned. Trial was pruned at iteration 5.\n"
     ]
    },
    {
     "name": "stderr",
     "output_type": "stream",
     "text": [
      "\u001b[32m[I 2022-10-18 21:12:53,144]\u001b[0m Trial 36 pruned. Trial was pruned at iteration 124.\u001b[0m\n"
     ]
    },
    {
     "name": "stdout",
     "output_type": "stream",
     "text": [
      "Trial 36 pruned. Trial was pruned at iteration 124.\n"
     ]
    },
    {
     "name": "stderr",
     "output_type": "stream",
     "text": [
      "\u001b[32m[I 2022-10-18 21:12:53,592]\u001b[0m Trial 37 pruned. Trial was pruned at iteration 104.\u001b[0m\n"
     ]
    },
    {
     "name": "stdout",
     "output_type": "stream",
     "text": [
      "Trial 37 pruned. Trial was pruned at iteration 104.\n"
     ]
    },
    {
     "name": "stderr",
     "output_type": "stream",
     "text": [
      "\u001b[32m[I 2022-10-18 21:12:54,092]\u001b[0m Trial 38 finished with value: 0.9790209790209791 and parameters: {'objective': 'Logloss', 'colsample_bylevel': 0.026240001184682976, 'depth': 9, 'boosting_type': 'Ordered', 'bootstrap_type': 'MVS'}. Best is trial 4 with value: 0.9790209790209791.\u001b[0m\n"
     ]
    },
    {
     "name": "stdout",
     "output_type": "stream",
     "text": [
      "Trial 38 finished with value: 0.9790209790209791 and parameters: {'objective': 'Logloss', 'colsample_bylevel': 0.026240001184682976, 'depth': 9, 'boosting_type': 'Ordered', 'bootstrap_type': 'MVS'}. Best is trial 4 with value: 0.9790209790209791.\n"
     ]
    },
    {
     "name": "stderr",
     "output_type": "stream",
     "text": [
      "/var/folders/m4/19hkw84s6rv_8gcz6pd81s9r0035dh/T/ipykernel_50209/3542496604.py:24: ExperimentalWarning: CatBoostPruningCallback is experimental (supported from v3.0.0). The interface can change in the future.\n",
      "  pruning_callback = CatBoostPruningCallback(trial, \"Accuracy\")\n",
      "\u001b[32m[I 2022-10-18 21:12:54,176]\u001b[0m Trial 39 pruned. Trial was pruned at iteration 8.\u001b[0m\n"
     ]
    },
    {
     "name": "stdout",
     "output_type": "stream",
     "text": [
      "Trial 39 pruned. Trial was pruned at iteration 8.\n"
     ]
    },
    {
     "name": "stderr",
     "output_type": "stream",
     "text": [
      "\u001b[32m[I 2022-10-18 21:12:54,591]\u001b[0m Trial 40 finished with value: 0.958041958041958 and parameters: {'objective': 'CrossEntropy', 'colsample_bylevel': 0.027427502479771746, 'depth': 9, 'boosting_type': 'Ordered', 'bootstrap_type': 'MVS'}. Best is trial 4 with value: 0.9790209790209791.\u001b[0m\n"
     ]
    },
    {
     "name": "stdout",
     "output_type": "stream",
     "text": [
      "Trial 40 finished with value: 0.958041958041958 and parameters: {'objective': 'CrossEntropy', 'colsample_bylevel': 0.027427502479771746, 'depth': 9, 'boosting_type': 'Ordered', 'bootstrap_type': 'MVS'}. Best is trial 4 with value: 0.9790209790209791.\n"
     ]
    },
    {
     "name": "stderr",
     "output_type": "stream",
     "text": [
      "/var/folders/m4/19hkw84s6rv_8gcz6pd81s9r0035dh/T/ipykernel_50209/3542496604.py:24: ExperimentalWarning: CatBoostPruningCallback is experimental (supported from v3.0.0). The interface can change in the future.\n",
      "  pruning_callback = CatBoostPruningCallback(trial, \"Accuracy\")\n",
      "\u001b[32m[I 2022-10-18 21:12:54,675]\u001b[0m Trial 41 pruned. Trial was pruned at iteration 10.\u001b[0m\n"
     ]
    },
    {
     "name": "stdout",
     "output_type": "stream",
     "text": [
      "Trial 41 pruned. Trial was pruned at iteration 10.\n"
     ]
    },
    {
     "name": "stderr",
     "output_type": "stream",
     "text": [
      "\u001b[32m[I 2022-10-18 21:12:54,740]\u001b[0m Trial 42 pruned. Trial was pruned at iteration 5.\u001b[0m\n"
     ]
    },
    {
     "name": "stdout",
     "output_type": "stream",
     "text": [
      "Trial 42 pruned. Trial was pruned at iteration 5.\n"
     ]
    },
    {
     "name": "stderr",
     "output_type": "stream",
     "text": [
      "\u001b[32m[I 2022-10-18 21:12:55,296]\u001b[0m Trial 43 finished with value: 0.972027972027972 and parameters: {'objective': 'Logloss', 'colsample_bylevel': 0.03791936312085012, 'depth': 11, 'boosting_type': 'Ordered', 'bootstrap_type': 'MVS'}. Best is trial 4 with value: 0.9790209790209791.\u001b[0m\n"
     ]
    },
    {
     "name": "stdout",
     "output_type": "stream",
     "text": [
      "Trial 43 finished with value: 0.972027972027972 and parameters: {'objective': 'Logloss', 'colsample_bylevel': 0.03791936312085012, 'depth': 11, 'boosting_type': 'Ordered', 'bootstrap_type': 'MVS'}. Best is trial 4 with value: 0.9790209790209791.\n"
     ]
    },
    {
     "name": "stderr",
     "output_type": "stream",
     "text": [
      "/var/folders/m4/19hkw84s6rv_8gcz6pd81s9r0035dh/T/ipykernel_50209/3542496604.py:24: ExperimentalWarning: CatBoostPruningCallback is experimental (supported from v3.0.0). The interface can change in the future.\n",
      "  pruning_callback = CatBoostPruningCallback(trial, \"Accuracy\")\n",
      "\u001b[32m[I 2022-10-18 21:12:55,359]\u001b[0m Trial 44 pruned. Trial was pruned at iteration 6.\u001b[0m\n"
     ]
    },
    {
     "name": "stdout",
     "output_type": "stream",
     "text": [
      "Trial 44 pruned. Trial was pruned at iteration 6.\n"
     ]
    },
    {
     "name": "stderr",
     "output_type": "stream",
     "text": [
      "\u001b[32m[I 2022-10-18 21:12:55,445]\u001b[0m Trial 45 pruned. Trial was pruned at iteration 10.\u001b[0m\n"
     ]
    },
    {
     "name": "stdout",
     "output_type": "stream",
     "text": [
      "Trial 45 pruned. Trial was pruned at iteration 10.\n"
     ]
    },
    {
     "name": "stderr",
     "output_type": "stream",
     "text": [
      "\u001b[32m[I 2022-10-18 21:12:55,505]\u001b[0m Trial 46 pruned. Trial was pruned at iteration 5.\u001b[0m\n"
     ]
    },
    {
     "name": "stdout",
     "output_type": "stream",
     "text": [
      "Trial 46 pruned. Trial was pruned at iteration 5.\n"
     ]
    },
    {
     "name": "stderr",
     "output_type": "stream",
     "text": [
      "\u001b[32m[I 2022-10-18 21:12:55,563]\u001b[0m Trial 47 pruned. Trial was pruned at iteration 5.\u001b[0m\n"
     ]
    },
    {
     "name": "stdout",
     "output_type": "stream",
     "text": [
      "Trial 47 pruned. Trial was pruned at iteration 5.\n"
     ]
    },
    {
     "name": "stderr",
     "output_type": "stream",
     "text": [
      "\u001b[32m[I 2022-10-18 21:12:55,623]\u001b[0m Trial 48 pruned. Trial was pruned at iteration 5.\u001b[0m\n"
     ]
    },
    {
     "name": "stdout",
     "output_type": "stream",
     "text": [
      "Trial 48 pruned. Trial was pruned at iteration 5.\n"
     ]
    },
    {
     "name": "stderr",
     "output_type": "stream",
     "text": [
      "\u001b[32m[I 2022-10-18 21:12:55,689]\u001b[0m Trial 49 pruned. Trial was pruned at iteration 10.\u001b[0m\n"
     ]
    },
    {
     "name": "stdout",
     "output_type": "stream",
     "text": [
      "Trial 49 pruned. Trial was pruned at iteration 10.\n"
     ]
    },
    {
     "name": "stderr",
     "output_type": "stream",
     "text": [
      "\u001b[32m[I 2022-10-18 21:12:55,753]\u001b[0m Trial 50 pruned. Trial was pruned at iteration 5.\u001b[0m\n"
     ]
    },
    {
     "name": "stdout",
     "output_type": "stream",
     "text": [
      "Trial 50 pruned. Trial was pruned at iteration 5.\n"
     ]
    },
    {
     "name": "stderr",
     "output_type": "stream",
     "text": [
      "\u001b[32m[I 2022-10-18 21:12:55,848]\u001b[0m Trial 51 pruned. Trial was pruned at iteration 6.\u001b[0m\n"
     ]
    },
    {
     "name": "stdout",
     "output_type": "stream",
     "text": [
      "Trial 51 pruned. Trial was pruned at iteration 6.\n"
     ]
    },
    {
     "name": "stderr",
     "output_type": "stream",
     "text": [
      "\u001b[32m[I 2022-10-18 21:12:55,911]\u001b[0m Trial 52 pruned. Trial was pruned at iteration 5.\u001b[0m\n"
     ]
    },
    {
     "name": "stdout",
     "output_type": "stream",
     "text": [
      "Trial 52 pruned. Trial was pruned at iteration 5.\n"
     ]
    },
    {
     "name": "stderr",
     "output_type": "stream",
     "text": [
      "\u001b[32m[I 2022-10-18 21:12:56,311]\u001b[0m Trial 53 finished with value: 0.965034965034965 and parameters: {'objective': 'Logloss', 'colsample_bylevel': 0.032434231466001565, 'depth': 5, 'boosting_type': 'Plain', 'bootstrap_type': 'Bernoulli', 'subsample': 0.18309833934397937}. Best is trial 4 with value: 0.9790209790209791.\u001b[0m\n"
     ]
    },
    {
     "name": "stdout",
     "output_type": "stream",
     "text": [
      "Trial 53 finished with value: 0.965034965034965 and parameters: {'objective': 'Logloss', 'colsample_bylevel': 0.032434231466001565, 'depth': 5, 'boosting_type': 'Plain', 'bootstrap_type': 'Bernoulli', 'subsample': 0.18309833934397937}. Best is trial 4 with value: 0.9790209790209791.\n"
     ]
    },
    {
     "name": "stderr",
     "output_type": "stream",
     "text": [
      "/var/folders/m4/19hkw84s6rv_8gcz6pd81s9r0035dh/T/ipykernel_50209/3542496604.py:24: ExperimentalWarning: CatBoostPruningCallback is experimental (supported from v3.0.0). The interface can change in the future.\n",
      "  pruning_callback = CatBoostPruningCallback(trial, \"Accuracy\")\n",
      "\u001b[32m[I 2022-10-18 21:12:56,847]\u001b[0m Trial 54 finished with value: 0.972027972027972 and parameters: {'objective': 'Logloss', 'colsample_bylevel': 0.047874680231962015, 'depth': 8, 'boosting_type': 'Ordered', 'bootstrap_type': 'MVS'}. Best is trial 4 with value: 0.9790209790209791.\u001b[0m\n"
     ]
    },
    {
     "name": "stdout",
     "output_type": "stream",
     "text": [
      "Trial 54 finished with value: 0.972027972027972 and parameters: {'objective': 'Logloss', 'colsample_bylevel': 0.047874680231962015, 'depth': 8, 'boosting_type': 'Ordered', 'bootstrap_type': 'MVS'}. Best is trial 4 with value: 0.9790209790209791.\n"
     ]
    },
    {
     "name": "stderr",
     "output_type": "stream",
     "text": [
      "/var/folders/m4/19hkw84s6rv_8gcz6pd81s9r0035dh/T/ipykernel_50209/3542496604.py:24: ExperimentalWarning: CatBoostPruningCallback is experimental (supported from v3.0.0). The interface can change in the future.\n",
      "  pruning_callback = CatBoostPruningCallback(trial, \"Accuracy\")\n",
      "\u001b[32m[I 2022-10-18 21:12:57,188]\u001b[0m Trial 55 finished with value: 0.965034965034965 and parameters: {'objective': 'Logloss', 'colsample_bylevel': 0.055675585255521624, 'depth': 1, 'boosting_type': 'Plain', 'bootstrap_type': 'Bayesian', 'bagging_temperature': 9.589799523203219}. Best is trial 4 with value: 0.9790209790209791.\u001b[0m\n"
     ]
    },
    {
     "name": "stdout",
     "output_type": "stream",
     "text": [
      "Trial 55 finished with value: 0.965034965034965 and parameters: {'objective': 'Logloss', 'colsample_bylevel': 0.055675585255521624, 'depth': 1, 'boosting_type': 'Plain', 'bootstrap_type': 'Bayesian', 'bagging_temperature': 9.589799523203219}. Best is trial 4 with value: 0.9790209790209791.\n"
     ]
    },
    {
     "name": "stderr",
     "output_type": "stream",
     "text": [
      "/var/folders/m4/19hkw84s6rv_8gcz6pd81s9r0035dh/T/ipykernel_50209/3542496604.py:24: ExperimentalWarning: CatBoostPruningCallback is experimental (supported from v3.0.0). The interface can change in the future.\n",
      "  pruning_callback = CatBoostPruningCallback(trial, \"Accuracy\")\n",
      "\u001b[32m[I 2022-10-18 21:12:57,258]\u001b[0m Trial 56 pruned. Trial was pruned at iteration 5.\u001b[0m\n"
     ]
    },
    {
     "name": "stdout",
     "output_type": "stream",
     "text": [
      "Trial 56 pruned. Trial was pruned at iteration 5.\n"
     ]
    },
    {
     "name": "stderr",
     "output_type": "stream",
     "text": [
      "\u001b[32m[I 2022-10-18 21:12:57,678]\u001b[0m Trial 57 finished with value: 0.972027972027972 and parameters: {'objective': 'Logloss', 'colsample_bylevel': 0.026650807131582188, 'depth': 6, 'boosting_type': 'Ordered', 'bootstrap_type': 'MVS'}. Best is trial 4 with value: 0.9790209790209791.\u001b[0m\n"
     ]
    },
    {
     "name": "stdout",
     "output_type": "stream",
     "text": [
      "Trial 57 finished with value: 0.972027972027972 and parameters: {'objective': 'Logloss', 'colsample_bylevel': 0.026650807131582188, 'depth': 6, 'boosting_type': 'Ordered', 'bootstrap_type': 'MVS'}. Best is trial 4 with value: 0.9790209790209791.\n"
     ]
    },
    {
     "name": "stderr",
     "output_type": "stream",
     "text": [
      "/var/folders/m4/19hkw84s6rv_8gcz6pd81s9r0035dh/T/ipykernel_50209/3542496604.py:24: ExperimentalWarning: CatBoostPruningCallback is experimental (supported from v3.0.0). The interface can change in the future.\n",
      "  pruning_callback = CatBoostPruningCallback(trial, \"Accuracy\")\n",
      "\u001b[32m[I 2022-10-18 21:12:57,733]\u001b[0m Trial 58 pruned. Trial was pruned at iteration 5.\u001b[0m\n"
     ]
    },
    {
     "name": "stdout",
     "output_type": "stream",
     "text": [
      "Trial 58 pruned. Trial was pruned at iteration 5.\n"
     ]
    },
    {
     "name": "stderr",
     "output_type": "stream",
     "text": [
      "\u001b[32m[I 2022-10-18 21:12:58,166]\u001b[0m Trial 59 finished with value: 0.958041958041958 and parameters: {'objective': 'Logloss', 'colsample_bylevel': 0.03445667831451847, 'depth': 7, 'boosting_type': 'Plain', 'bootstrap_type': 'Bernoulli', 'subsample': 0.10502250813457861}. Best is trial 4 with value: 0.9790209790209791.\u001b[0m\n"
     ]
    },
    {
     "name": "stdout",
     "output_type": "stream",
     "text": [
      "Trial 59 finished with value: 0.958041958041958 and parameters: {'objective': 'Logloss', 'colsample_bylevel': 0.03445667831451847, 'depth': 7, 'boosting_type': 'Plain', 'bootstrap_type': 'Bernoulli', 'subsample': 0.10502250813457861}. Best is trial 4 with value: 0.9790209790209791.\n"
     ]
    },
    {
     "name": "stderr",
     "output_type": "stream",
     "text": [
      "/var/folders/m4/19hkw84s6rv_8gcz6pd81s9r0035dh/T/ipykernel_50209/3542496604.py:24: ExperimentalWarning: CatBoostPruningCallback is experimental (supported from v3.0.0). The interface can change in the future.\n",
      "  pruning_callback = CatBoostPruningCallback(trial, \"Accuracy\")\n",
      "\u001b[32m[I 2022-10-18 21:12:58,221]\u001b[0m Trial 60 pruned. Trial was pruned at iteration 5.\u001b[0m\n"
     ]
    },
    {
     "name": "stdout",
     "output_type": "stream",
     "text": [
      "Trial 60 pruned. Trial was pruned at iteration 5.\n"
     ]
    },
    {
     "name": "stderr",
     "output_type": "stream",
     "text": [
      "\u001b[32m[I 2022-10-18 21:12:59,187]\u001b[0m Trial 61 finished with value: 0.986013986013986 and parameters: {'objective': 'Logloss', 'colsample_bylevel': 0.02912042848591159, 'depth': 5, 'boosting_type': 'Ordered', 'bootstrap_type': 'MVS'}. Best is trial 61 with value: 0.986013986013986.\u001b[0m\n"
     ]
    },
    {
     "name": "stdout",
     "output_type": "stream",
     "text": [
      "Trial 61 finished with value: 0.986013986013986 and parameters: {'objective': 'Logloss', 'colsample_bylevel': 0.02912042848591159, 'depth': 5, 'boosting_type': 'Ordered', 'bootstrap_type': 'MVS'}. Best is trial 61 with value: 0.986013986013986.\n"
     ]
    },
    {
     "name": "stderr",
     "output_type": "stream",
     "text": [
      "/var/folders/m4/19hkw84s6rv_8gcz6pd81s9r0035dh/T/ipykernel_50209/3542496604.py:24: ExperimentalWarning: CatBoostPruningCallback is experimental (supported from v3.0.0). The interface can change in the future.\n",
      "  pruning_callback = CatBoostPruningCallback(trial, \"Accuracy\")\n",
      "\u001b[32m[I 2022-10-18 21:12:59,251]\u001b[0m Trial 62 pruned. Trial was pruned at iteration 5.\u001b[0m\n"
     ]
    },
    {
     "name": "stdout",
     "output_type": "stream",
     "text": [
      "Trial 62 pruned. Trial was pruned at iteration 5.\n"
     ]
    },
    {
     "name": "stderr",
     "output_type": "stream",
     "text": [
      "\u001b[32m[I 2022-10-18 21:12:59,712]\u001b[0m Trial 63 finished with value: 0.972027972027972 and parameters: {'objective': 'Logloss', 'colsample_bylevel': 0.020975804430025443, 'depth': 4, 'boosting_type': 'Ordered', 'bootstrap_type': 'MVS'}. Best is trial 61 with value: 0.986013986013986.\u001b[0m\n"
     ]
    },
    {
     "name": "stdout",
     "output_type": "stream",
     "text": [
      "Trial 63 finished with value: 0.972027972027972 and parameters: {'objective': 'Logloss', 'colsample_bylevel': 0.020975804430025443, 'depth': 4, 'boosting_type': 'Ordered', 'bootstrap_type': 'MVS'}. Best is trial 61 with value: 0.986013986013986.\n"
     ]
    },
    {
     "name": "stderr",
     "output_type": "stream",
     "text": [
      "/var/folders/m4/19hkw84s6rv_8gcz6pd81s9r0035dh/T/ipykernel_50209/3542496604.py:24: ExperimentalWarning: CatBoostPruningCallback is experimental (supported from v3.0.0). The interface can change in the future.\n",
      "  pruning_callback = CatBoostPruningCallback(trial, \"Accuracy\")\n",
      "\u001b[32m[I 2022-10-18 21:12:59,777]\u001b[0m Trial 64 pruned. Trial was pruned at iteration 5.\u001b[0m\n"
     ]
    },
    {
     "name": "stdout",
     "output_type": "stream",
     "text": [
      "Trial 64 pruned. Trial was pruned at iteration 5.\n"
     ]
    },
    {
     "name": "stderr",
     "output_type": "stream",
     "text": [
      "\u001b[32m[I 2022-10-18 21:12:59,848]\u001b[0m Trial 65 pruned. Trial was pruned at iteration 8.\u001b[0m\n"
     ]
    },
    {
     "name": "stdout",
     "output_type": "stream",
     "text": [
      "Trial 65 pruned. Trial was pruned at iteration 8.\n"
     ]
    },
    {
     "name": "stderr",
     "output_type": "stream",
     "text": [
      "\u001b[32m[I 2022-10-18 21:12:59,913]\u001b[0m Trial 66 pruned. Trial was pruned at iteration 5.\u001b[0m\n"
     ]
    },
    {
     "name": "stdout",
     "output_type": "stream",
     "text": [
      "Trial 66 pruned. Trial was pruned at iteration 5.\n"
     ]
    },
    {
     "name": "stderr",
     "output_type": "stream",
     "text": [
      "\u001b[32m[I 2022-10-18 21:12:59,972]\u001b[0m Trial 67 pruned. Trial was pruned at iteration 5.\u001b[0m\n"
     ]
    },
    {
     "name": "stdout",
     "output_type": "stream",
     "text": [
      "Trial 67 pruned. Trial was pruned at iteration 5.\n"
     ]
    },
    {
     "name": "stderr",
     "output_type": "stream",
     "text": [
      "\u001b[32m[I 2022-10-18 21:13:00,796]\u001b[0m Trial 68 finished with value: 0.9790209790209791 and parameters: {'objective': 'Logloss', 'colsample_bylevel': 0.02081207498115169, 'depth': 4, 'boosting_type': 'Plain', 'bootstrap_type': 'Bernoulli', 'subsample': 0.15909677331968228}. Best is trial 61 with value: 0.986013986013986.\u001b[0m\n"
     ]
    },
    {
     "name": "stdout",
     "output_type": "stream",
     "text": [
      "Trial 68 finished with value: 0.9790209790209791 and parameters: {'objective': 'Logloss', 'colsample_bylevel': 0.02081207498115169, 'depth': 4, 'boosting_type': 'Plain', 'bootstrap_type': 'Bernoulli', 'subsample': 0.15909677331968228}. Best is trial 61 with value: 0.986013986013986.\n"
     ]
    },
    {
     "name": "stderr",
     "output_type": "stream",
     "text": [
      "/var/folders/m4/19hkw84s6rv_8gcz6pd81s9r0035dh/T/ipykernel_50209/3542496604.py:24: ExperimentalWarning: CatBoostPruningCallback is experimental (supported from v3.0.0). The interface can change in the future.\n",
      "  pruning_callback = CatBoostPruningCallback(trial, \"Accuracy\")\n",
      "\u001b[32m[I 2022-10-18 21:13:00,852]\u001b[0m Trial 69 pruned. Trial was pruned at iteration 5.\u001b[0m\n"
     ]
    },
    {
     "name": "stdout",
     "output_type": "stream",
     "text": [
      "Trial 69 pruned. Trial was pruned at iteration 5.\n"
     ]
    },
    {
     "name": "stderr",
     "output_type": "stream",
     "text": [
      "\u001b[32m[I 2022-10-18 21:13:01,004]\u001b[0m Trial 70 pruned. Trial was pruned at iteration 40.\u001b[0m\n"
     ]
    },
    {
     "name": "stdout",
     "output_type": "stream",
     "text": [
      "Trial 70 pruned. Trial was pruned at iteration 40.\n"
     ]
    },
    {
     "name": "stderr",
     "output_type": "stream",
     "text": [
      "\u001b[32m[I 2022-10-18 21:13:01,099]\u001b[0m Trial 71 pruned. Trial was pruned at iteration 15.\u001b[0m\n"
     ]
    },
    {
     "name": "stdout",
     "output_type": "stream",
     "text": [
      "Trial 71 pruned. Trial was pruned at iteration 15.\n"
     ]
    },
    {
     "name": "stderr",
     "output_type": "stream",
     "text": [
      "\u001b[32m[I 2022-10-18 21:13:01,548]\u001b[0m Trial 72 finished with value: 0.972027972027972 and parameters: {'objective': 'Logloss', 'colsample_bylevel': 0.025947584608361694, 'depth': 5, 'boosting_type': 'Ordered', 'bootstrap_type': 'MVS'}. Best is trial 61 with value: 0.986013986013986.\u001b[0m\n"
     ]
    },
    {
     "name": "stdout",
     "output_type": "stream",
     "text": [
      "Trial 72 finished with value: 0.972027972027972 and parameters: {'objective': 'Logloss', 'colsample_bylevel': 0.025947584608361694, 'depth': 5, 'boosting_type': 'Ordered', 'bootstrap_type': 'MVS'}. Best is trial 61 with value: 0.986013986013986.\n"
     ]
    },
    {
     "name": "stderr",
     "output_type": "stream",
     "text": [
      "/var/folders/m4/19hkw84s6rv_8gcz6pd81s9r0035dh/T/ipykernel_50209/3542496604.py:24: ExperimentalWarning: CatBoostPruningCallback is experimental (supported from v3.0.0). The interface can change in the future.\n",
      "  pruning_callback = CatBoostPruningCallback(trial, \"Accuracy\")\n",
      "\u001b[32m[I 2022-10-18 21:13:01,607]\u001b[0m Trial 73 pruned. Trial was pruned at iteration 5.\u001b[0m\n"
     ]
    },
    {
     "name": "stdout",
     "output_type": "stream",
     "text": [
      "Trial 73 pruned. Trial was pruned at iteration 5.\n"
     ]
    },
    {
     "name": "stderr",
     "output_type": "stream",
     "text": [
      "\u001b[32m[I 2022-10-18 21:13:01,956]\u001b[0m Trial 74 finished with value: 0.958041958041958 and parameters: {'objective': 'Logloss', 'colsample_bylevel': 0.030084980097663222, 'depth': 5, 'boosting_type': 'Plain', 'bootstrap_type': 'MVS'}. Best is trial 61 with value: 0.986013986013986.\u001b[0m\n"
     ]
    },
    {
     "name": "stdout",
     "output_type": "stream",
     "text": [
      "Trial 74 finished with value: 0.958041958041958 and parameters: {'objective': 'Logloss', 'colsample_bylevel': 0.030084980097663222, 'depth': 5, 'boosting_type': 'Plain', 'bootstrap_type': 'MVS'}. Best is trial 61 with value: 0.986013986013986.\n"
     ]
    },
    {
     "name": "stderr",
     "output_type": "stream",
     "text": [
      "/var/folders/m4/19hkw84s6rv_8gcz6pd81s9r0035dh/T/ipykernel_50209/3542496604.py:24: ExperimentalWarning: CatBoostPruningCallback is experimental (supported from v3.0.0). The interface can change in the future.\n",
      "  pruning_callback = CatBoostPruningCallback(trial, \"Accuracy\")\n",
      "\u001b[32m[I 2022-10-18 21:13:02,015]\u001b[0m Trial 75 pruned. Trial was pruned at iteration 5.\u001b[0m\n"
     ]
    },
    {
     "name": "stdout",
     "output_type": "stream",
     "text": [
      "Trial 75 pruned. Trial was pruned at iteration 5.\n"
     ]
    },
    {
     "name": "stderr",
     "output_type": "stream",
     "text": [
      "\u001b[32m[I 2022-10-18 21:13:02,076]\u001b[0m Trial 76 pruned. Trial was pruned at iteration 5.\u001b[0m\n"
     ]
    },
    {
     "name": "stdout",
     "output_type": "stream",
     "text": [
      "Trial 76 pruned. Trial was pruned at iteration 5.\n"
     ]
    },
    {
     "name": "stderr",
     "output_type": "stream",
     "text": [
      "\u001b[32m[I 2022-10-18 21:13:02,149]\u001b[0m Trial 77 pruned. Trial was pruned at iteration 5.\u001b[0m\n"
     ]
    },
    {
     "name": "stdout",
     "output_type": "stream",
     "text": [
      "Trial 77 pruned. Trial was pruned at iteration 5.\n"
     ]
    },
    {
     "name": "stderr",
     "output_type": "stream",
     "text": [
      "\u001b[32m[I 2022-10-18 21:13:02,723]\u001b[0m Trial 78 finished with value: 0.958041958041958 and parameters: {'objective': 'Logloss', 'colsample_bylevel': 0.03534540502931661, 'depth': 10, 'boosting_type': 'Ordered', 'bootstrap_type': 'MVS'}. Best is trial 61 with value: 0.986013986013986.\u001b[0m\n"
     ]
    },
    {
     "name": "stdout",
     "output_type": "stream",
     "text": [
      "Trial 78 finished with value: 0.958041958041958 and parameters: {'objective': 'Logloss', 'colsample_bylevel': 0.03534540502931661, 'depth': 10, 'boosting_type': 'Ordered', 'bootstrap_type': 'MVS'}. Best is trial 61 with value: 0.986013986013986.\n"
     ]
    },
    {
     "name": "stderr",
     "output_type": "stream",
     "text": [
      "/var/folders/m4/19hkw84s6rv_8gcz6pd81s9r0035dh/T/ipykernel_50209/3542496604.py:24: ExperimentalWarning: CatBoostPruningCallback is experimental (supported from v3.0.0). The interface can change in the future.\n",
      "  pruning_callback = CatBoostPruningCallback(trial, \"Accuracy\")\n",
      "\u001b[32m[I 2022-10-18 21:13:02,780]\u001b[0m Trial 79 pruned. Trial was pruned at iteration 5.\u001b[0m\n"
     ]
    },
    {
     "name": "stdout",
     "output_type": "stream",
     "text": [
      "Trial 79 pruned. Trial was pruned at iteration 5.\n"
     ]
    },
    {
     "name": "stderr",
     "output_type": "stream",
     "text": [
      "\u001b[32m[I 2022-10-18 21:13:02,864]\u001b[0m Trial 80 pruned. Trial was pruned at iteration 15.\u001b[0m\n"
     ]
    },
    {
     "name": "stdout",
     "output_type": "stream",
     "text": [
      "Trial 80 pruned. Trial was pruned at iteration 15.\n"
     ]
    },
    {
     "name": "stderr",
     "output_type": "stream",
     "text": [
      "\u001b[32m[I 2022-10-18 21:13:02,923]\u001b[0m Trial 81 pruned. Trial was pruned at iteration 5.\u001b[0m\n"
     ]
    },
    {
     "name": "stdout",
     "output_type": "stream",
     "text": [
      "Trial 81 pruned. Trial was pruned at iteration 5.\n"
     ]
    },
    {
     "name": "stderr",
     "output_type": "stream",
     "text": [
      "\u001b[32m[I 2022-10-18 21:13:02,974]\u001b[0m Trial 82 pruned. Trial was pruned at iteration 5.\u001b[0m\n"
     ]
    },
    {
     "name": "stdout",
     "output_type": "stream",
     "text": [
      "Trial 82 pruned. Trial was pruned at iteration 5.\n"
     ]
    },
    {
     "name": "stderr",
     "output_type": "stream",
     "text": [
      "\u001b[32m[I 2022-10-18 21:13:03,036]\u001b[0m Trial 83 pruned. Trial was pruned at iteration 5.\u001b[0m\n"
     ]
    },
    {
     "name": "stdout",
     "output_type": "stream",
     "text": [
      "Trial 83 pruned. Trial was pruned at iteration 5.\n"
     ]
    },
    {
     "name": "stderr",
     "output_type": "stream",
     "text": [
      "\u001b[32m[I 2022-10-18 21:13:03,096]\u001b[0m Trial 84 pruned. Trial was pruned at iteration 5.\u001b[0m\n"
     ]
    },
    {
     "name": "stdout",
     "output_type": "stream",
     "text": [
      "Trial 84 pruned. Trial was pruned at iteration 5.\n"
     ]
    },
    {
     "name": "stderr",
     "output_type": "stream",
     "text": [
      "\u001b[32m[I 2022-10-18 21:13:03,157]\u001b[0m Trial 85 pruned. Trial was pruned at iteration 5.\u001b[0m\n"
     ]
    },
    {
     "name": "stdout",
     "output_type": "stream",
     "text": [
      "Trial 85 pruned. Trial was pruned at iteration 5.\n"
     ]
    },
    {
     "name": "stderr",
     "output_type": "stream",
     "text": [
      "\u001b[32m[I 2022-10-18 21:13:03,672]\u001b[0m Trial 86 finished with value: 0.972027972027972 and parameters: {'objective': 'Logloss', 'colsample_bylevel': 0.03132686559599865, 'depth': 9, 'boosting_type': 'Ordered', 'bootstrap_type': 'MVS'}. Best is trial 61 with value: 0.986013986013986.\u001b[0m\n"
     ]
    },
    {
     "name": "stdout",
     "output_type": "stream",
     "text": [
      "Trial 86 finished with value: 0.972027972027972 and parameters: {'objective': 'Logloss', 'colsample_bylevel': 0.03132686559599865, 'depth': 9, 'boosting_type': 'Ordered', 'bootstrap_type': 'MVS'}. Best is trial 61 with value: 0.986013986013986.\n"
     ]
    },
    {
     "name": "stderr",
     "output_type": "stream",
     "text": [
      "/var/folders/m4/19hkw84s6rv_8gcz6pd81s9r0035dh/T/ipykernel_50209/3542496604.py:24: ExperimentalWarning: CatBoostPruningCallback is experimental (supported from v3.0.0). The interface can change in the future.\n",
      "  pruning_callback = CatBoostPruningCallback(trial, \"Accuracy\")\n",
      "\u001b[32m[I 2022-10-18 21:13:03,741]\u001b[0m Trial 87 pruned. Trial was pruned at iteration 5.\u001b[0m\n"
     ]
    },
    {
     "name": "stdout",
     "output_type": "stream",
     "text": [
      "Trial 87 pruned. Trial was pruned at iteration 5.\n"
     ]
    },
    {
     "name": "stderr",
     "output_type": "stream",
     "text": [
      "\u001b[32m[I 2022-10-18 21:13:04,533]\u001b[0m Trial 88 finished with value: 0.965034965034965 and parameters: {'objective': 'CrossEntropy', 'colsample_bylevel': 0.03424077748608105, 'depth': 9, 'boosting_type': 'Ordered', 'bootstrap_type': 'MVS'}. Best is trial 61 with value: 0.986013986013986.\u001b[0m\n"
     ]
    },
    {
     "name": "stdout",
     "output_type": "stream",
     "text": [
      "Trial 88 finished with value: 0.965034965034965 and parameters: {'objective': 'CrossEntropy', 'colsample_bylevel': 0.03424077748608105, 'depth': 9, 'boosting_type': 'Ordered', 'bootstrap_type': 'MVS'}. Best is trial 61 with value: 0.986013986013986.\n"
     ]
    },
    {
     "name": "stderr",
     "output_type": "stream",
     "text": [
      "/var/folders/m4/19hkw84s6rv_8gcz6pd81s9r0035dh/T/ipykernel_50209/3542496604.py:24: ExperimentalWarning: CatBoostPruningCallback is experimental (supported from v3.0.0). The interface can change in the future.\n",
      "  pruning_callback = CatBoostPruningCallback(trial, \"Accuracy\")\n",
      "\u001b[32m[I 2022-10-18 21:13:05,035]\u001b[0m Trial 89 finished with value: 0.993006993006993 and parameters: {'objective': 'Logloss', 'colsample_bylevel': 0.04478564238518646, 'depth': 7, 'boosting_type': 'Plain', 'bootstrap_type': 'Bayesian', 'bagging_temperature': 3.5371308012147864}. Best is trial 89 with value: 0.993006993006993.\u001b[0m\n"
     ]
    },
    {
     "name": "stdout",
     "output_type": "stream",
     "text": [
      "Trial 89 finished with value: 0.993006993006993 and parameters: {'objective': 'Logloss', 'colsample_bylevel': 0.04478564238518646, 'depth': 7, 'boosting_type': 'Plain', 'bootstrap_type': 'Bayesian', 'bagging_temperature': 3.5371308012147864}. Best is trial 89 with value: 0.993006993006993.\n"
     ]
    },
    {
     "name": "stderr",
     "output_type": "stream",
     "text": [
      "/var/folders/m4/19hkw84s6rv_8gcz6pd81s9r0035dh/T/ipykernel_50209/3542496604.py:24: ExperimentalWarning: CatBoostPruningCallback is experimental (supported from v3.0.0). The interface can change in the future.\n",
      "  pruning_callback = CatBoostPruningCallback(trial, \"Accuracy\")\n",
      "\u001b[32m[I 2022-10-18 21:13:05,106]\u001b[0m Trial 90 pruned. Trial was pruned at iteration 8.\u001b[0m\n"
     ]
    },
    {
     "name": "stdout",
     "output_type": "stream",
     "text": [
      "Trial 90 pruned. Trial was pruned at iteration 8.\n"
     ]
    },
    {
     "name": "stderr",
     "output_type": "stream",
     "text": [
      "\u001b[32m[I 2022-10-18 21:13:05,982]\u001b[0m Trial 91 finished with value: 0.986013986013986 and parameters: {'objective': 'Logloss', 'colsample_bylevel': 0.03683452028731835, 'depth': 8, 'boosting_type': 'Plain', 'bootstrap_type': 'Bayesian', 'bagging_temperature': 3.2723341809931688}. Best is trial 89 with value: 0.993006993006993.\u001b[0m\n"
     ]
    },
    {
     "name": "stdout",
     "output_type": "stream",
     "text": [
      "Trial 91 finished with value: 0.986013986013986 and parameters: {'objective': 'Logloss', 'colsample_bylevel': 0.03683452028731835, 'depth': 8, 'boosting_type': 'Plain', 'bootstrap_type': 'Bayesian', 'bagging_temperature': 3.2723341809931688}. Best is trial 89 with value: 0.993006993006993.\n"
     ]
    },
    {
     "name": "stderr",
     "output_type": "stream",
     "text": [
      "/var/folders/m4/19hkw84s6rv_8gcz6pd81s9r0035dh/T/ipykernel_50209/3542496604.py:24: ExperimentalWarning: CatBoostPruningCallback is experimental (supported from v3.0.0). The interface can change in the future.\n",
      "  pruning_callback = CatBoostPruningCallback(trial, \"Accuracy\")\n",
      "\u001b[32m[I 2022-10-18 21:13:06,124]\u001b[0m Trial 92 pruned. Trial was pruned at iteration 26.\u001b[0m\n"
     ]
    },
    {
     "name": "stdout",
     "output_type": "stream",
     "text": [
      "Trial 92 pruned. Trial was pruned at iteration 26.\n"
     ]
    },
    {
     "name": "stderr",
     "output_type": "stream",
     "text": [
      "\u001b[32m[I 2022-10-18 21:13:06,199]\u001b[0m Trial 93 pruned. Trial was pruned at iteration 5.\u001b[0m\n"
     ]
    },
    {
     "name": "stdout",
     "output_type": "stream",
     "text": [
      "Trial 93 pruned. Trial was pruned at iteration 5.\n"
     ]
    },
    {
     "name": "stderr",
     "output_type": "stream",
     "text": [
      "\u001b[32m[I 2022-10-18 21:13:06,284]\u001b[0m Trial 94 pruned. Trial was pruned at iteration 5.\u001b[0m\n"
     ]
    },
    {
     "name": "stdout",
     "output_type": "stream",
     "text": [
      "Trial 94 pruned. Trial was pruned at iteration 5.\n"
     ]
    },
    {
     "name": "stderr",
     "output_type": "stream",
     "text": [
      "\u001b[32m[I 2022-10-18 21:13:06,347]\u001b[0m Trial 95 pruned. Trial was pruned at iteration 5.\u001b[0m\n"
     ]
    },
    {
     "name": "stdout",
     "output_type": "stream",
     "text": [
      "Trial 95 pruned. Trial was pruned at iteration 5.\n"
     ]
    },
    {
     "name": "stderr",
     "output_type": "stream",
     "text": [
      "\u001b[32m[I 2022-10-18 21:13:06,425]\u001b[0m Trial 96 pruned. Trial was pruned at iteration 5.\u001b[0m\n"
     ]
    },
    {
     "name": "stdout",
     "output_type": "stream",
     "text": [
      "Trial 96 pruned. Trial was pruned at iteration 5.\n"
     ]
    },
    {
     "name": "stderr",
     "output_type": "stream",
     "text": [
      "\u001b[32m[I 2022-10-18 21:13:06,502]\u001b[0m Trial 97 pruned. Trial was pruned at iteration 5.\u001b[0m\n"
     ]
    },
    {
     "name": "stdout",
     "output_type": "stream",
     "text": [
      "Trial 97 pruned. Trial was pruned at iteration 5.\n"
     ]
    },
    {
     "name": "stderr",
     "output_type": "stream",
     "text": [
      "\u001b[32m[I 2022-10-18 21:13:06,561]\u001b[0m Trial 98 pruned. Trial was pruned at iteration 5.\u001b[0m\n"
     ]
    },
    {
     "name": "stdout",
     "output_type": "stream",
     "text": [
      "Trial 98 pruned. Trial was pruned at iteration 5.\n"
     ]
    },
    {
     "name": "stderr",
     "output_type": "stream",
     "text": [
      "\u001b[32m[I 2022-10-18 21:13:06,643]\u001b[0m Trial 99 pruned. Trial was pruned at iteration 5.\u001b[0m\n"
     ]
    },
    {
     "name": "stdout",
     "output_type": "stream",
     "text": [
      "Trial 99 pruned. Trial was pruned at iteration 5.\n"
     ]
    }
   ],
   "source": [
    "study.optimize(objective, n_trials=100, timeout=600)"
   ]
  },
  {
   "cell_type": "code",
   "execution_count": 10,
   "id": "279d9fc2",
   "metadata": {},
   "outputs": [
    {
     "data": {
      "text/plain": [
       "FrozenTrial(number=72, values=[1.0], datetime_start=datetime.datetime(2022, 10, 18, 20, 28, 2, 308010), datetime_complete=datetime.datetime(2022, 10, 18, 20, 28, 4, 27460), params={'boosting_type': 'Ordered', 'bootstrap_type': 'Bernoulli', 'colsample_bylevel': 0.08168978100335669, 'depth': 8, 'objective': 'Logloss', 'subsample': 0.9992134234989756}, distributions={'boosting_type': CategoricalDistribution(choices=('Ordered', 'Plain')), 'bootstrap_type': CategoricalDistribution(choices=('Bayesian', 'Bernoulli', 'MVS')), 'colsample_bylevel': FloatDistribution(high=0.1, log=True, low=0.01, step=None), 'depth': IntDistribution(high=12, log=False, low=1, step=1), 'objective': CategoricalDistribution(choices=('Logloss', 'CrossEntropy')), 'subsample': FloatDistribution(high=1.0, log=True, low=0.1, step=None)}, user_attrs={}, system_attrs={}, intermediate_values={0: 0.916083916083916, 1: 0.951048951048951, 2: 0.9370629370629371, 3: 0.951048951048951, 4: 0.951048951048951, 5: 0.9440559440559441, 6: 0.9440559440559441, 7: 0.9440559440559441, 8: 0.958041958041958, 9: 0.958041958041958, 10: 0.965034965034965, 11: 0.965034965034965, 12: 0.965034965034965, 13: 0.965034965034965, 14: 0.965034965034965, 15: 0.965034965034965, 16: 0.965034965034965, 17: 0.965034965034965, 18: 0.965034965034965, 19: 0.965034965034965, 20: 0.965034965034965, 21: 0.965034965034965, 22: 0.965034965034965, 23: 0.965034965034965, 24: 0.965034965034965, 25: 0.965034965034965, 26: 0.965034965034965, 27: 0.965034965034965, 28: 0.965034965034965, 29: 0.965034965034965, 30: 0.965034965034965, 31: 0.965034965034965, 32: 0.965034965034965, 33: 0.965034965034965, 34: 0.965034965034965, 35: 0.965034965034965, 36: 0.965034965034965, 37: 0.965034965034965, 38: 0.965034965034965, 39: 0.965034965034965, 40: 0.965034965034965, 41: 0.965034965034965, 42: 0.965034965034965, 43: 0.965034965034965, 44: 0.965034965034965, 45: 0.965034965034965, 46: 0.972027972027972, 47: 0.972027972027972, 48: 0.972027972027972, 49: 0.972027972027972, 50: 0.965034965034965, 51: 0.965034965034965, 52: 0.965034965034965, 53: 0.965034965034965, 54: 0.965034965034965, 55: 0.965034965034965, 56: 0.965034965034965, 57: 0.972027972027972, 58: 0.972027972027972, 59: 0.972027972027972, 60: 0.972027972027972, 61: 0.9790209790209791, 62: 0.9790209790209791, 63: 0.9790209790209791, 64: 0.9790209790209791, 65: 0.9790209790209791, 66: 0.9790209790209791, 67: 0.9790209790209791, 68: 0.9790209790209791, 69: 0.9790209790209791, 70: 0.9790209790209791, 71: 0.9790209790209791, 72: 0.9790209790209791, 73: 0.9790209790209791, 74: 0.9790209790209791, 75: 0.9790209790209791, 76: 0.9790209790209791, 77: 0.9790209790209791, 78: 0.9790209790209791, 79: 0.9790209790209791, 80: 0.9790209790209791, 81: 0.9790209790209791, 82: 0.9790209790209791, 83: 0.9790209790209791, 84: 0.9790209790209791, 85: 0.9790209790209791, 86: 0.9790209790209791, 87: 0.9790209790209791, 88: 0.9790209790209791, 89: 0.9790209790209791, 90: 0.9790209790209791, 91: 0.9790209790209791, 92: 0.9790209790209791, 93: 0.9790209790209791, 94: 0.9790209790209791, 95: 0.9790209790209791, 96: 0.9790209790209791, 97: 0.9790209790209791, 98: 0.9790209790209791, 99: 0.9790209790209791, 100: 0.9790209790209791, 101: 0.9790209790209791, 102: 0.9790209790209791, 103: 0.9790209790209791, 104: 0.9790209790209791, 105: 0.9790209790209791, 106: 0.9790209790209791, 107: 0.9790209790209791, 108: 0.9790209790209791, 109: 0.9790209790209791, 110: 0.9790209790209791, 111: 0.9790209790209791, 112: 0.9790209790209791, 113: 0.9790209790209791, 114: 0.9790209790209791, 115: 0.9790209790209791, 116: 0.9790209790209791, 117: 0.9790209790209791, 118: 0.9790209790209791, 119: 0.9790209790209791, 120: 0.9790209790209791, 121: 0.9790209790209791, 122: 0.9790209790209791, 123: 0.9790209790209791, 124: 0.9790209790209791, 125: 0.9790209790209791, 126: 0.9790209790209791, 127: 0.9790209790209791, 128: 0.9790209790209791, 129: 0.986013986013986, 130: 0.9790209790209791, 131: 0.986013986013986, 132: 0.993006993006993, 133: 1.0, 134: 1.0, 135: 1.0, 136: 1.0, 137: 1.0, 138: 1.0, 139: 1.0, 140: 1.0, 141: 1.0, 142: 1.0, 143: 1.0, 144: 1.0, 145: 1.0, 146: 1.0, 147: 1.0, 148: 1.0, 149: 1.0, 150: 1.0, 151: 1.0, 152: 1.0, 153: 1.0, 154: 1.0, 155: 1.0, 156: 1.0, 157: 1.0, 158: 1.0, 159: 1.0, 160: 1.0, 161: 1.0, 162: 1.0, 163: 1.0, 164: 1.0, 165: 1.0, 166: 1.0, 167: 1.0, 168: 1.0, 169: 1.0, 170: 1.0, 171: 1.0, 172: 1.0, 173: 1.0, 174: 1.0, 175: 1.0, 176: 1.0, 177: 1.0, 178: 1.0, 179: 1.0, 180: 1.0, 181: 1.0, 182: 1.0, 183: 1.0, 184: 1.0, 185: 1.0, 186: 1.0, 187: 1.0, 188: 1.0, 189: 1.0, 190: 1.0, 191: 1.0, 192: 1.0, 193: 1.0, 194: 1.0, 195: 1.0, 196: 1.0, 197: 1.0, 198: 1.0, 199: 1.0, 200: 1.0, 201: 1.0, 202: 1.0, 203: 1.0, 204: 1.0, 205: 1.0, 206: 1.0, 207: 1.0, 208: 1.0, 209: 1.0, 210: 1.0, 211: 1.0, 212: 1.0, 213: 1.0, 214: 1.0, 215: 1.0, 216: 1.0, 217: 1.0, 218: 1.0, 219: 1.0, 220: 1.0, 221: 1.0, 222: 1.0, 223: 1.0, 224: 1.0, 225: 1.0, 226: 1.0, 227: 1.0, 228: 1.0, 229: 1.0, 230: 1.0, 231: 1.0, 232: 1.0, 233: 1.0}, trial_id=173, state=TrialState.COMPLETE, value=None)"
      ]
     },
     "execution_count": 10,
     "metadata": {},
     "output_type": "execute_result"
    }
   ],
   "source": [
    "study.best_trial"
   ]
  },
  {
   "cell_type": "code",
   "execution_count": 7,
   "id": "54660ef3",
   "metadata": {},
   "outputs": [
    {
     "data": {
      "text/plain": [
       "FrozenTrial(number=72, values=[1.0], datetime_start=datetime.datetime(2022, 10, 18, 20, 28, 2, 308010), datetime_complete=datetime.datetime(2022, 10, 18, 20, 28, 4, 27460), params={'boosting_type': 'Ordered', 'bootstrap_type': 'Bernoulli', 'colsample_bylevel': 0.08168978100335669, 'depth': 8, 'objective': 'Logloss', 'subsample': 0.9992134234989756}, distributions={'boosting_type': CategoricalDistribution(choices=('Ordered', 'Plain')), 'bootstrap_type': CategoricalDistribution(choices=('Bayesian', 'Bernoulli', 'MVS')), 'colsample_bylevel': FloatDistribution(high=0.1, log=True, low=0.01, step=None), 'depth': IntDistribution(high=12, log=False, low=1, step=1), 'objective': CategoricalDistribution(choices=('Logloss', 'CrossEntropy')), 'subsample': FloatDistribution(high=1.0, log=True, low=0.1, step=None)}, user_attrs={}, system_attrs={}, intermediate_values={0: 0.916083916083916, 1: 0.951048951048951, 2: 0.9370629370629371, 3: 0.951048951048951, 4: 0.951048951048951, 5: 0.9440559440559441, 6: 0.9440559440559441, 7: 0.9440559440559441, 8: 0.958041958041958, 9: 0.958041958041958, 10: 0.965034965034965, 11: 0.965034965034965, 12: 0.965034965034965, 13: 0.965034965034965, 14: 0.965034965034965, 15: 0.965034965034965, 16: 0.965034965034965, 17: 0.965034965034965, 18: 0.965034965034965, 19: 0.965034965034965, 20: 0.965034965034965, 21: 0.965034965034965, 22: 0.965034965034965, 23: 0.965034965034965, 24: 0.965034965034965, 25: 0.965034965034965, 26: 0.965034965034965, 27: 0.965034965034965, 28: 0.965034965034965, 29: 0.965034965034965, 30: 0.965034965034965, 31: 0.965034965034965, 32: 0.965034965034965, 33: 0.965034965034965, 34: 0.965034965034965, 35: 0.965034965034965, 36: 0.965034965034965, 37: 0.965034965034965, 38: 0.965034965034965, 39: 0.965034965034965, 40: 0.965034965034965, 41: 0.965034965034965, 42: 0.965034965034965, 43: 0.965034965034965, 44: 0.965034965034965, 45: 0.965034965034965, 46: 0.972027972027972, 47: 0.972027972027972, 48: 0.972027972027972, 49: 0.972027972027972, 50: 0.965034965034965, 51: 0.965034965034965, 52: 0.965034965034965, 53: 0.965034965034965, 54: 0.965034965034965, 55: 0.965034965034965, 56: 0.965034965034965, 57: 0.972027972027972, 58: 0.972027972027972, 59: 0.972027972027972, 60: 0.972027972027972, 61: 0.9790209790209791, 62: 0.9790209790209791, 63: 0.9790209790209791, 64: 0.9790209790209791, 65: 0.9790209790209791, 66: 0.9790209790209791, 67: 0.9790209790209791, 68: 0.9790209790209791, 69: 0.9790209790209791, 70: 0.9790209790209791, 71: 0.9790209790209791, 72: 0.9790209790209791, 73: 0.9790209790209791, 74: 0.9790209790209791, 75: 0.9790209790209791, 76: 0.9790209790209791, 77: 0.9790209790209791, 78: 0.9790209790209791, 79: 0.9790209790209791, 80: 0.9790209790209791, 81: 0.9790209790209791, 82: 0.9790209790209791, 83: 0.9790209790209791, 84: 0.9790209790209791, 85: 0.9790209790209791, 86: 0.9790209790209791, 87: 0.9790209790209791, 88: 0.9790209790209791, 89: 0.9790209790209791, 90: 0.9790209790209791, 91: 0.9790209790209791, 92: 0.9790209790209791, 93: 0.9790209790209791, 94: 0.9790209790209791, 95: 0.9790209790209791, 96: 0.9790209790209791, 97: 0.9790209790209791, 98: 0.9790209790209791, 99: 0.9790209790209791, 100: 0.9790209790209791, 101: 0.9790209790209791, 102: 0.9790209790209791, 103: 0.9790209790209791, 104: 0.9790209790209791, 105: 0.9790209790209791, 106: 0.9790209790209791, 107: 0.9790209790209791, 108: 0.9790209790209791, 109: 0.9790209790209791, 110: 0.9790209790209791, 111: 0.9790209790209791, 112: 0.9790209790209791, 113: 0.9790209790209791, 114: 0.9790209790209791, 115: 0.9790209790209791, 116: 0.9790209790209791, 117: 0.9790209790209791, 118: 0.9790209790209791, 119: 0.9790209790209791, 120: 0.9790209790209791, 121: 0.9790209790209791, 122: 0.9790209790209791, 123: 0.9790209790209791, 124: 0.9790209790209791, 125: 0.9790209790209791, 126: 0.9790209790209791, 127: 0.9790209790209791, 128: 0.9790209790209791, 129: 0.986013986013986, 130: 0.9790209790209791, 131: 0.986013986013986, 132: 0.993006993006993, 133: 1.0, 134: 1.0, 135: 1.0, 136: 1.0, 137: 1.0, 138: 1.0, 139: 1.0, 140: 1.0, 141: 1.0, 142: 1.0, 143: 1.0, 144: 1.0, 145: 1.0, 146: 1.0, 147: 1.0, 148: 1.0, 149: 1.0, 150: 1.0, 151: 1.0, 152: 1.0, 153: 1.0, 154: 1.0, 155: 1.0, 156: 1.0, 157: 1.0, 158: 1.0, 159: 1.0, 160: 1.0, 161: 1.0, 162: 1.0, 163: 1.0, 164: 1.0, 165: 1.0, 166: 1.0, 167: 1.0, 168: 1.0, 169: 1.0, 170: 1.0, 171: 1.0, 172: 1.0, 173: 1.0, 174: 1.0, 175: 1.0, 176: 1.0, 177: 1.0, 178: 1.0, 179: 1.0, 180: 1.0, 181: 1.0, 182: 1.0, 183: 1.0, 184: 1.0, 185: 1.0, 186: 1.0, 187: 1.0, 188: 1.0, 189: 1.0, 190: 1.0, 191: 1.0, 192: 1.0, 193: 1.0, 194: 1.0, 195: 1.0, 196: 1.0, 197: 1.0, 198: 1.0, 199: 1.0, 200: 1.0, 201: 1.0, 202: 1.0, 203: 1.0, 204: 1.0, 205: 1.0, 206: 1.0, 207: 1.0, 208: 1.0, 209: 1.0, 210: 1.0, 211: 1.0, 212: 1.0, 213: 1.0, 214: 1.0, 215: 1.0, 216: 1.0, 217: 1.0, 218: 1.0, 219: 1.0, 220: 1.0, 221: 1.0, 222: 1.0, 223: 1.0, 224: 1.0, 225: 1.0, 226: 1.0, 227: 1.0, 228: 1.0, 229: 1.0, 230: 1.0, 231: 1.0, 232: 1.0, 233: 1.0}, trial_id=173, state=TrialState.COMPLETE, value=None)"
      ]
     },
     "execution_count": 7,
     "metadata": {},
     "output_type": "execute_result"
    }
   ],
   "source": [
    "study.best_trial"
   ]
  },
  {
   "cell_type": "code",
   "execution_count": 8,
   "id": "67d6ffdb",
   "metadata": {},
   "outputs": [
    {
     "data": {
      "text/plain": [
       "{'boosting_type': 'Ordered',\n",
       " 'bootstrap_type': 'Bernoulli',\n",
       " 'colsample_bylevel': 0.08168978100335669,\n",
       " 'depth': 8,\n",
       " 'objective': 'Logloss',\n",
       " 'subsample': 0.9992134234989756}"
      ]
     },
     "execution_count": 8,
     "metadata": {},
     "output_type": "execute_result"
    }
   ],
   "source": [
    "study.best_params"
   ]
  },
  {
   "cell_type": "code",
   "execution_count": 34,
   "id": "01416e59",
   "metadata": {},
   "outputs": [
    {
     "data": {
      "text/plain": [
       "<catboost.core.CatBoostClassifier at 0x1788ab640>"
      ]
     },
     "execution_count": 34,
     "metadata": {},
     "output_type": "execute_result"
    }
   ],
   "source": [
    "gbm = cb.CatBoostClassifier(n_estimators=100, metric_period=20)\n",
    "gbm"
   ]
  },
  {
   "cell_type": "code",
   "execution_count": 35,
   "id": "dd215047",
   "metadata": {},
   "outputs": [
    {
     "data": {
      "text/plain": [
       "{'metric_period': 20, 'n_estimators': 100}"
      ]
     },
     "execution_count": 35,
     "metadata": {},
     "output_type": "execute_result"
    }
   ],
   "source": [
    "gbm.get_params()"
   ]
  },
  {
   "cell_type": "code",
   "execution_count": 36,
   "id": "45880d6e",
   "metadata": {},
   "outputs": [
    {
     "data": {
      "text/plain": [
       "{'metric_period': 20, 'n_estimators': 1000}"
      ]
     },
     "execution_count": 36,
     "metadata": {},
     "output_type": "execute_result"
    }
   ],
   "source": [
    "gbm.set_params(n_estimators=1000)\n",
    "gbm.get_params()"
   ]
  },
  {
   "cell_type": "code",
   "execution_count": null,
   "id": "38f5c5e3",
   "metadata": {},
   "outputs": [],
   "source": []
  }
 ],
 "metadata": {
  "kernelspec": {
   "display_name": ".env",
   "language": "python",
   "name": ".env"
  },
  "language_info": {
   "codemirror_mode": {
    "name": "ipython",
    "version": 3
   },
   "file_extension": ".py",
   "mimetype": "text/x-python",
   "name": "python",
   "nbconvert_exporter": "python",
   "pygments_lexer": "ipython3",
   "version": "3.10.8"
  }
 },
 "nbformat": 4,
 "nbformat_minor": 5
}
