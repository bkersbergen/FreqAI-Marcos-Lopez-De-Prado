version https://git-lfs.github.com/spec/v1
oid sha256:3bf2d412034f2980de7ad2ea72d400b396a8edf0c02bcb176400c5273292e6d1
size 217420
