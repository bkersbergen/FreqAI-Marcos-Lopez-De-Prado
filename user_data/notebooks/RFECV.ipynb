version https://git-lfs.github.com/spec/v1
oid sha256:20bb160e83a9cce7752ccd74578d7ade2bebb9ccf4c3d1552a9560e07fb28972
size 16533
