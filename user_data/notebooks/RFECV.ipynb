{
 "cells": [
  {
   "cell_type": "code",
   "execution_count": 33,
   "id": "c22f9ce0",
   "metadata": {},
   "outputs": [],
   "source": [
    "import pandas as pd\n",
    "import numpy as np\n",
    "import tscv"
   ]
  },
  {
   "cell_type": "code",
   "execution_count": 34,
   "id": "68b35330",
   "metadata": {},
   "outputs": [],
   "source": [
    "from sklearn.datasets import make_classification\n",
    "\n",
    "X, y = make_classification(\n",
    "    n_samples=20000,\n",
    "    n_features=30,\n",
    "    n_informative=5,\n",
    "    n_redundant=10,\n",
    "    n_repeated=3,\n",
    "    n_classes=2,\n",
    "    n_clusters_per_class=1,\n",
    "    class_sep=0.8,\n",
    "    random_state=0,\n",
    ")"
   ]
  },
  {
   "cell_type": "code",
   "execution_count": 41,
   "id": "247479a7",
   "metadata": {},
   "outputs": [
    {
     "data": {
      "text/plain": [
       "(9999, (20000,))"
      ]
     },
     "execution_count": 41,
     "metadata": {},
     "output_type": "execute_result"
    }
   ],
   "source": [
    "y.sum(), y.shape"
   ]
  },
  {
   "cell_type": "code",
   "execution_count": 42,
   "id": "fe032d22",
   "metadata": {},
   "outputs": [],
   "source": [
    "from sklearn.feature_selection import RFECV\n",
    "from sklearn.model_selection import StratifiedKFold, TimeSeriesSplit\n",
    "from sklearn.linear_model import LogisticRegression\n",
    "from sklearn.ensemble import RandomForestClassifier\n",
    "\n",
    "min_features_to_select = 1  # Minimum number of features to consider\n",
    "clf = RandomForestClassifier(n_estimators=1000)\n",
    "# cv = StratifiedKFold(5)\n",
    "# cv = TimeSeriesSplit(n_splits=5, gap=100)\n",
    "cv = tscv.GapKFold(n_splits=5, gap_before=200, gap_after=200)\n",
    "\n",
    "rfecv = RFECV(\n",
    "    estimator=clf,\n",
    "    step=0.1,\n",
    "    cv=cv,\n",
    "    scoring=\"neg_log_loss\",\n",
    "    verbose=1,\n",
    "    min_features_to_select=min_features_to_select,\n",
    "    n_jobs=6,\n",
    ")"
   ]
  },
  {
   "cell_type": "code",
   "execution_count": 43,
   "id": "4138ab33",
   "metadata": {},
   "outputs": [
    {
     "name": "stdout",
     "output_type": "stream",
     "text": [
      "Fitting estimator with 30 features.\n",
      "Fitting estimator with 27 features.\n",
      "Fitting estimator with 24 features.\n",
      "Fitting estimator with 21 features.\n",
      "Fitting estimator with 18 features.\n",
      "Fitting estimator with 15 features.\n",
      "Fitting estimator with 12 features.\n",
      "Fitting estimator with 9 features.\n",
      "Fitting estimator with 6 features.\n",
      "Fitting estimator with 3 features.\n",
      "Fitting estimator with 30 features.\n",
      "Optimal number of features: 27\n"
     ]
    }
   ],
   "source": [
    "rfecv.fit(X, y)"
   ]
  },
  {
   "cell_type": "code",
   "execution_count": 47,
   "id": "75655f24",
   "metadata": {},
   "outputs": [
    {
     "data": {
      "text/plain": [
       "array([ True,  True,  True,  True,  True,  True,  True,  True,  True,\n",
       "        True,  True,  True, False,  True,  True,  True,  True,  True,\n",
       "        True,  True,  True,  True,  True, False,  True,  True, False,\n",
       "        True,  True,  True])"
      ]
     },
     "execution_count": 47,
     "metadata": {},
     "output_type": "execute_result"
    }
   ],
   "source": [
    "rfecv.get_support()"
   ]
  },
  {
   "cell_type": "code",
   "execution_count": 50,
   "id": "c844bd3a",
   "metadata": {},
   "outputs": [
    {
     "data": {
      "text/plain": [
       "array(['x0', 'x1', 'x2', 'x3', 'x4', 'x5', 'x6', 'x7', 'x8', 'x9', 'x10',\n",
       "       'x11', 'x13', 'x14', 'x15', 'x16', 'x17', 'x18', 'x19', 'x20',\n",
       "       'x21', 'x22', 'x24', 'x25', 'x27', 'x28', 'x29'], dtype=object)"
      ]
     },
     "execution_count": 50,
     "metadata": {},
     "output_type": "execute_result"
    }
   ],
   "source": [
    "rfecv.get_feature_names_out()"
   ]
  },
  {
   "cell_type": "code",
   "execution_count": 16,
   "id": "9c182399",
   "metadata": {},
   "outputs": [
    {
     "data": {
      "text/plain": [
       "{'mean_test_score': array([0.91767973, 0.99184697, 0.9909965 , 0.99084652]),\n",
       " 'std_test_score': array([0.00371839, 0.00129094, 0.00148488, 0.00164927]),\n",
       " 'split0_test_score': array([0.92274996, 0.98974999, 0.98899993, 0.98875   ]),\n",
       " 'split1_test_score': array([0.9147491 , 0.99274916, 0.99249901, 0.99224902]),\n",
       " 'split2_test_score': array([0.9124874 , 0.99249946, 0.99149939, 0.99099901]),\n",
       " 'split3_test_score': array([0.92047423, 0.99324695, 0.99249669, 0.9929972 ]),\n",
       " 'split4_test_score': array([0.91793794, 0.99098927, 0.98948749, 0.98923737])}"
      ]
     },
     "execution_count": 16,
     "metadata": {},
     "output_type": "execute_result"
    }
   ],
   "source": [
    "rfecv.cv_results_"
   ]
  },
  {
   "cell_type": "code",
   "execution_count": 17,
   "id": "e8610797",
   "metadata": {},
   "outputs": [
    {
     "data": {
      "text/plain": [
       "array([2, 3, 3, 2, 2, 1, 2, 3, 1, 3, 3, 1, 2, 1, 1, 1, 2, 1, 3, 1, 2, 3,\n",
       "       1, 2, 1, 3, 3, 2, 2, 3])"
      ]
     },
     "execution_count": 17,
     "metadata": {},
     "output_type": "execute_result"
    }
   ],
   "source": [
    "rfecv.ranking_"
   ]
  },
  {
   "cell_type": "code",
   "execution_count": 65,
   "id": "62e224f3",
   "metadata": {},
   "outputs": [
    {
     "data": {
      "text/plain": [
       "(300, 100)"
      ]
     },
     "execution_count": 65,
     "metadata": {},
     "output_type": "execute_result"
    }
   ],
   "source": [
    "len(rfecv.ranking_), len(rfecv.get_feature_names_out())"
   ]
  },
  {
   "cell_type": "code",
   "execution_count": 66,
   "id": "5358f33b",
   "metadata": {},
   "outputs": [
    {
     "data": {
      "text/plain": [
       "array([[ 0.88661908,  1.42146609,  1.10345691, ...,  0.03404206,\n",
       "         0.23978821,  2.41669025],\n",
       "       [-0.06950958,  1.007678  ,  0.28973477, ..., -0.57177621,\n",
       "         1.5297184 ,  0.65710649],\n",
       "       [ 1.18707986, -0.15726531,  2.39808412, ...,  0.47989883,\n",
       "         0.65131619, -0.48580281],\n",
       "       ...,\n",
       "       [ 0.5187474 ,  0.26190761, -3.56036828, ...,  1.24963992,\n",
       "         1.31375189,  1.5736302 ],\n",
       "       [-0.72134957, -0.18112951, -0.395346  , ..., -0.21437854,\n",
       "         0.59573587,  0.35230313],\n",
       "       [ 0.47388275,  0.43178594, -1.97444937, ...,  0.12952139,\n",
       "        -0.85605538, -0.07904277]])"
      ]
     },
     "execution_count": 66,
     "metadata": {},
     "output_type": "execute_result"
    }
   ],
   "source": [
    "X"
   ]
  },
  {
   "cell_type": "code",
   "execution_count": null,
   "id": "177beec4",
   "metadata": {},
   "outputs": [],
   "source": []
  }
 ],
 "metadata": {
  "kernelspec": {
   "display_name": ".env",
   "language": "python",
   "name": ".env"
  },
  "language_info": {
   "codemirror_mode": {
    "name": "ipython",
    "version": 3
   },
   "file_extension": ".py",
   "mimetype": "text/x-python",
   "name": "python",
   "nbconvert_exporter": "python",
   "pygments_lexer": "ipython3",
   "version": "3.10.9"
  }
 },
 "nbformat": 4,
 "nbformat_minor": 5
}
