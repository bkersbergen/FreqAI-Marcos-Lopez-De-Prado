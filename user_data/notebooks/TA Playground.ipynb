version https://git-lfs.github.com/spec/v1
oid sha256:d9eeedee6859c7b9500fb46dfdec3145f55ed128eeb0338cfe006277928fccf4
size 357278
