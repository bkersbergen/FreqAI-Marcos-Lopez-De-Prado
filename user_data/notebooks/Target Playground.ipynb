{
 "cells": [
  {
   "cell_type": "code",
   "execution_count": 1,
   "id": "49de3cab",
   "metadata": {},
   "outputs": [],
   "source": [
    "from scipy.signal import argrelextrema, find_peaks\n",
    "from scipy.spatial.distance import cdist, squareform, pdist\n",
    "import numpy as np\n",
    "import pandas as pd\n",
    "import matplotlib.pyplot as plt"
   ]
  },
  {
   "cell_type": "markdown",
   "id": "e426fa66",
   "metadata": {},
   "source": [
    "### Create function for apply\n",
    "- merge code into function\n",
    "- takes df and returns df with same index and more columsn"
   ]
  },
  {
   "cell_type": "code",
   "execution_count": 2,
   "id": "79a209e4",
   "metadata": {},
   "outputs": [],
   "source": [
    "from user_data.litmus.label_helpers import entry_exit_labeler"
   ]
  },
  {
   "cell_type": "code",
   "execution_count": 5,
   "id": "a1ebe51e",
   "metadata": {},
   "outputs": [
    {
     "name": "stdout",
     "output_type": "stream",
     "text": [
      "0.1146700382232666\n"
     ]
    },
    {
     "data": {
      "text/html": [
       "<div>\n",
       "<style scoped>\n",
       "    .dataframe tbody tr th:only-of-type {\n",
       "        vertical-align: middle;\n",
       "    }\n",
       "\n",
       "    .dataframe tbody tr th {\n",
       "        vertical-align: top;\n",
       "    }\n",
       "\n",
       "    .dataframe thead th {\n",
       "        text-align: right;\n",
       "    }\n",
       "</style>\n",
       "<table border=\"1\" class=\"dataframe\">\n",
       "  <thead>\n",
       "    <tr style=\"text-align: right;\">\n",
       "      <th></th>\n",
       "      <th>&amp;good_long_entry</th>\n",
       "      <th>&amp;good_long_exit</th>\n",
       "      <th>&amp;fake_long_entry</th>\n",
       "      <th>&amp;fake_long_exit</th>\n",
       "    </tr>\n",
       "  </thead>\n",
       "  <tbody>\n",
       "    <tr>\n",
       "      <th>0</th>\n",
       "      <td>No</td>\n",
       "      <td>No</td>\n",
       "      <td>No</td>\n",
       "      <td>No</td>\n",
       "    </tr>\n",
       "    <tr>\n",
       "      <th>1</th>\n",
       "      <td>No</td>\n",
       "      <td>No</td>\n",
       "      <td>No</td>\n",
       "      <td>No</td>\n",
       "    </tr>\n",
       "    <tr>\n",
       "      <th>2</th>\n",
       "      <td>No</td>\n",
       "      <td>No</td>\n",
       "      <td>No</td>\n",
       "      <td>&amp;fake_long_exit</td>\n",
       "    </tr>\n",
       "    <tr>\n",
       "      <th>3</th>\n",
       "      <td>No</td>\n",
       "      <td>No</td>\n",
       "      <td>No</td>\n",
       "      <td>No</td>\n",
       "    </tr>\n",
       "    <tr>\n",
       "      <th>4</th>\n",
       "      <td>&amp;good_long_entry</td>\n",
       "      <td>No</td>\n",
       "      <td>No</td>\n",
       "      <td>No</td>\n",
       "    </tr>\n",
       "    <tr>\n",
       "      <th>...</th>\n",
       "      <td>...</td>\n",
       "      <td>...</td>\n",
       "      <td>...</td>\n",
       "      <td>...</td>\n",
       "    </tr>\n",
       "    <tr>\n",
       "      <th>2995</th>\n",
       "      <td>No</td>\n",
       "      <td>No</td>\n",
       "      <td>No</td>\n",
       "      <td>No</td>\n",
       "    </tr>\n",
       "    <tr>\n",
       "      <th>2996</th>\n",
       "      <td>No</td>\n",
       "      <td>No</td>\n",
       "      <td>No</td>\n",
       "      <td>No</td>\n",
       "    </tr>\n",
       "    <tr>\n",
       "      <th>2997</th>\n",
       "      <td>No</td>\n",
       "      <td>No</td>\n",
       "      <td>&amp;fake_long_entry</td>\n",
       "      <td>No</td>\n",
       "    </tr>\n",
       "    <tr>\n",
       "      <th>2998</th>\n",
       "      <td>No</td>\n",
       "      <td>No</td>\n",
       "      <td>No</td>\n",
       "      <td>No</td>\n",
       "    </tr>\n",
       "    <tr>\n",
       "      <th>2999</th>\n",
       "      <td>No</td>\n",
       "      <td>No</td>\n",
       "      <td>No</td>\n",
       "      <td>No</td>\n",
       "    </tr>\n",
       "  </tbody>\n",
       "</table>\n",
       "<p>3000 rows × 4 columns</p>\n",
       "</div>"
      ],
      "text/plain": [
       "      &good_long_entry &good_long_exit  &fake_long_entry  &fake_long_exit\n",
       "0                   No              No                No               No\n",
       "1                   No              No                No               No\n",
       "2                   No              No                No  &fake_long_exit\n",
       "3                   No              No                No               No\n",
       "4     &good_long_entry              No                No               No\n",
       "...                ...             ...               ...              ...\n",
       "2995                No              No                No               No\n",
       "2996                No              No                No               No\n",
       "2997                No              No  &fake_long_entry               No\n",
       "2998                No              No                No               No\n",
       "2999                No              No                No               No\n",
       "\n",
       "[3000 rows x 4 columns]"
      ]
     },
     "execution_count": 5,
     "metadata": {},
     "output_type": "execute_result"
    }
   ],
   "source": [
    "close_ = 500 + np.cumsum(0.1 + np.random.randint(-10, 10, 3000))\n",
    "test_df = pd.DataFrame(close_, columns=[\"close\"], index=np.arange(len(close_)))\n",
    "results = entry_exit_labeler(test_df[\"close\"], direction=\"long\", min_growth=0.01, max_duration=5)\n",
    "results"
   ]
  },
  {
   "cell_type": "code",
   "execution_count": 7,
   "id": "a57404bf",
   "metadata": {},
   "outputs": [
    {
     "data": {
      "text/html": [
       "<div>\n",
       "<style scoped>\n",
       "    .dataframe tbody tr th:only-of-type {\n",
       "        vertical-align: middle;\n",
       "    }\n",
       "\n",
       "    .dataframe tbody tr th {\n",
       "        vertical-align: top;\n",
       "    }\n",
       "\n",
       "    .dataframe thead th {\n",
       "        text-align: right;\n",
       "    }\n",
       "</style>\n",
       "<table border=\"1\" class=\"dataframe\">\n",
       "  <thead>\n",
       "    <tr style=\"text-align: right;\">\n",
       "      <th></th>\n",
       "      <th>&amp;good_long_entry</th>\n",
       "      <th>&amp;good_long_exit</th>\n",
       "      <th>&amp;fake_long_entry</th>\n",
       "      <th>&amp;fake_long_exit</th>\n",
       "    </tr>\n",
       "  </thead>\n",
       "  <tbody>\n",
       "    <tr>\n",
       "      <th>count</th>\n",
       "      <td>3000</td>\n",
       "      <td>3000</td>\n",
       "      <td>3000</td>\n",
       "      <td>3000</td>\n",
       "    </tr>\n",
       "    <tr>\n",
       "      <th>unique</th>\n",
       "      <td>2</td>\n",
       "      <td>2</td>\n",
       "      <td>2</td>\n",
       "      <td>2</td>\n",
       "    </tr>\n",
       "    <tr>\n",
       "      <th>top</th>\n",
       "      <td>No</td>\n",
       "      <td>No</td>\n",
       "      <td>No</td>\n",
       "      <td>No</td>\n",
       "    </tr>\n",
       "    <tr>\n",
       "      <th>freq</th>\n",
       "      <td>2825</td>\n",
       "      <td>2830</td>\n",
       "      <td>2420</td>\n",
       "      <td>2415</td>\n",
       "    </tr>\n",
       "  </tbody>\n",
       "</table>\n",
       "</div>"
      ],
      "text/plain": [
       "       &good_long_entry &good_long_exit &fake_long_entry &fake_long_exit\n",
       "count              3000            3000             3000            3000\n",
       "unique                2               2                2               2\n",
       "top                  No              No               No              No\n",
       "freq               2825            2830             2420            2415"
      ]
     },
     "execution_count": 7,
     "metadata": {},
     "output_type": "execute_result"
    }
   ],
   "source": [
    "results.describe()"
   ]
  },
  {
   "cell_type": "code",
   "execution_count": 6,
   "id": "db390fad",
   "metadata": {},
   "outputs": [
    {
     "ename": "TypeError",
     "evalue": "no numeric data to plot",
     "output_type": "error",
     "traceback": [
      "\u001b[0;31m---------------------------------------------------------------------------\u001b[0m",
      "\u001b[0;31mTypeError\u001b[0m                                 Traceback (most recent call last)",
      "Input \u001b[0;32mIn [6]\u001b[0m, in \u001b[0;36m<cell line: 2>\u001b[0;34m()\u001b[0m\n\u001b[1;32m      1\u001b[0m \u001b[38;5;66;03m# results[\"close\"].plot(figsize=(20, 6))\u001b[39;00m\n\u001b[0;32m----> 2\u001b[0m \u001b[43mresults\u001b[49m\u001b[43m[\u001b[49m\u001b[38;5;124;43m\"\u001b[39;49m\u001b[38;5;124;43m&good_long_entry\u001b[39;49m\u001b[38;5;124;43m\"\u001b[39;49m\u001b[43m]\u001b[49m\u001b[38;5;241;43m.\u001b[39;49m\u001b[43mplot\u001b[49m\u001b[43m(\u001b[49m\u001b[43msecondary_y\u001b[49m\u001b[38;5;241;43m=\u001b[39;49m\u001b[38;5;28;43;01mTrue\u001b[39;49;00m\u001b[43m,\u001b[49m\u001b[43m \u001b[49m\u001b[43mkind\u001b[49m\u001b[38;5;241;43m=\u001b[39;49m\u001b[38;5;124;43m\"\u001b[39;49m\u001b[38;5;124;43mbar\u001b[39;49m\u001b[38;5;124;43m\"\u001b[39;49m\u001b[43m,\u001b[49m\u001b[43m \u001b[49m\u001b[43malpha\u001b[49m\u001b[38;5;241;43m=\u001b[39;49m\u001b[38;5;241;43m0.2\u001b[39;49m\u001b[43m,\u001b[49m\u001b[43m \u001b[49m\u001b[43mcolor\u001b[49m\u001b[38;5;241;43m=\u001b[39;49m\u001b[38;5;124;43m\"\u001b[39;49m\u001b[38;5;124;43mgreen\u001b[39;49m\u001b[38;5;124;43m\"\u001b[39;49m\u001b[43m)\u001b[49m\n\u001b[1;32m      3\u001b[0m results[\u001b[38;5;124m\"\u001b[39m\u001b[38;5;124m&good_long_exit\u001b[39m\u001b[38;5;124m\"\u001b[39m]\u001b[38;5;241m.\u001b[39mplot(secondary_y\u001b[38;5;241m=\u001b[39m\u001b[38;5;28;01mTrue\u001b[39;00m, kind\u001b[38;5;241m=\u001b[39m\u001b[38;5;124m\"\u001b[39m\u001b[38;5;124mbar\u001b[39m\u001b[38;5;124m\"\u001b[39m, alpha\u001b[38;5;241m=\u001b[39m\u001b[38;5;241m0.2\u001b[39m, color\u001b[38;5;241m=\u001b[39m\u001b[38;5;124m\"\u001b[39m\u001b[38;5;124mred\u001b[39m\u001b[38;5;124m\"\u001b[39m)\n\u001b[1;32m      4\u001b[0m results[\u001b[38;5;124m\"\u001b[39m\u001b[38;5;124m&fake_long_entry\u001b[39m\u001b[38;5;124m\"\u001b[39m]\u001b[38;5;241m.\u001b[39mplot(secondary_y\u001b[38;5;241m=\u001b[39m\u001b[38;5;28;01mTrue\u001b[39;00m, kind\u001b[38;5;241m=\u001b[39m\u001b[38;5;124m\"\u001b[39m\u001b[38;5;124mbar\u001b[39m\u001b[38;5;124m\"\u001b[39m, alpha\u001b[38;5;241m=\u001b[39m\u001b[38;5;241m0.2\u001b[39m, color\u001b[38;5;241m=\u001b[39m\u001b[38;5;124m\"\u001b[39m\u001b[38;5;124mblack\u001b[39m\u001b[38;5;124m\"\u001b[39m)\n",
      "File \u001b[0;32m~/Dev/litmus-ai/freqtrade/.env/lib/python3.9/site-packages/pandas/plotting/_core.py:972\u001b[0m, in \u001b[0;36mPlotAccessor.__call__\u001b[0;34m(self, *args, **kwargs)\u001b[0m\n\u001b[1;32m    969\u001b[0m             label_name \u001b[38;5;241m=\u001b[39m label_kw \u001b[38;5;129;01mor\u001b[39;00m data\u001b[38;5;241m.\u001b[39mcolumns\n\u001b[1;32m    970\u001b[0m             data\u001b[38;5;241m.\u001b[39mcolumns \u001b[38;5;241m=\u001b[39m label_name\n\u001b[0;32m--> 972\u001b[0m \u001b[38;5;28;01mreturn\u001b[39;00m \u001b[43mplot_backend\u001b[49m\u001b[38;5;241;43m.\u001b[39;49m\u001b[43mplot\u001b[49m\u001b[43m(\u001b[49m\u001b[43mdata\u001b[49m\u001b[43m,\u001b[49m\u001b[43m \u001b[49m\u001b[43mkind\u001b[49m\u001b[38;5;241;43m=\u001b[39;49m\u001b[43mkind\u001b[49m\u001b[43m,\u001b[49m\u001b[43m \u001b[49m\u001b[38;5;241;43m*\u001b[39;49m\u001b[38;5;241;43m*\u001b[39;49m\u001b[43mkwargs\u001b[49m\u001b[43m)\u001b[49m\n",
      "File \u001b[0;32m~/Dev/litmus-ai/freqtrade/.env/lib/python3.9/site-packages/pandas/plotting/_matplotlib/__init__.py:71\u001b[0m, in \u001b[0;36mplot\u001b[0;34m(data, kind, **kwargs)\u001b[0m\n\u001b[1;32m     69\u001b[0m         kwargs[\u001b[38;5;124m\"\u001b[39m\u001b[38;5;124max\u001b[39m\u001b[38;5;124m\"\u001b[39m] \u001b[38;5;241m=\u001b[39m \u001b[38;5;28mgetattr\u001b[39m(ax, \u001b[38;5;124m\"\u001b[39m\u001b[38;5;124mleft_ax\u001b[39m\u001b[38;5;124m\"\u001b[39m, ax)\n\u001b[1;32m     70\u001b[0m plot_obj \u001b[38;5;241m=\u001b[39m PLOT_CLASSES[kind](data, \u001b[38;5;241m*\u001b[39m\u001b[38;5;241m*\u001b[39mkwargs)\n\u001b[0;32m---> 71\u001b[0m \u001b[43mplot_obj\u001b[49m\u001b[38;5;241;43m.\u001b[39;49m\u001b[43mgenerate\u001b[49m\u001b[43m(\u001b[49m\u001b[43m)\u001b[49m\n\u001b[1;32m     72\u001b[0m plot_obj\u001b[38;5;241m.\u001b[39mdraw()\n\u001b[1;32m     73\u001b[0m \u001b[38;5;28;01mreturn\u001b[39;00m plot_obj\u001b[38;5;241m.\u001b[39mresult\n",
      "File \u001b[0;32m~/Dev/litmus-ai/freqtrade/.env/lib/python3.9/site-packages/pandas/plotting/_matplotlib/core.py:327\u001b[0m, in \u001b[0;36mMPLPlot.generate\u001b[0;34m(self)\u001b[0m\n\u001b[1;32m    325\u001b[0m \u001b[38;5;28;01mdef\u001b[39;00m \u001b[38;5;21mgenerate\u001b[39m(\u001b[38;5;28mself\u001b[39m):\n\u001b[1;32m    326\u001b[0m     \u001b[38;5;28mself\u001b[39m\u001b[38;5;241m.\u001b[39m_args_adjust()\n\u001b[0;32m--> 327\u001b[0m     \u001b[38;5;28;43mself\u001b[39;49m\u001b[38;5;241;43m.\u001b[39;49m\u001b[43m_compute_plot_data\u001b[49m\u001b[43m(\u001b[49m\u001b[43m)\u001b[49m\n\u001b[1;32m    328\u001b[0m     \u001b[38;5;28mself\u001b[39m\u001b[38;5;241m.\u001b[39m_setup_subplots()\n\u001b[1;32m    329\u001b[0m     \u001b[38;5;28mself\u001b[39m\u001b[38;5;241m.\u001b[39m_make_plot()\n",
      "File \u001b[0;32m~/Dev/litmus-ai/freqtrade/.env/lib/python3.9/site-packages/pandas/plotting/_matplotlib/core.py:506\u001b[0m, in \u001b[0;36mMPLPlot._compute_plot_data\u001b[0;34m(self)\u001b[0m\n\u001b[1;32m    504\u001b[0m \u001b[38;5;66;03m# no non-numeric frames or series allowed\u001b[39;00m\n\u001b[1;32m    505\u001b[0m \u001b[38;5;28;01mif\u001b[39;00m is_empty:\n\u001b[0;32m--> 506\u001b[0m     \u001b[38;5;28;01mraise\u001b[39;00m \u001b[38;5;167;01mTypeError\u001b[39;00m(\u001b[38;5;124m\"\u001b[39m\u001b[38;5;124mno numeric data to plot\u001b[39m\u001b[38;5;124m\"\u001b[39m)\n\u001b[1;32m    508\u001b[0m \u001b[38;5;28mself\u001b[39m\u001b[38;5;241m.\u001b[39mdata \u001b[38;5;241m=\u001b[39m numeric_data\u001b[38;5;241m.\u001b[39mapply(\u001b[38;5;28mself\u001b[39m\u001b[38;5;241m.\u001b[39m_convert_to_ndarray)\n",
      "\u001b[0;31mTypeError\u001b[0m: no numeric data to plot"
     ]
    }
   ],
   "source": [
    "# results[\"close\"].plot(figsize=(20, 6))\n",
    "results[\"&good_long_entry\"].plot(secondary_y=True, kind=\"bar\", alpha=0.2, color=\"green\")\n",
    "results[\"&good_long_exit\"].plot(secondary_y=True, kind=\"bar\", alpha=0.2, color=\"red\")\n",
    "results[\"&fake_long_entry\"].plot(secondary_y=True, kind=\"bar\", alpha=0.2, color=\"black\")\n",
    "results[\"&fake_long_exit\"].plot(secondary_y=True, kind=\"bar\", alpha=0.2, color=\"black\")"
   ]
  },
  {
   "cell_type": "code",
   "execution_count": null,
   "id": "024c3acd",
   "metadata": {},
   "outputs": [],
   "source": [
    "[\"&good_entry\", \"&good_exit\", \"&fake_entry\", \"&fake_exit\"]"
   ]
  },
  {
   "cell_type": "markdown",
   "id": "12ee6368",
   "metadata": {},
   "source": [
    "### Steps\n",
    "- identify all peaks and valleys for close\n",
    "- mask close to show just peaks and valleys\n",
    "- compute cdist for all points in close\n",
    "- mask dist that is > max_distance\n",
    "- identify distances that are > min_threshold\n",
    "- get idx for those points\n",
    "- label those points as good entries and exists\n",
    "- label all other peak/valleys as fake entries/exits"
   ]
  },
  {
   "cell_type": "code",
   "execution_count": 88,
   "id": "964ef0cc",
   "metadata": {},
   "outputs": [
    {
     "data": {
      "text/plain": [
       "array([503.1, 509.2, 507.3, 514.4, 512.5, 512.6, 503.7, 506.8, 510.9,\n",
       "       503. , 512.1, 508.2, 508.3, 513.4, 504.5, 509.6, 515.7, 523.8,\n",
       "       529.9, 529. ])"
      ]
     },
     "execution_count": 88,
     "metadata": {},
     "output_type": "execute_result"
    }
   ],
   "source": [
    "close = 500 + np.cumsum(0.1 + np.random.randint(-10, 10, 20))\n",
    "close"
   ]
  },
  {
   "cell_type": "code",
   "execution_count": 89,
   "id": "b42ce6b6",
   "metadata": {},
   "outputs": [
    {
     "data": {
      "text/plain": [
       "(array([ 2,  4,  6,  9, 11, 14]), array([ 1,  3,  5,  8, 10, 13, 18]))"
      ]
     },
     "execution_count": 89,
     "metadata": {},
     "output_type": "execute_result"
    }
   ],
   "source": [
    "# Find all peaks and valleys\n",
    "peak_idx = find_peaks(close)[0]\n",
    "valley_idx = find_peaks(-close)[0]\n",
    "valley_idx, peak_idx"
   ]
  },
  {
   "cell_type": "code",
   "execution_count": 90,
   "id": "1c6ea62f",
   "metadata": {},
   "outputs": [
    {
     "data": {
      "text/plain": [
       "array([False, False,  True, False,  True, False,  True, False, False,\n",
       "        True, False,  True, False, False,  True, False, False, False,\n",
       "       False, False])"
      ]
     },
     "execution_count": 90,
     "metadata": {},
     "output_type": "execute_result"
    }
   ],
   "source": [
    "# Mask valleys\n",
    "valley_mask = np.zeros(close.shape, dtype=bool)\n",
    "valley_mask[valley_idx] = True\n",
    "valley_mask"
   ]
  },
  {
   "cell_type": "code",
   "execution_count": 91,
   "id": "79123875",
   "metadata": {},
   "outputs": [
    {
     "data": {
      "text/plain": [
       "array([False,  True, False,  True, False,  True, False, False,  True,\n",
       "       False,  True, False, False,  True, False, False, False, False,\n",
       "        True, False])"
      ]
     },
     "execution_count": 91,
     "metadata": {},
     "output_type": "execute_result"
    }
   ],
   "source": [
    "peak_mask = np.zeros(close.shape, dtype=bool)\n",
    "peak_mask[peak_idx] = True\n",
    "peak_mask"
   ]
  },
  {
   "cell_type": "code",
   "execution_count": 102,
   "id": "40360b47",
   "metadata": {},
   "outputs": [
    {
     "data": {
      "text/plain": [
       "array([[False, False, False, False, False, False, False, False, False,\n",
       "        False, False, False, False, False, False, False, False, False,\n",
       "        False, False],\n",
       "       [False, False, False, False, False, False, False, False, False,\n",
       "        False, False, False, False, False, False, False, False, False,\n",
       "        False, False],\n",
       "       [False,  True, False,  True, False,  True, False, False,  True,\n",
       "        False,  True, False, False,  True, False, False, False, False,\n",
       "         True, False],\n",
       "       [False, False, False, False, False, False, False, False, False,\n",
       "        False, False, False, False, False, False, False, False, False,\n",
       "        False, False],\n",
       "       [False,  True, False,  True, False,  True, False, False,  True,\n",
       "        False,  True, False, False,  True, False, False, False, False,\n",
       "         True, False],\n",
       "       [False, False, False, False, False, False, False, False, False,\n",
       "        False, False, False, False, False, False, False, False, False,\n",
       "        False, False],\n",
       "       [False,  True, False,  True, False,  True, False, False,  True,\n",
       "        False,  True, False, False,  True, False, False, False, False,\n",
       "         True, False],\n",
       "       [False, False, False, False, False, False, False, False, False,\n",
       "        False, False, False, False, False, False, False, False, False,\n",
       "        False, False],\n",
       "       [False, False, False, False, False, False, False, False, False,\n",
       "        False, False, False, False, False, False, False, False, False,\n",
       "        False, False],\n",
       "       [False,  True, False,  True, False,  True, False, False,  True,\n",
       "        False,  True, False, False,  True, False, False, False, False,\n",
       "         True, False],\n",
       "       [False, False, False, False, False, False, False, False, False,\n",
       "        False, False, False, False, False, False, False, False, False,\n",
       "        False, False],\n",
       "       [False,  True, False,  True, False,  True, False, False,  True,\n",
       "        False,  True, False, False,  True, False, False, False, False,\n",
       "         True, False],\n",
       "       [False, False, False, False, False, False, False, False, False,\n",
       "        False, False, False, False, False, False, False, False, False,\n",
       "        False, False],\n",
       "       [False, False, False, False, False, False, False, False, False,\n",
       "        False, False, False, False, False, False, False, False, False,\n",
       "        False, False],\n",
       "       [False,  True, False,  True, False,  True, False, False,  True,\n",
       "        False,  True, False, False,  True, False, False, False, False,\n",
       "         True, False],\n",
       "       [False, False, False, False, False, False, False, False, False,\n",
       "        False, False, False, False, False, False, False, False, False,\n",
       "        False, False],\n",
       "       [False, False, False, False, False, False, False, False, False,\n",
       "        False, False, False, False, False, False, False, False, False,\n",
       "        False, False],\n",
       "       [False, False, False, False, False, False, False, False, False,\n",
       "        False, False, False, False, False, False, False, False, False,\n",
       "        False, False],\n",
       "       [False, False, False, False, False, False, False, False, False,\n",
       "        False, False, False, False, False, False, False, False, False,\n",
       "        False, False],\n",
       "       [False, False, False, False, False, False, False, False, False,\n",
       "        False, False, False, False, False, False, False, False, False,\n",
       "        False, False]])"
      ]
     },
     "execution_count": 102,
     "metadata": {},
     "output_type": "execute_result"
    }
   ],
   "source": [
    "peak_valley_mask = np.outer(valley_mask, peak_mask)\n",
    "peak_valley_mask"
   ]
  },
  {
   "cell_type": "code",
   "execution_count": 231,
   "id": "c1956936",
   "metadata": {},
   "outputs": [
    {
     "data": {
      "text/plain": [
       "[<matplotlib.lines.Line2D at 0x2a1814d30>]"
      ]
     },
     "execution_count": 231,
     "metadata": {},
     "output_type": "execute_result"
    },
    {
     "data": {
      "image/png": "[encoded data removed]",
      "text/plain": [
       "<Figure size 432x288 with 1 Axes>"
      ]
     },
     "metadata": {
      "needs_background": "light"
     },
     "output_type": "display_data"
    }
   ],
   "source": [
    "# Check we're on track\n",
    "plt.plot(valley_mask*close)\n",
    "plt.plot(peak_mask*close)\n",
    "plt.plot(close)"
   ]
  },
  {
   "cell_type": "code",
   "execution_count": 13,
   "id": "28921c3b",
   "metadata": {},
   "outputs": [],
   "source": [
    "close_test = 500 + np.cumsum(0.1 + np.random.randint(-10, 10, 10))"
   ]
  },
  {
   "cell_type": "code",
   "execution_count": 16,
   "id": "19166bb1",
   "metadata": {},
   "outputs": [
    {
     "data": {
      "text/plain": [
       "array([499.1, 504.2, 509.3, 515.4, 505.5, 514.6, 514.7, 517.8, 509.9,\n",
       "       511. ])"
      ]
     },
     "execution_count": 16,
     "metadata": {},
     "output_type": "execute_result"
    }
   ],
   "source": [
    "close_test"
   ]
  },
  {
   "cell_type": "code",
   "execution_count": 14,
   "id": "35d2169d",
   "metadata": {},
   "outputs": [
    {
     "data": {
      "text/plain": [
       "array([[ 0.        ,  0.01021839,  0.02043679,  0.03265879,  0.01282308,\n",
       "         0.0310559 ,  0.03125626,  0.03746744,  0.02163895,  0.02384292],\n",
       "       [-0.01011503,  0.        ,  0.01011503,  0.02221341,  0.00257834,\n",
       "         0.02062674,  0.02082507,  0.02697342,  0.01130504,  0.01348671],\n",
       "       [-0.02002749, -0.01001374,  0.        ,  0.01197722, -0.00746122,\n",
       "         0.01040644,  0.01060279,  0.01668957,  0.00117809,  0.00333791],\n",
       "       [-0.03162592, -0.02173069, -0.01183547,  0.        , -0.01920838,\n",
       "        -0.00155219, -0.00135817,  0.00465658, -0.01067132, -0.00853706],\n",
       "       [-0.01266073, -0.00257171,  0.00751731,  0.01958457,  0.        ,\n",
       "         0.01800198,  0.0181998 ,  0.02433234,  0.00870425,  0.01088032],\n",
       "       [-0.03012048, -0.02020987, -0.01029926,  0.00155461, -0.01768364,\n",
       "         0.        ,  0.00019433,  0.00621842, -0.00913331, -0.00699572],\n",
       "       [-0.03030892, -0.02040023, -0.01049155,  0.00136002, -0.01787449,\n",
       "        -0.00019429,  0.        ,  0.00602293, -0.00932582, -0.00718865],\n",
       "       [-0.03611433, -0.02626497, -0.0164156 , -0.00463499, -0.02375435,\n",
       "        -0.00617999, -0.00598687,  0.        , -0.01525686, -0.01313248],\n",
       "       [-0.02118062, -0.01117866, -0.0011767 ,  0.01078643, -0.00862914,\n",
       "         0.00921749,  0.00941361,  0.01549323,  0.        ,  0.00215729],\n",
       "       [-0.02328767, -0.01330724, -0.00332681,  0.00861057, -0.01076321,\n",
       "         0.00704501,  0.0072407 ,  0.01330724, -0.00215264,  0.        ]])"
      ]
     },
     "execution_count": 14,
     "metadata": {},
     "output_type": "execute_result"
    }
   ],
   "source": [
    "# Compute distance matrix\n",
    "def cdist_growth(a, b):\n",
    "    return np.divide(b - a, a)\n",
    "\n",
    "dist_matrix = cdist(close_test.reshape(-1, 1), close_test.reshape(-1, 1), metric=cdist_growth)\n",
    "dist_matrix"
   ]
  },
  {
   "cell_type": "code",
   "execution_count": 15,
   "id": "d9e4d98f",
   "metadata": {},
   "outputs": [
    {
     "data": {
      "text/plain": [
       "array([[ 0. ,  5.1, 10.2, 16.3,  6.4, 15.5, 15.6, 18.7, 10.8, 11.9],\n",
       "       [ 5.1,  0. ,  5.1, 11.2,  1.3, 10.4, 10.5, 13.6,  5.7,  6.8],\n",
       "       [10.2,  5.1,  0. ,  6.1,  3.8,  5.3,  5.4,  8.5,  0.6,  1.7],\n",
       "       [16.3, 11.2,  6.1,  0. ,  9.9,  0.8,  0.7,  2.4,  5.5,  4.4],\n",
       "       [ 6.4,  1.3,  3.8,  9.9,  0. ,  9.1,  9.2, 12.3,  4.4,  5.5],\n",
       "       [15.5, 10.4,  5.3,  0.8,  9.1,  0. ,  0.1,  3.2,  4.7,  3.6],\n",
       "       [15.6, 10.5,  5.4,  0.7,  9.2,  0.1,  0. ,  3.1,  4.8,  3.7],\n",
       "       [18.7, 13.6,  8.5,  2.4, 12.3,  3.2,  3.1,  0. ,  7.9,  6.8],\n",
       "       [10.8,  5.7,  0.6,  5.5,  4.4,  4.7,  4.8,  7.9,  0. ,  1.1],\n",
       "       [11.9,  6.8,  1.7,  4.4,  5.5,  3.6,  3.7,  6.8,  1.1,  0. ]])"
      ]
     },
     "execution_count": 15,
     "metadata": {},
     "output_type": "execute_result"
    }
   ],
   "source": [
    "# Compute distance matrix\n",
    "dist_matrix = cdist(close_test.reshape(-1, 1), close_test.reshape(-1, 1), metric=\"euclidean\")\n",
    "dist_matrix"
   ]
  },
  {
   "cell_type": "code",
   "execution_count": 19,
   "id": "e574bcf0",
   "metadata": {},
   "outputs": [
    {
     "data": {
      "text/plain": [
       "array([[0.        , 0.01021839, 0.02043679, 0.03265879, 0.01282308,\n",
       "        0.0310559 , 0.03125626, 0.03746744, 0.02163895, 0.02384292],\n",
       "       [0.01011503, 0.        , 0.01011503, 0.02221341, 0.00257834,\n",
       "        0.02062674, 0.02082507, 0.02697342, 0.01130504, 0.01348671],\n",
       "       [0.02002749, 0.01001374, 0.        , 0.01197722, 0.00746122,\n",
       "        0.01040644, 0.01060279, 0.01668957, 0.00117809, 0.00333791],\n",
       "       [0.03162592, 0.02173069, 0.01183547, 0.        , 0.01920838,\n",
       "        0.00155219, 0.00135817, 0.00465658, 0.01067132, 0.00853706],\n",
       "       [0.01266073, 0.00257171, 0.00751731, 0.01958457, 0.        ,\n",
       "        0.01800198, 0.0181998 , 0.02433234, 0.00870425, 0.01088032],\n",
       "       [0.03012048, 0.02020987, 0.01029926, 0.00155461, 0.01768364,\n",
       "        0.        , 0.00019433, 0.00621842, 0.00913331, 0.00699572],\n",
       "       [0.03030892, 0.02040023, 0.01049155, 0.00136002, 0.01787449,\n",
       "        0.00019429, 0.        , 0.00602293, 0.00932582, 0.00718865],\n",
       "       [0.03611433, 0.02626497, 0.0164156 , 0.00463499, 0.02375435,\n",
       "        0.00617999, 0.00598687, 0.        , 0.01525686, 0.01313248],\n",
       "       [0.02118062, 0.01117866, 0.0011767 , 0.01078643, 0.00862914,\n",
       "        0.00921749, 0.00941361, 0.01549323, 0.        , 0.00215729],\n",
       "       [0.02328767, 0.01330724, 0.00332681, 0.00861057, 0.01076321,\n",
       "        0.00704501, 0.0072407 , 0.01330724, 0.00215264, 0.        ]])"
      ]
     },
     "execution_count": 19,
     "metadata": {},
     "output_type": "execute_result"
    }
   ],
   "source": [
    "dist_matrix / close_test.reshape(-1, 1)"
   ]
  },
  {
   "cell_type": "code",
   "execution_count": 110,
   "id": "2a1b7038",
   "metadata": {},
   "outputs": [
    {
     "data": {
      "text/plain": [
       "array([[ 0.        ,  0.        ,  0.        ,  0.02246074,  0.        ,\n",
       "         0.        ,  0.        ,  0.        ,  0.        , -0.        ,\n",
       "         0.        ,  0.        ,  0.        ,  0.02047307,  0.        ,\n",
       "         0.        ,  0.02504472,  0.0411449 ,  0.05326973,  0.05148082],\n",
       "       [-0.        ,  0.        , -0.        ,  0.        ,  0.        ,\n",
       "         0.        , -0.        , -0.        ,  0.        , -0.        ,\n",
       "         0.        , -0.        , -0.        ,  0.        , -0.        ,\n",
       "         0.        ,  0.        ,  0.02867243,  0.040652  ,  0.03888452],\n",
       "       [-0.        ,  0.        ,  0.        ,  0.        ,  0.        ,\n",
       "         0.        , -0.        , -0.        ,  0.        , -0.        ,\n",
       "         0.        ,  0.        ,  0.        ,  0.        , -0.        ,\n",
       "         0.        ,  0.        ,  0.03252513,  0.04454958,  0.04277548],\n",
       "       [-0.        , -0.        , -0.        ,  0.        , -0.        ,\n",
       "        -0.        , -0.        , -0.        , -0.        , -0.        ,\n",
       "        -0.        , -0.        , -0.        , -0.        , -0.        ,\n",
       "        -0.        ,  0.        ,  0.        ,  0.03013219,  0.02838258],\n",
       "       [-0.        , -0.        , -0.        ,  0.        ,  0.        ,\n",
       "         0.        , -0.        , -0.        , -0.        , -0.        ,\n",
       "        -0.        , -0.        , -0.        ,  0.        , -0.        ,\n",
       "        -0.        ,  0.        ,  0.02204878,  0.03395122,  0.03219512],\n",
       "       [-0.        , -0.        , -0.        ,  0.        , -0.        ,\n",
       "         0.        , -0.        , -0.        , -0.        , -0.        ,\n",
       "        -0.        , -0.        , -0.        ,  0.        , -0.        ,\n",
       "        -0.        ,  0.        ,  0.0218494 ,  0.03374951,  0.03199376],\n",
       "       [-0.        ,  0.        ,  0.        ,  0.0212428 ,  0.        ,\n",
       "         0.        ,  0.        ,  0.        ,  0.        , -0.        ,\n",
       "         0.        ,  0.        ,  0.        ,  0.        ,  0.        ,\n",
       "         0.        ,  0.0238237 ,  0.03990471,  0.05201509,  0.05022831],\n",
       "       [-0.        ,  0.        ,  0.        ,  0.        ,  0.        ,\n",
       "         0.        , -0.        ,  0.        ,  0.        , -0.        ,\n",
       "         0.        ,  0.        ,  0.        ,  0.        , -0.        ,\n",
       "         0.        ,  0.        ,  0.0335438 ,  0.04558011,  0.04380426],\n",
       "       [-0.        , -0.        , -0.        ,  0.        ,  0.        ,\n",
       "         0.        , -0.        , -0.        ,  0.        , -0.        ,\n",
       "         0.        , -0.        , -0.        ,  0.        , -0.        ,\n",
       "        -0.        ,  0.        ,  0.02524956,  0.03718927,  0.03542768],\n",
       "       [ 0.        ,  0.        ,  0.        ,  0.02266402,  0.        ,\n",
       "         0.        ,  0.        ,  0.        ,  0.        ,  0.        ,\n",
       "         0.        ,  0.        ,  0.        ,  0.02067594,  0.        ,\n",
       "         0.        ,  0.02524851,  0.04135189,  0.05347913,  0.05168986],\n",
       "       [-0.        , -0.        , -0.        ,  0.        ,  0.        ,\n",
       "         0.        , -0.        , -0.        , -0.        , -0.        ,\n",
       "         0.        , -0.        , -0.        ,  0.        , -0.        ,\n",
       "        -0.        ,  0.        ,  0.0228471 ,  0.03475884,  0.03300137],\n",
       "       [-0.        ,  0.        , -0.        ,  0.        ,  0.        ,\n",
       "         0.        , -0.        , -0.        ,  0.        , -0.        ,\n",
       "         0.        ,  0.        ,  0.        ,  0.        , -0.        ,\n",
       "         0.        ,  0.        ,  0.03069658,  0.04269972,  0.04092877],\n",
       "       [-0.        ,  0.        , -0.        ,  0.        ,  0.        ,\n",
       "         0.        , -0.        , -0.        ,  0.        , -0.        ,\n",
       "         0.        , -0.        ,  0.        ,  0.        , -0.        ,\n",
       "         0.        ,  0.        ,  0.0304938 ,  0.04249459,  0.04072398],\n",
       "       [-0.        , -0.        , -0.        ,  0.        , -0.        ,\n",
       "        -0.        , -0.        , -0.        , -0.        , -0.        ,\n",
       "        -0.        , -0.        , -0.        ,  0.        , -0.        ,\n",
       "        -0.        ,  0.        ,  0.02025711,  0.03213868,  0.03038566],\n",
       "       [-0.        ,  0.        ,  0.        ,  0.        ,  0.        ,\n",
       "         0.        , -0.        ,  0.        ,  0.        , -0.        ,\n",
       "         0.        ,  0.        ,  0.        ,  0.        ,  0.        ,\n",
       "         0.        ,  0.0222002 ,  0.0382557 ,  0.05034688,  0.04856293],\n",
       "       [-0.        , -0.        , -0.        ,  0.        ,  0.        ,\n",
       "         0.        , -0.        , -0.        ,  0.        , -0.        ,\n",
       "         0.        , -0.        , -0.        ,  0.        , -0.        ,\n",
       "         0.        ,  0.        ,  0.02786499,  0.03983516,  0.03806907],\n",
       "       [-0.        , -0.        , -0.        , -0.        , -0.        ,\n",
       "        -0.        , -0.        , -0.        , -0.        , -0.        ,\n",
       "        -0.        , -0.        , -0.        , -0.        , -0.        ,\n",
       "        -0.        ,  0.        ,  0.        ,  0.02753539,  0.02579019],\n",
       "       [-0.        , -0.        , -0.        , -0.        , -0.        ,\n",
       "        -0.        , -0.        , -0.        , -0.        , -0.        ,\n",
       "        -0.        , -0.        , -0.        , -0.        , -0.        ,\n",
       "        -0.        , -0.        ,  0.        ,  0.        ,  0.        ],\n",
       "       [-0.        , -0.        , -0.        , -0.        , -0.        ,\n",
       "        -0.        , -0.        , -0.        , -0.        , -0.        ,\n",
       "        -0.        , -0.        , -0.        , -0.        , -0.        ,\n",
       "        -0.        , -0.        , -0.        ,  0.        , -0.        ],\n",
       "       [-0.        , -0.        , -0.        , -0.        , -0.        ,\n",
       "        -0.        , -0.        , -0.        , -0.        , -0.        ,\n",
       "        -0.        , -0.        , -0.        , -0.        , -0.        ,\n",
       "        -0.        , -0.        , -0.        ,  0.        ,  0.        ]])"
      ]
     },
     "execution_count": 110,
     "metadata": {},
     "output_type": "execute_result"
    }
   ],
   "source": [
    "# Scope to distances > min_threshold\n",
    "min_growth = 0.02\n",
    "\n",
    "growth_mask = (dist_matrix - min_growth) > 0\n",
    "dist_matrix = dist_matrix*growth_mask\n",
    "\n",
    "dist_matrix"
   ]
  },
  {
   "cell_type": "code",
   "execution_count": 70,
   "id": "b32f222d",
   "metadata": {},
   "outputs": [
    {
     "data": {
      "text/plain": [
       "array([[ 0. ,  0.1,  0.2,  2.7,  0.6,  4.5,  0. ,  0. ,  0. ,  0. ],\n",
       "       [ 0.1,  0. ,  0.1,  2.8,  0.7,  4.4,  2.5,  0. ,  0. ,  0. ],\n",
       "       [ 0.2,  0.1,  0. ,  2.9,  0.8,  4.3,  2.4, 11.5,  0. ,  0. ],\n",
       "       [ 2.7,  2.8,  2.9,  0. ,  2.1,  7.2,  5.3, 14.4, 20.5,  0. ],\n",
       "       [ 0.6,  0.7,  0.8,  2.1,  0. ,  5.1,  3.2, 12.3, 18.4, 20.5],\n",
       "       [ 4.5,  4.4,  4.3,  7.2,  5.1,  0. ,  1.9,  7.2, 13.3, 15.4],\n",
       "       [ 2.6,  2.5,  2.4,  5.3,  3.2,  1.9,  0. ,  9.1, 15.2, 17.3],\n",
       "       [11.7, 11.6, 11.5, 14.4, 12.3,  7.2,  9.1,  0. ,  6.1,  8.2],\n",
       "       [17.8, 17.7, 17.6, 20.5, 18.4, 13.3, 15.2,  6.1,  0. ,  2.1],\n",
       "       [19.9, 19.8, 19.7, 22.6, 20.5, 15.4, 17.3,  8.2,  2.1,  0. ]])"
      ]
     },
     "execution_count": 70,
     "metadata": {},
     "output_type": "execute_result"
    }
   ],
   "source": [
    "np.tril(dist_matrix, k=5)"
   ]
  },
  {
   "cell_type": "code",
   "execution_count": 111,
   "id": "220e8f6b",
   "metadata": {},
   "outputs": [
    {
     "data": {
      "text/plain": [
       "array([[ 0.        ,  0.        ,  0.        ,  0.02246074,  0.        ,\n",
       "         0.        ,  0.        ,  0.        ,  0.        ,  0.        ,\n",
       "         0.        ,  0.        ,  0.        ,  0.        ,  0.        ,\n",
       "         0.        ,  0.        ,  0.        ,  0.        ,  0.        ],\n",
       "       [ 0.        ,  0.        , -0.        ,  0.        ,  0.        ,\n",
       "         0.        , -0.        ,  0.        ,  0.        ,  0.        ,\n",
       "         0.        ,  0.        ,  0.        ,  0.        ,  0.        ,\n",
       "         0.        ,  0.        ,  0.        ,  0.        ,  0.        ],\n",
       "       [ 0.        ,  0.        ,  0.        ,  0.        ,  0.        ,\n",
       "         0.        , -0.        , -0.        ,  0.        ,  0.        ,\n",
       "         0.        ,  0.        ,  0.        ,  0.        ,  0.        ,\n",
       "         0.        ,  0.        ,  0.        ,  0.        ,  0.        ],\n",
       "       [ 0.        ,  0.        ,  0.        ,  0.        , -0.        ,\n",
       "        -0.        , -0.        , -0.        , -0.        ,  0.        ,\n",
       "         0.        ,  0.        ,  0.        ,  0.        ,  0.        ,\n",
       "         0.        ,  0.        ,  0.        ,  0.        ,  0.        ],\n",
       "       [ 0.        ,  0.        ,  0.        ,  0.        ,  0.        ,\n",
       "         0.        , -0.        , -0.        , -0.        , -0.        ,\n",
       "         0.        ,  0.        ,  0.        ,  0.        ,  0.        ,\n",
       "         0.        ,  0.        ,  0.        ,  0.        ,  0.        ],\n",
       "       [ 0.        ,  0.        ,  0.        ,  0.        ,  0.        ,\n",
       "         0.        , -0.        , -0.        , -0.        , -0.        ,\n",
       "        -0.        ,  0.        ,  0.        ,  0.        ,  0.        ,\n",
       "         0.        ,  0.        ,  0.        ,  0.        ,  0.        ],\n",
       "       [ 0.        ,  0.        ,  0.        ,  0.        ,  0.        ,\n",
       "         0.        ,  0.        ,  0.        ,  0.        , -0.        ,\n",
       "         0.        ,  0.        ,  0.        ,  0.        ,  0.        ,\n",
       "         0.        ,  0.        ,  0.        ,  0.        ,  0.        ],\n",
       "       [ 0.        ,  0.        ,  0.        ,  0.        ,  0.        ,\n",
       "         0.        ,  0.        ,  0.        ,  0.        , -0.        ,\n",
       "         0.        ,  0.        ,  0.        ,  0.        ,  0.        ,\n",
       "         0.        ,  0.        ,  0.        ,  0.        ,  0.        ],\n",
       "       [ 0.        ,  0.        ,  0.        ,  0.        ,  0.        ,\n",
       "         0.        ,  0.        ,  0.        ,  0.        , -0.        ,\n",
       "         0.        , -0.        , -0.        ,  0.        ,  0.        ,\n",
       "         0.        ,  0.        ,  0.        ,  0.        ,  0.        ],\n",
       "       [ 0.        ,  0.        ,  0.        ,  0.        ,  0.        ,\n",
       "         0.        ,  0.        ,  0.        ,  0.        ,  0.        ,\n",
       "         0.        ,  0.        ,  0.        ,  0.02067594,  0.        ,\n",
       "         0.        ,  0.        ,  0.        ,  0.        ,  0.        ],\n",
       "       [ 0.        ,  0.        ,  0.        ,  0.        ,  0.        ,\n",
       "         0.        ,  0.        ,  0.        ,  0.        ,  0.        ,\n",
       "         0.        , -0.        , -0.        ,  0.        , -0.        ,\n",
       "        -0.        ,  0.        ,  0.        ,  0.        ,  0.        ],\n",
       "       [ 0.        ,  0.        ,  0.        ,  0.        ,  0.        ,\n",
       "         0.        ,  0.        ,  0.        ,  0.        ,  0.        ,\n",
       "         0.        ,  0.        ,  0.        ,  0.        , -0.        ,\n",
       "         0.        ,  0.        ,  0.        ,  0.        ,  0.        ],\n",
       "       [ 0.        ,  0.        ,  0.        ,  0.        ,  0.        ,\n",
       "         0.        ,  0.        ,  0.        ,  0.        ,  0.        ,\n",
       "         0.        ,  0.        ,  0.        ,  0.        , -0.        ,\n",
       "         0.        ,  0.        ,  0.0304938 ,  0.        ,  0.        ],\n",
       "       [ 0.        ,  0.        ,  0.        ,  0.        ,  0.        ,\n",
       "         0.        ,  0.        ,  0.        ,  0.        ,  0.        ,\n",
       "         0.        ,  0.        ,  0.        ,  0.        , -0.        ,\n",
       "        -0.        ,  0.        ,  0.02025711,  0.03213868,  0.        ],\n",
       "       [ 0.        ,  0.        ,  0.        ,  0.        ,  0.        ,\n",
       "         0.        ,  0.        ,  0.        ,  0.        ,  0.        ,\n",
       "         0.        ,  0.        ,  0.        ,  0.        ,  0.        ,\n",
       "         0.        ,  0.0222002 ,  0.0382557 ,  0.05034688,  0.04856293],\n",
       "       [ 0.        ,  0.        ,  0.        ,  0.        ,  0.        ,\n",
       "         0.        ,  0.        ,  0.        ,  0.        ,  0.        ,\n",
       "         0.        ,  0.        ,  0.        ,  0.        ,  0.        ,\n",
       "         0.        ,  0.        ,  0.02786499,  0.03983516,  0.03806907],\n",
       "       [ 0.        ,  0.        ,  0.        ,  0.        ,  0.        ,\n",
       "         0.        ,  0.        ,  0.        ,  0.        ,  0.        ,\n",
       "         0.        ,  0.        ,  0.        ,  0.        ,  0.        ,\n",
       "         0.        ,  0.        ,  0.        ,  0.02753539,  0.02579019],\n",
       "       [ 0.        ,  0.        ,  0.        ,  0.        ,  0.        ,\n",
       "         0.        ,  0.        ,  0.        ,  0.        ,  0.        ,\n",
       "         0.        ,  0.        ,  0.        ,  0.        ,  0.        ,\n",
       "         0.        ,  0.        ,  0.        ,  0.        ,  0.        ],\n",
       "       [ 0.        ,  0.        ,  0.        ,  0.        ,  0.        ,\n",
       "         0.        ,  0.        ,  0.        ,  0.        ,  0.        ,\n",
       "         0.        ,  0.        ,  0.        ,  0.        ,  0.        ,\n",
       "         0.        ,  0.        ,  0.        ,  0.        , -0.        ],\n",
       "       [ 0.        ,  0.        ,  0.        ,  0.        ,  0.        ,\n",
       "         0.        ,  0.        ,  0.        ,  0.        ,  0.        ,\n",
       "         0.        ,  0.        ,  0.        ,  0.        ,  0.        ,\n",
       "         0.        ,  0.        ,  0.        ,  0.        ,  0.        ]])"
      ]
     },
     "execution_count": 111,
     "metadata": {},
     "output_type": "execute_result"
    }
   ],
   "source": [
    "# Limit to max_duration\n",
    "max_duration = 5\n",
    "dist_matrix = np.tril(dist_matrix, k=max_duration)\n",
    "\n",
    "# Remove lower triangle\n",
    "dist_matrix = np.triu(dist_matrix)\n",
    "\n",
    "dist_matrix"
   ]
  },
  {
   "cell_type": "code",
   "execution_count": 113,
   "id": "26bdc166",
   "metadata": {},
   "outputs": [
    {
     "data": {
      "text/plain": [
       "array([[ 0.        ,  0.        ,  0.        ,  0.        ,  0.        ,\n",
       "         0.        ,  0.        ,  0.        ,  0.        ,  0.        ,\n",
       "         0.        ,  0.        ,  0.        ,  0.        ,  0.        ,\n",
       "         0.        ,  0.        ,  0.        ,  0.        ,  0.        ],\n",
       "       [ 0.        ,  0.        , -0.        ,  0.        ,  0.        ,\n",
       "         0.        , -0.        ,  0.        ,  0.        ,  0.        ,\n",
       "         0.        ,  0.        ,  0.        ,  0.        ,  0.        ,\n",
       "         0.        ,  0.        ,  0.        ,  0.        ,  0.        ],\n",
       "       [ 0.        ,  0.        ,  0.        ,  0.        ,  0.        ,\n",
       "         0.        , -0.        , -0.        ,  0.        ,  0.        ,\n",
       "         0.        ,  0.        ,  0.        ,  0.        ,  0.        ,\n",
       "         0.        ,  0.        ,  0.        ,  0.        ,  0.        ],\n",
       "       [ 0.        ,  0.        ,  0.        ,  0.        , -0.        ,\n",
       "        -0.        , -0.        , -0.        , -0.        ,  0.        ,\n",
       "         0.        ,  0.        ,  0.        ,  0.        ,  0.        ,\n",
       "         0.        ,  0.        ,  0.        ,  0.        ,  0.        ],\n",
       "       [ 0.        ,  0.        ,  0.        ,  0.        ,  0.        ,\n",
       "         0.        , -0.        , -0.        , -0.        , -0.        ,\n",
       "         0.        ,  0.        ,  0.        ,  0.        ,  0.        ,\n",
       "         0.        ,  0.        ,  0.        ,  0.        ,  0.        ],\n",
       "       [ 0.        ,  0.        ,  0.        ,  0.        ,  0.        ,\n",
       "         0.        , -0.        , -0.        , -0.        , -0.        ,\n",
       "        -0.        ,  0.        ,  0.        ,  0.        ,  0.        ,\n",
       "         0.        ,  0.        ,  0.        ,  0.        ,  0.        ],\n",
       "       [ 0.        ,  0.        ,  0.        ,  0.        ,  0.        ,\n",
       "         0.        ,  0.        ,  0.        ,  0.        , -0.        ,\n",
       "         0.        ,  0.        ,  0.        ,  0.        ,  0.        ,\n",
       "         0.        ,  0.        ,  0.        ,  0.        ,  0.        ],\n",
       "       [ 0.        ,  0.        ,  0.        ,  0.        ,  0.        ,\n",
       "         0.        ,  0.        ,  0.        ,  0.        , -0.        ,\n",
       "         0.        ,  0.        ,  0.        ,  0.        ,  0.        ,\n",
       "         0.        ,  0.        ,  0.        ,  0.        ,  0.        ],\n",
       "       [ 0.        ,  0.        ,  0.        ,  0.        ,  0.        ,\n",
       "         0.        ,  0.        ,  0.        ,  0.        , -0.        ,\n",
       "         0.        , -0.        , -0.        ,  0.        ,  0.        ,\n",
       "         0.        ,  0.        ,  0.        ,  0.        ,  0.        ],\n",
       "       [ 0.        ,  0.        ,  0.        ,  0.        ,  0.        ,\n",
       "         0.        ,  0.        ,  0.        ,  0.        ,  0.        ,\n",
       "         0.        ,  0.        ,  0.        ,  0.02067594,  0.        ,\n",
       "         0.        ,  0.        ,  0.        ,  0.        ,  0.        ],\n",
       "       [ 0.        ,  0.        ,  0.        ,  0.        ,  0.        ,\n",
       "         0.        ,  0.        ,  0.        ,  0.        ,  0.        ,\n",
       "         0.        , -0.        , -0.        ,  0.        , -0.        ,\n",
       "        -0.        ,  0.        ,  0.        ,  0.        ,  0.        ],\n",
       "       [ 0.        ,  0.        ,  0.        ,  0.        ,  0.        ,\n",
       "         0.        ,  0.        ,  0.        ,  0.        ,  0.        ,\n",
       "         0.        ,  0.        ,  0.        ,  0.        , -0.        ,\n",
       "         0.        ,  0.        ,  0.        ,  0.        ,  0.        ],\n",
       "       [ 0.        ,  0.        ,  0.        ,  0.        ,  0.        ,\n",
       "         0.        ,  0.        ,  0.        ,  0.        ,  0.        ,\n",
       "         0.        ,  0.        ,  0.        ,  0.        , -0.        ,\n",
       "         0.        ,  0.        ,  0.        ,  0.        ,  0.        ],\n",
       "       [ 0.        ,  0.        ,  0.        ,  0.        ,  0.        ,\n",
       "         0.        ,  0.        ,  0.        ,  0.        ,  0.        ,\n",
       "         0.        ,  0.        ,  0.        ,  0.        , -0.        ,\n",
       "        -0.        ,  0.        ,  0.        ,  0.        ,  0.        ],\n",
       "       [ 0.        ,  0.        ,  0.        ,  0.        ,  0.        ,\n",
       "         0.        ,  0.        ,  0.        ,  0.        ,  0.        ,\n",
       "         0.        ,  0.        ,  0.        ,  0.        ,  0.        ,\n",
       "         0.        ,  0.        ,  0.        ,  0.05034688,  0.        ],\n",
       "       [ 0.        ,  0.        ,  0.        ,  0.        ,  0.        ,\n",
       "         0.        ,  0.        ,  0.        ,  0.        ,  0.        ,\n",
       "         0.        ,  0.        ,  0.        ,  0.        ,  0.        ,\n",
       "         0.        ,  0.        ,  0.        ,  0.        ,  0.        ],\n",
       "       [ 0.        ,  0.        ,  0.        ,  0.        ,  0.        ,\n",
       "         0.        ,  0.        ,  0.        ,  0.        ,  0.        ,\n",
       "         0.        ,  0.        ,  0.        ,  0.        ,  0.        ,\n",
       "         0.        ,  0.        ,  0.        ,  0.        ,  0.        ],\n",
       "       [ 0.        ,  0.        ,  0.        ,  0.        ,  0.        ,\n",
       "         0.        ,  0.        ,  0.        ,  0.        ,  0.        ,\n",
       "         0.        ,  0.        ,  0.        ,  0.        ,  0.        ,\n",
       "         0.        ,  0.        ,  0.        ,  0.        ,  0.        ],\n",
       "       [ 0.        ,  0.        ,  0.        ,  0.        ,  0.        ,\n",
       "         0.        ,  0.        ,  0.        ,  0.        ,  0.        ,\n",
       "         0.        ,  0.        ,  0.        ,  0.        ,  0.        ,\n",
       "         0.        ,  0.        ,  0.        ,  0.        , -0.        ],\n",
       "       [ 0.        ,  0.        ,  0.        ,  0.        ,  0.        ,\n",
       "         0.        ,  0.        ,  0.        ,  0.        ,  0.        ,\n",
       "         0.        ,  0.        ,  0.        ,  0.        ,  0.        ,\n",
       "         0.        ,  0.        ,  0.        ,  0.        ,  0.        ]])"
      ]
     },
     "execution_count": 113,
     "metadata": {},
     "output_type": "execute_result"
    }
   ],
   "source": [
    "# Scope using peak valley mask\n",
    "scoped_dist_matrix = peak_valley_mask*dist_matrix\n",
    "scoped_dist_matrix"
   ]
  },
  {
   "cell_type": "code",
   "execution_count": 114,
   "id": "24863e13",
   "metadata": {},
   "outputs": [
    {
     "data": {
      "text/plain": [
       "(array([ 9, 14]), array([13, 18]))"
      ]
     },
     "execution_count": 114,
     "metadata": {},
     "output_type": "execute_result"
    }
   ],
   "source": [
    "# Get idx for non zero distances\n",
    "v, p = np.where(scoped_dist_matrix > 0)\n",
    "v, p"
   ]
  },
  {
   "cell_type": "code",
   "execution_count": 134,
   "id": "c134d638",
   "metadata": {},
   "outputs": [
    {
     "data": {
      "text/html": [
       "<div>\n",
       "<style scoped>\n",
       "    .dataframe tbody tr th:only-of-type {\n",
       "        vertical-align: middle;\n",
       "    }\n",
       "\n",
       "    .dataframe tbody tr th {\n",
       "        vertical-align: top;\n",
       "    }\n",
       "\n",
       "    .dataframe thead th {\n",
       "        text-align: right;\n",
       "    }\n",
       "</style>\n",
       "<table border=\"1\" class=\"dataframe\">\n",
       "  <thead>\n",
       "    <tr style=\"text-align: right;\">\n",
       "      <th></th>\n",
       "      <th>close</th>\n",
       "      <th>&amp;long_entry</th>\n",
       "      <th>&amp;long_exit</th>\n",
       "      <th>&amp;fake_long_entry</th>\n",
       "      <th>&amp;fake_long_exit</th>\n",
       "    </tr>\n",
       "  </thead>\n",
       "  <tbody>\n",
       "    <tr>\n",
       "      <th>0</th>\n",
       "      <td>503.1</td>\n",
       "      <td>No</td>\n",
       "      <td>No</td>\n",
       "      <td>No</td>\n",
       "      <td>No</td>\n",
       "    </tr>\n",
       "    <tr>\n",
       "      <th>1</th>\n",
       "      <td>509.2</td>\n",
       "      <td>No</td>\n",
       "      <td>No</td>\n",
       "      <td>No</td>\n",
       "      <td>Yes</td>\n",
       "    </tr>\n",
       "    <tr>\n",
       "      <th>2</th>\n",
       "      <td>507.3</td>\n",
       "      <td>No</td>\n",
       "      <td>No</td>\n",
       "      <td>Yes</td>\n",
       "      <td>No</td>\n",
       "    </tr>\n",
       "    <tr>\n",
       "      <th>3</th>\n",
       "      <td>514.4</td>\n",
       "      <td>No</td>\n",
       "      <td>No</td>\n",
       "      <td>No</td>\n",
       "      <td>Yes</td>\n",
       "    </tr>\n",
       "    <tr>\n",
       "      <th>4</th>\n",
       "      <td>512.5</td>\n",
       "      <td>No</td>\n",
       "      <td>No</td>\n",
       "      <td>Yes</td>\n",
       "      <td>No</td>\n",
       "    </tr>\n",
       "    <tr>\n",
       "      <th>5</th>\n",
       "      <td>512.6</td>\n",
       "      <td>No</td>\n",
       "      <td>No</td>\n",
       "      <td>No</td>\n",
       "      <td>Yes</td>\n",
       "    </tr>\n",
       "    <tr>\n",
       "      <th>6</th>\n",
       "      <td>503.7</td>\n",
       "      <td>No</td>\n",
       "      <td>No</td>\n",
       "      <td>Yes</td>\n",
       "      <td>No</td>\n",
       "    </tr>\n",
       "    <tr>\n",
       "      <th>7</th>\n",
       "      <td>506.8</td>\n",
       "      <td>No</td>\n",
       "      <td>No</td>\n",
       "      <td>No</td>\n",
       "      <td>No</td>\n",
       "    </tr>\n",
       "    <tr>\n",
       "      <th>8</th>\n",
       "      <td>510.9</td>\n",
       "      <td>No</td>\n",
       "      <td>No</td>\n",
       "      <td>No</td>\n",
       "      <td>Yes</td>\n",
       "    </tr>\n",
       "    <tr>\n",
       "      <th>9</th>\n",
       "      <td>503.0</td>\n",
       "      <td>Yes</td>\n",
       "      <td>No</td>\n",
       "      <td>No</td>\n",
       "      <td>No</td>\n",
       "    </tr>\n",
       "    <tr>\n",
       "      <th>10</th>\n",
       "      <td>512.1</td>\n",
       "      <td>No</td>\n",
       "      <td>No</td>\n",
       "      <td>No</td>\n",
       "      <td>Yes</td>\n",
       "    </tr>\n",
       "    <tr>\n",
       "      <th>11</th>\n",
       "      <td>508.2</td>\n",
       "      <td>No</td>\n",
       "      <td>No</td>\n",
       "      <td>Yes</td>\n",
       "      <td>No</td>\n",
       "    </tr>\n",
       "    <tr>\n",
       "      <th>12</th>\n",
       "      <td>508.3</td>\n",
       "      <td>No</td>\n",
       "      <td>No</td>\n",
       "      <td>No</td>\n",
       "      <td>No</td>\n",
       "    </tr>\n",
       "    <tr>\n",
       "      <th>13</th>\n",
       "      <td>513.4</td>\n",
       "      <td>No</td>\n",
       "      <td>Yes</td>\n",
       "      <td>No</td>\n",
       "      <td>No</td>\n",
       "    </tr>\n",
       "    <tr>\n",
       "      <th>14</th>\n",
       "      <td>504.5</td>\n",
       "      <td>Yes</td>\n",
       "      <td>No</td>\n",
       "      <td>No</td>\n",
       "      <td>No</td>\n",
       "    </tr>\n",
       "    <tr>\n",
       "      <th>15</th>\n",
       "      <td>509.6</td>\n",
       "      <td>No</td>\n",
       "      <td>No</td>\n",
       "      <td>No</td>\n",
       "      <td>No</td>\n",
       "    </tr>\n",
       "    <tr>\n",
       "      <th>16</th>\n",
       "      <td>515.7</td>\n",
       "      <td>No</td>\n",
       "      <td>No</td>\n",
       "      <td>No</td>\n",
       "      <td>No</td>\n",
       "    </tr>\n",
       "    <tr>\n",
       "      <th>17</th>\n",
       "      <td>523.8</td>\n",
       "      <td>No</td>\n",
       "      <td>No</td>\n",
       "      <td>No</td>\n",
       "      <td>No</td>\n",
       "    </tr>\n",
       "    <tr>\n",
       "      <th>18</th>\n",
       "      <td>529.9</td>\n",
       "      <td>No</td>\n",
       "      <td>Yes</td>\n",
       "      <td>No</td>\n",
       "      <td>No</td>\n",
       "    </tr>\n",
       "    <tr>\n",
       "      <th>19</th>\n",
       "      <td>529.0</td>\n",
       "      <td>No</td>\n",
       "      <td>No</td>\n",
       "      <td>No</td>\n",
       "      <td>No</td>\n",
       "    </tr>\n",
       "  </tbody>\n",
       "</table>\n",
       "</div>"
      ],
      "text/plain": [
       "    close &long_entry &long_exit &fake_long_entry &fake_long_exit\n",
       "0   503.1          No         No               No              No\n",
       "1   509.2          No         No               No             Yes\n",
       "2   507.3          No         No              Yes              No\n",
       "3   514.4          No         No               No             Yes\n",
       "4   512.5          No         No              Yes              No\n",
       "5   512.6          No         No               No             Yes\n",
       "6   503.7          No         No              Yes              No\n",
       "7   506.8          No         No               No              No\n",
       "8   510.9          No         No               No             Yes\n",
       "9   503.0         Yes         No               No              No\n",
       "10  512.1          No         No               No             Yes\n",
       "11  508.2          No         No              Yes              No\n",
       "12  508.3          No         No               No              No\n",
       "13  513.4          No        Yes               No              No\n",
       "14  504.5         Yes         No               No              No\n",
       "15  509.6          No         No               No              No\n",
       "16  515.7          No         No               No              No\n",
       "17  523.8          No         No               No              No\n",
       "18  529.9          No        Yes               No              No\n",
       "19  529.0          No         No               No              No"
      ]
     },
     "execution_count": 134,
     "metadata": {},
     "output_type": "execute_result"
    }
   ],
   "source": [
    "df = pd.DataFrame(close, columns=[\"close\"])\n",
    "df[[\"&long_entry\", \"&long_exit\", \"&fake_long_entry\", \"&fake_long_exit\"]] = \"No\"\n",
    "\n",
    "# Long Entries\n",
    "df.loc[[i for i in valley_idx if i not in v], \"&fake_long_entry\"] = \"Yes\"\n",
    "df.loc[v, \"&long_entry\"] = \"Yes\"\n",
    "\n",
    "# Long Exits\n",
    "df.loc[[i for i in peak_idx if i not in p], \"&fake_long_exit\"] = \"Yes\"\n",
    "df.loc[p, \"&long_exit\"] = \"Yes\"\n",
    "\n",
    "df"
   ]
  },
  {
   "cell_type": "code",
   "execution_count": 117,
   "id": "ce5f2f5b",
   "metadata": {},
   "outputs": [
    {
     "data": {
      "text/plain": [
       "[<matplotlib.lines.Line2D at 0x169ed4640>]"
      ]
     },
     "execution_count": 117,
     "metadata": {},
     "output_type": "execute_result"
    },
    {
     "data": {
      "image/png": "[encoded data removed]",
      "text/plain": [
       "<Figure size 432x288 with 1 Axes>"
      ]
     },
     "metadata": {
      "needs_background": "light"
     },
     "output_type": "display_data"
    }
   ],
   "source": [
    "# Check we're on track\n",
    "plt.plot(valley_mask*close)\n",
    "plt.plot(peak_mask*close)\n",
    "plt.plot(close)"
   ]
  },
  {
   "cell_type": "code",
   "execution_count": 141,
   "id": "7a17bd6f",
   "metadata": {},
   "outputs": [
    {
     "data": {
      "text/html": [
       "<div>\n",
       "<style scoped>\n",
       "    .dataframe tbody tr th:only-of-type {\n",
       "        vertical-align: middle;\n",
       "    }\n",
       "\n",
       "    .dataframe tbody tr th {\n",
       "        vertical-align: top;\n",
       "    }\n",
       "\n",
       "    .dataframe thead th {\n",
       "        text-align: right;\n",
       "    }\n",
       "</style>\n",
       "<table border=\"1\" class=\"dataframe\">\n",
       "  <thead>\n",
       "    <tr style=\"text-align: right;\">\n",
       "      <th></th>\n",
       "      <th>close</th>\n",
       "    </tr>\n",
       "  </thead>\n",
       "  <tbody>\n",
       "    <tr>\n",
       "      <th>0</th>\n",
       "      <td>251.55</td>\n",
       "    </tr>\n",
       "    <tr>\n",
       "      <th>1</th>\n",
       "      <td>254.60</td>\n",
       "    </tr>\n",
       "    <tr>\n",
       "      <th>2</th>\n",
       "      <td>253.65</td>\n",
       "    </tr>\n",
       "    <tr>\n",
       "      <th>3</th>\n",
       "      <td>257.20</td>\n",
       "    </tr>\n",
       "    <tr>\n",
       "      <th>4</th>\n",
       "      <td>256.25</td>\n",
       "    </tr>\n",
       "    <tr>\n",
       "      <th>5</th>\n",
       "      <td>256.30</td>\n",
       "    </tr>\n",
       "    <tr>\n",
       "      <th>6</th>\n",
       "      <td>251.85</td>\n",
       "    </tr>\n",
       "    <tr>\n",
       "      <th>7</th>\n",
       "      <td>253.40</td>\n",
       "    </tr>\n",
       "    <tr>\n",
       "      <th>8</th>\n",
       "      <td>255.45</td>\n",
       "    </tr>\n",
       "    <tr>\n",
       "      <th>9</th>\n",
       "      <td>251.50</td>\n",
       "    </tr>\n",
       "    <tr>\n",
       "      <th>10</th>\n",
       "      <td>256.05</td>\n",
       "    </tr>\n",
       "    <tr>\n",
       "      <th>11</th>\n",
       "      <td>254.10</td>\n",
       "    </tr>\n",
       "    <tr>\n",
       "      <th>12</th>\n",
       "      <td>254.15</td>\n",
       "    </tr>\n",
       "    <tr>\n",
       "      <th>13</th>\n",
       "      <td>256.70</td>\n",
       "    </tr>\n",
       "    <tr>\n",
       "      <th>14</th>\n",
       "      <td>252.25</td>\n",
       "    </tr>\n",
       "    <tr>\n",
       "      <th>15</th>\n",
       "      <td>254.80</td>\n",
       "    </tr>\n",
       "    <tr>\n",
       "      <th>16</th>\n",
       "      <td>257.85</td>\n",
       "    </tr>\n",
       "    <tr>\n",
       "      <th>17</th>\n",
       "      <td>261.90</td>\n",
       "    </tr>\n",
       "    <tr>\n",
       "      <th>18</th>\n",
       "      <td>264.95</td>\n",
       "    </tr>\n",
       "    <tr>\n",
       "      <th>19</th>\n",
       "      <td>264.50</td>\n",
       "    </tr>\n",
       "  </tbody>\n",
       "</table>\n",
       "</div>"
      ],
      "text/plain": [
       "     close\n",
       "0   251.55\n",
       "1   254.60\n",
       "2   253.65\n",
       "3   257.20\n",
       "4   256.25\n",
       "5   256.30\n",
       "6   251.85\n",
       "7   253.40\n",
       "8   255.45\n",
       "9   251.50\n",
       "10  256.05\n",
       "11  254.10\n",
       "12  254.15\n",
       "13  256.70\n",
       "14  252.25\n",
       "15  254.80\n",
       "16  257.85\n",
       "17  261.90\n",
       "18  264.95\n",
       "19  264.50"
      ]
     },
     "execution_count": 141,
     "metadata": {},
     "output_type": "execute_result"
    }
   ],
   "source": [
    "test_df = pd.DataFrame(close, columns=[\"close\"])\n",
    "\n",
    "def test(df):\n",
    "    return df/2\n",
    "\n",
    "test_df[[\"close\"]].apply(test)"
   ]
  },
  {
   "cell_type": "markdown",
   "id": "e0747997",
   "metadata": {},
   "source": [
    "### Old way"
   ]
  },
  {
   "cell_type": "code",
   "execution_count": 131,
   "id": "b3a6fb8f",
   "metadata": {},
   "outputs": [
    {
     "data": {
      "text/html": [
       "<div>\n",
       "<style scoped>\n",
       "    .dataframe tbody tr th:only-of-type {\n",
       "        vertical-align: middle;\n",
       "    }\n",
       "\n",
       "    .dataframe tbody tr th {\n",
       "        vertical-align: top;\n",
       "    }\n",
       "\n",
       "    .dataframe thead th {\n",
       "        text-align: right;\n",
       "    }\n",
       "</style>\n",
       "<table border=\"1\" class=\"dataframe\">\n",
       "  <thead>\n",
       "    <tr style=\"text-align: right;\">\n",
       "      <th></th>\n",
       "      <th>close</th>\n",
       "      <th>&amp;long_entry</th>\n",
       "      <th>&amp;long_exit</th>\n",
       "      <th>&amp;fake_long_entry</th>\n",
       "      <th>&amp;fake_long_exit</th>\n",
       "      <th>&amp;long_exist</th>\n",
       "    </tr>\n",
       "  </thead>\n",
       "  <tbody>\n",
       "    <tr>\n",
       "      <th>0</th>\n",
       "      <td>503.1</td>\n",
       "      <td>No</td>\n",
       "      <td>No</td>\n",
       "      <td>No</td>\n",
       "      <td>No</td>\n",
       "      <td>NaN</td>\n",
       "    </tr>\n",
       "    <tr>\n",
       "      <th>1</th>\n",
       "      <td>509.2</td>\n",
       "      <td>No</td>\n",
       "      <td>No</td>\n",
       "      <td>No</td>\n",
       "      <td>No</td>\n",
       "      <td>NaN</td>\n",
       "    </tr>\n",
       "    <tr>\n",
       "      <th>2</th>\n",
       "      <td>507.3</td>\n",
       "      <td>No</td>\n",
       "      <td>No</td>\n",
       "      <td>No</td>\n",
       "      <td>No</td>\n",
       "      <td>NaN</td>\n",
       "    </tr>\n",
       "    <tr>\n",
       "      <th>3</th>\n",
       "      <td>514.4</td>\n",
       "      <td>No</td>\n",
       "      <td>No</td>\n",
       "      <td>No</td>\n",
       "      <td>No</td>\n",
       "      <td>NaN</td>\n",
       "    </tr>\n",
       "    <tr>\n",
       "      <th>4</th>\n",
       "      <td>512.5</td>\n",
       "      <td>No</td>\n",
       "      <td>No</td>\n",
       "      <td>No</td>\n",
       "      <td>No</td>\n",
       "      <td>NaN</td>\n",
       "    </tr>\n",
       "    <tr>\n",
       "      <th>5</th>\n",
       "      <td>512.6</td>\n",
       "      <td>No</td>\n",
       "      <td>No</td>\n",
       "      <td>No</td>\n",
       "      <td>No</td>\n",
       "      <td>NaN</td>\n",
       "    </tr>\n",
       "    <tr>\n",
       "      <th>6</th>\n",
       "      <td>503.7</td>\n",
       "      <td>No</td>\n",
       "      <td>No</td>\n",
       "      <td>No</td>\n",
       "      <td>No</td>\n",
       "      <td>NaN</td>\n",
       "    </tr>\n",
       "    <tr>\n",
       "      <th>7</th>\n",
       "      <td>506.8</td>\n",
       "      <td>No</td>\n",
       "      <td>No</td>\n",
       "      <td>No</td>\n",
       "      <td>No</td>\n",
       "      <td>NaN</td>\n",
       "    </tr>\n",
       "    <tr>\n",
       "      <th>8</th>\n",
       "      <td>510.9</td>\n",
       "      <td>No</td>\n",
       "      <td>No</td>\n",
       "      <td>No</td>\n",
       "      <td>No</td>\n",
       "      <td>NaN</td>\n",
       "    </tr>\n",
       "    <tr>\n",
       "      <th>9</th>\n",
       "      <td>503.0</td>\n",
       "      <td>Yes</td>\n",
       "      <td>No</td>\n",
       "      <td>No</td>\n",
       "      <td>No</td>\n",
       "      <td>NaN</td>\n",
       "    </tr>\n",
       "    <tr>\n",
       "      <th>10</th>\n",
       "      <td>512.1</td>\n",
       "      <td>No</td>\n",
       "      <td>No</td>\n",
       "      <td>No</td>\n",
       "      <td>No</td>\n",
       "      <td>NaN</td>\n",
       "    </tr>\n",
       "    <tr>\n",
       "      <th>11</th>\n",
       "      <td>508.2</td>\n",
       "      <td>No</td>\n",
       "      <td>No</td>\n",
       "      <td>No</td>\n",
       "      <td>No</td>\n",
       "      <td>NaN</td>\n",
       "    </tr>\n",
       "    <tr>\n",
       "      <th>12</th>\n",
       "      <td>508.3</td>\n",
       "      <td>No</td>\n",
       "      <td>No</td>\n",
       "      <td>No</td>\n",
       "      <td>No</td>\n",
       "      <td>NaN</td>\n",
       "    </tr>\n",
       "    <tr>\n",
       "      <th>13</th>\n",
       "      <td>513.4</td>\n",
       "      <td>No</td>\n",
       "      <td>No</td>\n",
       "      <td>No</td>\n",
       "      <td>No</td>\n",
       "      <td>Yes</td>\n",
       "    </tr>\n",
       "    <tr>\n",
       "      <th>14</th>\n",
       "      <td>504.5</td>\n",
       "      <td>Yes</td>\n",
       "      <td>No</td>\n",
       "      <td>No</td>\n",
       "      <td>No</td>\n",
       "      <td>NaN</td>\n",
       "    </tr>\n",
       "    <tr>\n",
       "      <th>15</th>\n",
       "      <td>509.6</td>\n",
       "      <td>No</td>\n",
       "      <td>No</td>\n",
       "      <td>No</td>\n",
       "      <td>No</td>\n",
       "      <td>NaN</td>\n",
       "    </tr>\n",
       "    <tr>\n",
       "      <th>16</th>\n",
       "      <td>515.7</td>\n",
       "      <td>No</td>\n",
       "      <td>No</td>\n",
       "      <td>No</td>\n",
       "      <td>No</td>\n",
       "      <td>NaN</td>\n",
       "    </tr>\n",
       "    <tr>\n",
       "      <th>17</th>\n",
       "      <td>523.8</td>\n",
       "      <td>No</td>\n",
       "      <td>No</td>\n",
       "      <td>No</td>\n",
       "      <td>No</td>\n",
       "      <td>NaN</td>\n",
       "    </tr>\n",
       "    <tr>\n",
       "      <th>18</th>\n",
       "      <td>529.9</td>\n",
       "      <td>No</td>\n",
       "      <td>No</td>\n",
       "      <td>No</td>\n",
       "      <td>No</td>\n",
       "      <td>Yes</td>\n",
       "    </tr>\n",
       "    <tr>\n",
       "      <th>19</th>\n",
       "      <td>529.0</td>\n",
       "      <td>No</td>\n",
       "      <td>No</td>\n",
       "      <td>No</td>\n",
       "      <td>No</td>\n",
       "      <td>NaN</td>\n",
       "    </tr>\n",
       "  </tbody>\n",
       "</table>\n",
       "</div>"
      ],
      "text/plain": [
       "    close &long_entry &long_exit &fake_long_entry &fake_long_exit &long_exist\n",
       "0   503.1          No         No               No              No         NaN\n",
       "1   509.2          No         No               No              No         NaN\n",
       "2   507.3          No         No               No              No         NaN\n",
       "3   514.4          No         No               No              No         NaN\n",
       "4   512.5          No         No               No              No         NaN\n",
       "5   512.6          No         No               No              No         NaN\n",
       "6   503.7          No         No               No              No         NaN\n",
       "7   506.8          No         No               No              No         NaN\n",
       "8   510.9          No         No               No              No         NaN\n",
       "9   503.0         Yes         No               No              No         NaN\n",
       "10  512.1          No         No               No              No         NaN\n",
       "11  508.2          No         No               No              No         NaN\n",
       "12  508.3          No         No               No              No         NaN\n",
       "13  513.4          No         No               No              No         Yes\n",
       "14  504.5         Yes         No               No              No         NaN\n",
       "15  509.6          No         No               No              No         NaN\n",
       "16  515.7          No         No               No              No         NaN\n",
       "17  523.8          No         No               No              No         NaN\n",
       "18  529.9          No         No               No              No         Yes\n",
       "19  529.0          No         No               No              No         NaN"
      ]
     },
     "execution_count": 131,
     "metadata": {},
     "output_type": "execute_result"
    }
   ],
   "source": []
  },
  {
   "cell_type": "code",
   "execution_count": null,
   "id": "28637b90",
   "metadata": {},
   "outputs": [],
   "source": [
    "close = 500 + np.cumsum(0.1 + np.random.randint(-10, 10, 30))\n",
    "peak_idx = find_peaks(close)[0]\n",
    "valley_idx = find_peaks(-close)[0]\n",
    "\n",
    "plt.figure(figsize=(20,7))\n",
    "plt.plot(close)\n",
    "plt.bar(peak_idx, close[peak_idx], color=\"red\", alpha=0.2)\n",
    "plt.bar(valley_idx, close[valley_idx], color=\"green\", alpha=0.2)"
   ]
  },
  {
   "cell_type": "code",
   "execution_count": null,
   "id": "649229c0",
   "metadata": {},
   "outputs": [],
   "source": [
    "# Ensure no peak before valley\n",
    "print(peak_idx, valley_idx)\n",
    "\n",
    "peak_idx = np.array([i for i in peak_idx if i > valley_idx.min()])\n",
    "print(peak_idx)"
   ]
  },
  {
   "cell_type": "code",
   "execution_count": null,
   "id": "24bd8488",
   "metadata": {},
   "outputs": [],
   "source": [
    "def cdist_growth(a, b):\n",
    "    diff = b - a\n",
    "    return np.divide(diff, a)\n",
    "\n",
    "dist = cdist(close[valley_idx].reshape(-1, 1), close[peak_idx].reshape(-1, 1), metric=cdist_growth)\n",
    "dist"
   ]
  },
  {
   "cell_type": "code",
   "execution_count": null,
   "id": "c9f65ff3",
   "metadata": {},
   "outputs": [],
   "source": [
    "# Subtract min_threshold and go to upper triangle\n",
    "min_threshold = 0.02\n",
    "dist = dist - min_threshold\n",
    "dist = np.triu(dist, k=0)\n",
    "dist"
   ]
  },
  {
   "cell_type": "code",
   "execution_count": null,
   "id": "bf214a76",
   "metadata": {},
   "outputs": [],
   "source": [
    "# Compute index distance\n",
    "def simple_distance(a, b):\n",
    "    diff = b - a\n",
    "    return diff\n",
    "\n",
    "idx_dist = cdist(valley_idx.reshape(-1, 1), peak_idx.reshape(-1, 1), metric=simple_distance)\n",
    "idx_dist = np.triu(idx_dist, k=0)\n",
    "idx_dist"
   ]
  },
  {
   "cell_type": "code",
   "execution_count": null,
   "id": "b75f945f",
   "metadata": {},
   "outputs": [],
   "source": [
    "# Check min_distance and set to zero\n",
    "min_distance = 5\n",
    "idx_dist = idx_dist*(idx_dist < min_distance)\n",
    "idx_dist"
   ]
  },
  {
   "cell_type": "code",
   "execution_count": null,
   "id": "38157f1c",
   "metadata": {},
   "outputs": [],
   "source": [
    "# Reduce distance matrix to values where idx_dist is > 0\n",
    "# What below means.\n",
    "# All zero values are \"fake_entries\" and \"fake_exists\"\n",
    "# Non zero are good \"entries\" and \"exists\"\n",
    "# Cleanup needed to ensure \"good\" trumps \"fake\"\n",
    "\n",
    "dist = dist*(idx_dist > 0)*(dist > 0)\n",
    "dist"
   ]
  },
  {
   "cell_type": "code",
   "execution_count": null,
   "id": "0afe0a1c",
   "metadata": {},
   "outputs": [],
   "source": [
    "(1000*dist).astype(int)"
   ]
  },
  {
   "cell_type": "code",
   "execution_count": null,
   "id": "25393447",
   "metadata": {},
   "outputs": [],
   "source": [
    "p, v = np.where(dist > 0)\n",
    "v, p"
   ]
  },
  {
   "cell_type": "code",
   "execution_count": null,
   "id": "e8286c03",
   "metadata": {},
   "outputs": [],
   "source": [
    "valley_idx[v], peak_idx[p]"
   ]
  },
  {
   "cell_type": "code",
   "execution_count": null,
   "id": "70dbf30e",
   "metadata": {},
   "outputs": [],
   "source": [
    "valley_idx, peak_idx"
   ]
  },
  {
   "cell_type": "code",
   "execution_count": null,
   "id": "b194fd8c",
   "metadata": {},
   "outputs": [],
   "source": [
    "plt.figure(figsize=(20,7))\n",
    "plt.plot(close)\n",
    "plt.bar(peak_idx, close[peak_idx], color=\"red\", alpha=0.2)\n",
    "plt.bar(valley_idx, close[valley_idx], color=\"green\", alpha=0.2)"
   ]
  },
  {
   "cell_type": "code",
   "execution_count": 319,
   "id": "d6229e86",
   "metadata": {},
   "outputs": [
    {
     "data": {
      "text/plain": [
       "(array([3, 8]), array([2, 7]))"
      ]
     },
     "execution_count": 319,
     "metadata": {},
     "output_type": "execute_result"
    }
   ],
   "source": [
    "peak_idx, valley_idx"
   ]
  },
  {
   "cell_type": "code",
   "execution_count": null,
   "id": "1dc21811",
   "metadata": {},
   "outputs": [],
   "source": [
    "# Need to access idx where growth is above min_threshold\n",
    "for i, row in enumerate(dist):\n",
    "    for j, value in enumerate(row):\n",
    "        print(valley_idx[i], peak_idx[j], value)"
   ]
  },
  {
   "cell_type": "code",
   "execution_count": null,
   "id": "ef737477",
   "metadata": {},
   "outputs": [],
   "source": [
    "max_peaks = argrelextrema(df[\"close\"].values, lambda a, b: a < b, order=15)[0]\n",
    "min_peaks = argrelextrema(df[\"close\"].values, lambda a, b: a > b, order=15)[0]\n",
    "\n",
    "df[\"maxima\"] = 0\n",
    "df.loc[max_peaks, \"maxima\"] = 1\n",
    "\n",
    "df[\"minima\"] = 0\n",
    "df.loc[min_peaks, \"minima\"] = 1\n",
    "\n",
    "df[\"close\"].plot(figsize=(20,8))\n",
    "df[\"maxima\"].plot(secondary_y=True)\n",
    "df[\"minima\"].plot(secondary_y=True)"
   ]
  },
  {
   "cell_type": "code",
   "execution_count": null,
   "id": "0c64458e",
   "metadata": {},
   "outputs": [],
   "source": [
    "df[df[\"minima\"].isin([1, 2])]"
   ]
  },
  {
   "cell_type": "code",
   "execution_count": null,
   "id": "0a8b72b0",
   "metadata": {},
   "outputs": [],
   "source": [
    "df[180:300][\"close\"].plot(figsize=(20,8))\n",
    "df[180:300][\"maxima\"].plot(secondary_y=True)\n",
    "df[180:300][\"minima\"].plot(secondary_y=True)\n",
    "df[180:300][\"smeared-maxima\"].plot(secondary_y=True)"
   ]
  },
  {
   "cell_type": "code",
   "execution_count": null,
   "id": "f07dc217",
   "metadata": {},
   "outputs": [],
   "source": [
    "from scipy.signal import find_peaks\n",
    "df = pd.DataFrame(1000 + np.cumsum(0.1 + np.random.randint(-10, 10, 100)), columns=['close'])"
   ]
  },
  {
   "cell_type": "code",
   "execution_count": 359,
   "id": "f4452dd3",
   "metadata": {},
   "outputs": [
    {
     "data": {
      "text/plain": [
       "array([[0.00226244, 0.0088441 , 0.01768819],\n",
       "       [0.        , 0.00842928, 0.01726974],\n",
       "       [0.        , 0.        , 0.02527973]])"
      ]
     },
     "execution_count": 359,
     "metadata": {},
     "output_type": "execute_result"
    }
   ],
   "source": [
    "np.triu(dist, k=0)"
   ]
  },
  {
   "cell_type": "code",
   "execution_count": null,
   "id": "f7ba0253",
   "metadata": {},
   "outputs": [],
   "source": [
    "def find_peak_valley(df, min_threshold, min_distance):\n",
    "    \n",
    "    df = df.copy()\n",
    "    peak = find_peaks(df)[0]\n",
    "    valley = find_peaks(-df)[0]\n",
    "    \n",
    "    df[\"long_exit\"] = 0\n",
    "    df[\"long_entry\"] = 0\n",
    "    df[\"fake_long_exit\"] = 0\n",
    "    df[\"fake_long_entry\"] = 0\n",
    "    df.loc[valley, \"fake_long_entry\"] = 1\n",
    "    \n",
    "    for i, v in df.loc[valley, :].iterrows():\n",
    "        for j, p in df.loc[peak, :].iterrows():\n",
    "            v_value = valleys.loc[i][\"close\"]\n",
    "            p_value = peaks.loc[j][\"close\"]\n",
    "            if j < i:\n",
    "                print(f\"Wrong order: {i}, {j}\")\n",
    "                continue\n",
    "            elif j - i > min_distance:\n",
    "                print(f\"min distance exceeded {j - i}\")\n",
    "                break\n",
    "            elif (p_value - v_value) / v_value > min_threshold:\n",
    "                print(f\"threshold exceeded: {v_value}, {p_value}\")\n",
    "                df.loc[i, \"long_entry\"] = 1\n",
    "                df.loc[i, \"fake_long_entry\"] = 0\n",
    "                df.loc[j, \"long_exit\"] = 1\n",
    "                break\n",
    "            else:\n",
    "                print(f\"Insufficient peak found: {v_value}, {p_value}\")\n",
    "                df.loc[j, \"fake_long_exit\"] = 1\n",
    "\n",
    "    # Ensure no conflicting labels\n",
    "    df.loc[df[\"long_exit\"] == 1, \"fake_long_exit\"] = 0\n",
    "    \n",
    "df.apply(find_peak_valley, min_threshold=0.2, min_distance=10)"
   ]
  },
  {
   "cell_type": "code",
   "execution_count": null,
   "id": "7bba4d3f",
   "metadata": {},
   "outputs": [],
   "source": [
    "df"
   ]
  },
  {
   "cell_type": "code",
   "execution_count": null,
   "id": "b3362cb6",
   "metadata": {},
   "outputs": [],
   "source": [
    "min_distance = 10\n",
    "min_threshold = 0.02\n",
    "\n",
    "peak = find_peaks(df[\"close\"].values)[0]\n",
    "valley = find_peaks(-df[\"close\"].values)[0]\n",
    "\n",
    "df[\"long_exit\"] = 0\n",
    "df[\"long_entry\"] = 0\n",
    "df[\"fake_long_exit\"] = 0\n",
    "df[\"fake_long_entry\"] = 0\n",
    "df.loc[valley, \"fake_long_entry\"] = 1\n",
    "\n",
    "df[\"peak\"] = 0\n",
    "df.loc[peak, \"peak\"] = 1\n",
    "df[\"valley\"] = 0\n",
    "df.loc[valley, \"valley\"] = 1"
   ]
  },
  {
   "cell_type": "code",
   "execution_count": null,
   "id": "418fe823",
   "metadata": {},
   "outputs": [],
   "source": [
    "# Find all peaks within min_distance\n",
    "peaks = df[df[\"peak\"] == 1]\n",
    "valleys = df[df[\"valley\"] == 1]\n",
    "print(peaks.shape)\n",
    "valleys.shape\n",
    "\n",
    "for i, v in valleys.iterrows():\n",
    "    for j, p in peaks.iterrows():\n",
    "        v_value = valleys.loc[i][\"close\"]\n",
    "        p_value = peaks.loc[j][\"close\"]\n",
    "        if j < i:\n",
    "            print(f\"Wrong order: {i}, {j}\")\n",
    "            continue\n",
    "        elif j - i > min_distance:\n",
    "            print(f\"min distance exceeded {j - i}\")\n",
    "            break\n",
    "        elif (p_value - v_value) / v_value > min_threshold:\n",
    "            print(f\"threshold exceeded: {v_value}, {p_value}\")\n",
    "            df.loc[i, \"long_entry\"] = 1\n",
    "            df.loc[i, \"fake_long_entry\"] = 0\n",
    "            df.loc[j, \"long_exit\"] = 1\n",
    "            break\n",
    "        else:\n",
    "            print(f\"Insufficient peak found: {v_value}, {p_value}\")\n",
    "            df.loc[j, \"fake_long_exit\"] = 1\n",
    "\n",
    "# Ensure no conflicting labels\n",
    "df.loc[df[\"long_exit\"] == 1, \"fake_long_exit\"] = 0"
   ]
  },
  {
   "cell_type": "code",
   "execution_count": null,
   "id": "a07b1825",
   "metadata": {
    "scrolled": false
   },
   "outputs": [],
   "source": [
    "df[\"close\"].plot(figsize=(20,8))\n",
    "df[\"long_entry\"].plot(secondary_y=True, kind=\"bar\", color=\"green\", alpha=0.2)\n",
    "df[\"long_exit\"].plot(secondary_y=True, kind=\"bar\", color=\"green\", alpha=0.2)\n",
    "df[\"fake_long_entry\"].plot(secondary_y=True, kind=\"bar\", color=\"red\", alpha=0.2)\n",
    "df[\"fake_long_exit\"].plot(secondary_y=True, kind=\"bar\", color=\"red\", alpha=0.2)"
   ]
  },
  {
   "cell_type": "code",
   "execution_count": null,
   "id": "cdb0624d",
   "metadata": {},
   "outputs": [],
   "source": [
    "df = pd.DataFrame(1000 + np.cumsum(0.1 + np.random.randint(-10, 10, 10000)), columns=['close'])\n",
    "\n",
    "# Find all good entries and exits for longs\n",
    "min_distance = 10\n",
    "min_threshold = 0.02\n",
    "\n",
    "peak = find_peaks(df[\"close\"].values)[0]\n",
    "valley = find_peaks(-df[\"close\"].values)[0]\n",
    "print(peak.shape)\n",
    "print(valley.shape)\n",
    "\n",
    "df[\"&long_exit\"] = \"No\"\n",
    "df[\"&long_entry\"] = \"No\"\n",
    "df[\"&fake_long_exit\"] = \"No\"\n",
    "df[\"&fake_long_entry\"] = \"No\"\n",
    "df.loc[valley, \"&fake_long_entry\"] = \"Yes\"\n",
    "\n",
    "for i, v in df.loc[valley, :].iterrows():\n",
    "    for j, p in df.loc[peak, :].iterrows():\n",
    "        v_value = df.loc[i, \"close\"]\n",
    "        p_value = df.loc[j, \"close\"]\n",
    "        if j < i:\n",
    "            print(f\"Wrong order: {i}, {j}\")\n",
    "            continue\n",
    "        elif j - i > min_distance:\n",
    "            print(f\"min distance exceeded {j - i}\")\n",
    "            break\n",
    "        elif (p_value - v_value) / v_value > min_threshold:\n",
    "            print(f\"threshold exceeded: {v_value}, {p_value}\")\n",
    "            df.loc[i, \"&long_entry\"] = \"Yes\"\n",
    "            df.loc[j, \"&long_exit\"] = \"Yes\"\n",
    "            break\n",
    "        else:\n",
    "            print(f\"Insufficient peak found: {v_value}, {p_value}\")\n",
    "            df.loc[j, \"&fake_long_exit\"] = \"Yes\"\n",
    "\n",
    "# Ensure no conflicting labels\n",
    "df.loc[df[\"&long_exit\"] == \"Yes\", \"&fake_long_exit\"] = \"No\""
   ]
  },
  {
   "cell_type": "code",
   "execution_count": null,
   "id": "c40a8a94",
   "metadata": {},
   "outputs": [],
   "source": [
    "df.head(50)"
   ]
  },
  {
   "cell_type": "code",
   "execution_count": null,
   "id": "14aa0d65",
   "metadata": {},
   "outputs": [],
   "source": [
    "from catboost import CatBoostClassifier\n",
    "\n",
    "df[\"dummy\"] = df[\"close\"] *4\n",
    "X_train = df[[\"close\", \"dummy\"]]\n",
    "y_train = df[[\"&long_exit\", \"&long_entry\", \"&fake_long_exit\", \"&fake_long_entry\"]]\n",
    "\n",
    "clf = CatBoostClassifier(loss_function=\"MultiLogloss\")\n",
    "clf.fit(X_train, y_train)"
   ]
  },
  {
   "cell_type": "code",
   "execution_count": null,
   "id": "410fd367",
   "metadata": {},
   "outputs": [],
   "source": [
    "clf.predict(X_train)"
   ]
  },
  {
   "cell_type": "code",
   "execution_count": null,
   "id": "6749acd2",
   "metadata": {},
   "outputs": [],
   "source": [
    "df[[\"long_exit\", \"long_entry\", \"fake_long_exit\", \"fake_long_entry\"]].replace(replace_rules, inplace=True)\n",
    "y_train"
   ]
  },
  {
   "cell_type": "code",
   "execution_count": null,
   "id": "f7e80d9e",
   "metadata": {},
   "outputs": [],
   "source": [
    "y_train"
   ]
  },
  {
   "cell_type": "code",
   "execution_count": null,
   "id": "1d8a29fc",
   "metadata": {},
   "outputs": [],
   "source": [
    "# Longs\n",
    "threshold = 0.01\n",
    "max_distance = 20\n",
    "seeking = \"valley\"\n",
    "df[\"valley_target\"] = 0\n",
    "df[\"peak_target\"] = 0\n",
    "\n",
    "for i, r in minmax_df.iterrows():\n",
    "    if seeking == \"valley\":\n",
    "        print(\"seeking valley\")\n",
    "        # Find valley\n",
    "        if r[\"valley\"] == 1:\n",
    "            valley_value = r[\"close\"]\n",
    "            valley_idx = i\n",
    "            print(f\"found valley with value: {valley_value} at {i}\")\n",
    "            seeking = \"peak\"\n",
    "        continue\n",
    "        \n",
    "    if seeking == \"peak\":\n",
    "        print(\"seeking peak\")\n",
    "        # Check if max_distance exceeded\n",
    "        if i - valley_idx > max_distance:\n",
    "            print(\"max distance exceeded\")\n",
    "            seeking = \"valley\"\n",
    "            continue\n",
    "        # Compare to next peak\n",
    "        if r[\"peak\"] == 1:\n",
    "            peak_value = r[\"close\"]\n",
    "            pct_delta = (peak_value - valley_value)/valley_value\n",
    "            print(f\"found peak with delta: {pct_delta}\")\n",
    "            if pct_delta > threshold:\n",
    "                print(f\"confirmed peak at {i}\")\n",
    "                df.at[valley_idx, \"valley_target\"] = 1\n",
    "                df.at[i, \"peak_target\"] = 1\n",
    "                seeking = \"valley\""
   ]
  },
  {
   "cell_type": "code",
   "execution_count": null,
   "id": "cecd77c2",
   "metadata": {},
   "outputs": [],
   "source": [
    "df[\"close\"].plot(figsize=(20,8))\n",
    "df[\"peak_target\"].plot(secondary_y=True)\n",
    "df[\"valley_target\"].plot(secondary_y=True)"
   ]
  },
  {
   "cell_type": "code",
   "execution_count": null,
   "id": "143fae7e",
   "metadata": {},
   "outputs": [],
   "source": [
    "from scipy.spatial import distance_matrix\n",
    "from scipy.spatial.distance import cdist, pdist, squareform\n",
    "\n",
    "peak_values = df[df[\"peak\"] == 1][\"close\"].values.reshape(-1,1)\n",
    "valley_values = df[df[\"valley\"] == 1][\"close\"].values.reshape(-1,1)\n",
    "\n",
    "def custom_calc(x, y):\n",
    "    return (y-x)/x\n",
    "\n",
    "d = cdist(peak_values, valley_values, metric=custom_calc)\n",
    "\n",
    "d"
   ]
  },
  {
   "cell_type": "code",
   "execution_count": null,
   "id": "8fcbb9af",
   "metadata": {},
   "outputs": [],
   "source": [
    "from scipy.spatial import distance_matrix\n",
    "from scipy.spatial.distance import cdist, pdist, squareform\n",
    "\n",
    "close_prices = df[\"close\"].values.reshape(-1,1)\n",
    "\n",
    "def custom_calc(x, y):\n",
    "    return (y-x)/x\n",
    "\n",
    "d = pdist(close_prices, metric=custom_calc)\n",
    "\n",
    "squareform(d).shape"
   ]
  },
  {
   "cell_type": "code",
   "execution_count": null,
   "id": "9151eacf",
   "metadata": {},
   "outputs": [],
   "source": [
    "df[\"valley\"] == 1"
   ]
  },
  {
   "cell_type": "code",
   "execution_count": null,
   "id": "2aad2c8b",
   "metadata": {},
   "outputs": [],
   "source": [
    "# Define Min & Max binary indicators\n",
    "min_peaks = argrelextrema(df[\"close\"].values, np.less, order=20)\n",
    "max_peaks = argrelextrema(df[\"close\"].values, np.greater, order=20)\n",
    "\n",
    "df[\"&s-minima\"] = 0\n",
    "df[\"&s-maxima\"] = 0\n",
    "df[\"real-minima\"] = 0\n",
    "df[\"real-maxima\"] = 0\n",
    "\n",
    "df[\"pct_ahead\"] = df[\"close\"].shift(-1) / df[\"close\"]\n",
    "df[\"pct_be\"] = df[\"close\"].shift(-1) / df[\"close\"]\n",
    "\n",
    "proximity_tolerance = 0.1\n",
    "\n",
    "for mp in min_peaks[0]:\n",
    "    df.at[mp, \"real-minima\"] = 1\n",
    "    df.at[mp, \"&s-minima\"] = 1\n",
    "    min_peak_value = df.at[mp, \"close\"]\n",
    "    if abs(df.at[mp - 1, \"close\"] / min_peak_value - 1) < proximity_tolerance:\n",
    "        df.at[mp - 1, \"&s-minima\"] = 1\n",
    "    if abs(df.at[mp + 1, \"close\"] / min_peak_value - 1) < proximity_tolerance:\n",
    "        df.at[mp + 1, \"&s-minima\"] = 1\n",
    "\n",
    "for mp in max_peaks[0]:\n",
    "    df.at[mp, \"real-maxima\"] = 1\n",
    "    df.at[mp, \"&s-maxima\"] = 1\n",
    "    max_peak_value = df.at[mp, \"close\"]\n",
    "    if abs(df.at[mp - 1, \"close\"] / max_peak_value - 1) < proximity_tolerance:\n",
    "        df.at[mp - 1, \"&s-maxima\"] = 1\n",
    "    if abs(df.at[mp + 1, \"close\"] / max_peak_value - 1) < proximity_tolerance:\n",
    "        df.at[mp + 1, \"&s-maxima\"] = 1"
   ]
  },
  {
   "cell_type": "code",
   "execution_count": 14,
   "id": "65305658",
   "metadata": {},
   "outputs": [
    {
     "data": {
      "text/html": [
       "<div>\n",
       "<style scoped>\n",
       "    .dataframe tbody tr th:only-of-type {\n",
       "        vertical-align: middle;\n",
       "    }\n",
       "\n",
       "    .dataframe tbody tr th {\n",
       "        vertical-align: top;\n",
       "    }\n",
       "\n",
       "    .dataframe thead th {\n",
       "        text-align: right;\n",
       "    }\n",
       "</style>\n",
       "<table border=\"1\" class=\"dataframe\">\n",
       "  <thead>\n",
       "    <tr style=\"text-align: right;\">\n",
       "      <th></th>\n",
       "      <th>close</th>\n",
       "      <th>maxima</th>\n",
       "      <th>minima</th>\n",
       "    </tr>\n",
       "  </thead>\n",
       "  <tbody>\n",
       "    <tr>\n",
       "      <th>0</th>\n",
       "      <td>1000.1</td>\n",
       "      <td>0</td>\n",
       "      <td>0</td>\n",
       "    </tr>\n",
       "    <tr>\n",
       "      <th>1</th>\n",
       "      <td>993.2</td>\n",
       "      <td>0</td>\n",
       "      <td>0</td>\n",
       "    </tr>\n",
       "    <tr>\n",
       "      <th>2</th>\n",
       "      <td>999.3</td>\n",
       "      <td>0</td>\n",
       "      <td>0</td>\n",
       "    </tr>\n",
       "    <tr>\n",
       "      <th>3</th>\n",
       "      <td>996.4</td>\n",
       "      <td>0</td>\n",
       "      <td>0</td>\n",
       "    </tr>\n",
       "    <tr>\n",
       "      <th>4</th>\n",
       "      <td>987.5</td>\n",
       "      <td>0</td>\n",
       "      <td>0</td>\n",
       "    </tr>\n",
       "    <tr>\n",
       "      <th>...</th>\n",
       "      <td>...</td>\n",
       "      <td>...</td>\n",
       "      <td>...</td>\n",
       "    </tr>\n",
       "    <tr>\n",
       "      <th>995</th>\n",
       "      <td>647.6</td>\n",
       "      <td>0</td>\n",
       "      <td>0</td>\n",
       "    </tr>\n",
       "    <tr>\n",
       "      <th>996</th>\n",
       "      <td>653.7</td>\n",
       "      <td>0</td>\n",
       "      <td>0</td>\n",
       "    </tr>\n",
       "    <tr>\n",
       "      <th>997</th>\n",
       "      <td>656.8</td>\n",
       "      <td>0</td>\n",
       "      <td>0</td>\n",
       "    </tr>\n",
       "    <tr>\n",
       "      <th>998</th>\n",
       "      <td>654.9</td>\n",
       "      <td>0</td>\n",
       "      <td>0</td>\n",
       "    </tr>\n",
       "    <tr>\n",
       "      <th>999</th>\n",
       "      <td>657.0</td>\n",
       "      <td>0</td>\n",
       "      <td>0</td>\n",
       "    </tr>\n",
       "  </tbody>\n",
       "</table>\n",
       "<p>1000 rows × 3 columns</p>\n",
       "</div>"
      ],
      "text/plain": [
       "      close  maxima  minima\n",
       "0    1000.1       0       0\n",
       "1     993.2       0       0\n",
       "2     999.3       0       0\n",
       "3     996.4       0       0\n",
       "4     987.5       0       0\n",
       "..      ...     ...     ...\n",
       "995   647.6       0       0\n",
       "996   653.7       0       0\n",
       "997   656.8       0       0\n",
       "998   654.9       0       0\n",
       "999   657.0       0       0\n",
       "\n",
       "[1000 rows x 3 columns]"
      ]
     },
     "execution_count": 14,
     "metadata": {},
     "output_type": "execute_result"
    }
   ],
   "source": [
    "df"
   ]
  },
  {
   "cell_type": "code",
   "execution_count": 167,
   "id": "44061f02",
   "metadata": {},
   "outputs": [
    {
     "data": {
      "text/plain": [
       "0     False\n",
       "1     False\n",
       "2     False\n",
       "3     False\n",
       "4     False\n",
       "      ...  \n",
       "95    False\n",
       "96    False\n",
       "97    False\n",
       "98    False\n",
       "99    False\n",
       "Name: long_exit, Length: 100, dtype: bool"
      ]
     },
     "execution_count": 167,
     "metadata": {},
     "output_type": "execute_result"
    }
   ],
   "source": [
    "df.loc[:, \"long_exit\"] == 1"
   ]
  },
  {
   "cell_type": "code",
   "execution_count": null,
   "id": "7d7cdef8",
   "metadata": {},
   "outputs": [],
   "source": []
  },
  {
   "cell_type": "code",
   "execution_count": null,
   "id": "6db45379",
   "metadata": {
    "scrolled": true
   },
   "outputs": [],
   "source": [
    "df.head(50)"
   ]
  },
  {
   "cell_type": "code",
   "execution_count": null,
   "id": "72a12370",
   "metadata": {},
   "outputs": [],
   "source": [
    "from scipy.signal import find_peaks"
   ]
  },
  {
   "cell_type": "code",
   "execution_count": null,
   "id": "cad2ffbe",
   "metadata": {},
   "outputs": [],
   "source": [
    "df = yf.download(\"AAPL\")[\"Close\"][8000:].reset_index()\n",
    "df"
   ]
  },
  {
   "cell_type": "code",
   "execution_count": null,
   "id": "53f6d694",
   "metadata": {},
   "outputs": [],
   "source": [
    "max_peaks, _ = find_peaks(df[\"Close\"], prominence=2, wlen=400)\n",
    "min_peaks, _ = find_peaks(-df[\"Close\"], prominence=2, wlen=400)"
   ]
  },
  {
   "cell_type": "code",
   "execution_count": null,
   "id": "5288d367",
   "metadata": {},
   "outputs": [],
   "source": [
    "df[\"maxima\"] = 0\n",
    "df.loc[max_peaks, \"maxima\"] = 1\n",
    "\n",
    "df[\"minima\"] = 0\n",
    "df.loc[min_peaks, \"minima\"] = 1\n",
    "\n",
    "df[\"Close\"].plot(figsize=(20,8))\n",
    "df[\"maxima\"].plot(secondary_y=True)\n",
    "df[\"minima\"].plot(secondary_y=True)"
   ]
  },
  {
   "cell_type": "code",
   "execution_count": null,
   "id": "9d85b0f0",
   "metadata": {},
   "outputs": [],
   "source": [
    "df[\"max_peak\"] = 0\n",
    "df.loc[peak_idx, \"max_peak\"] = df.loc[peak_idx, \"close\"]"
   ]
  },
  {
   "cell_type": "code",
   "execution_count": null,
   "id": "77b7224a",
   "metadata": {},
   "outputs": [],
   "source": [
    "df[\"close\"].plot(figsize=(20,10), ylim=(850, 1100))\n",
    "df[\"max_peak\"].plot()"
   ]
  },
  {
   "cell_type": "code",
   "execution_count": null,
   "id": "6fc79056",
   "metadata": {},
   "outputs": [],
   "source": [
    "import yfinance as yf"
   ]
  },
  {
   "cell_type": "code",
   "execution_count": null,
   "id": "efc29b1e",
   "metadata": {},
   "outputs": [],
   "source": []
  },
  {
   "cell_type": "code",
   "execution_count": null,
   "id": "9a58b19b",
   "metadata": {},
   "outputs": [],
   "source": []
  }
 ],
 "metadata": {
  "kernelspec": {
   "display_name": ".env",
   "language": "python",
   "name": ".env"
  },
  "language_info": {
   "codemirror_mode": {
    "name": "ipython",
    "version": 3
   },
   "file_extension": ".py",
   "mimetype": "text/x-python",
   "name": "python",
   "nbconvert_exporter": "python",
   "pygments_lexer": "ipython3",
   "version": "3.9.13"
  }
 },
 "nbformat": 4,
 "nbformat_minor": 5
}
